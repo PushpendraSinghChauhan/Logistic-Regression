{
 "cells": [
  {
   "cell_type": "markdown",
   "metadata": {},
   "source": [
    "# Objective : - Applying Logistic Regression on Amazon Fine Food Reviews"
   ]
  },
  {
   "cell_type": "code",
   "execution_count": 2,
   "metadata": {},
   "outputs": [],
   "source": [
    "# Importing libraries\n",
    "import warnings\n",
    "warnings.filterwarnings(\"ignore\")\n",
    "\n",
    "import sqlite3\n",
    "import pandas as pd\n",
    "import numpy as np\n",
    "import nltk\n",
    "import string\n",
    "import matplotlib.pyplot as plt\n",
    "%matplotlib inline\n",
    "import seaborn as sns\n",
    "from sklearn.feature_extraction.text import TfidfTransformer\n",
    "from sklearn.feature_extraction.text import TfidfVectorizer\n",
    "\n",
    "from sklearn.feature_extraction.text import CountVectorizer\n",
    "from nltk.stem.porter import PorterStemmer\n",
    "\n",
    "import re\n",
    "\n",
    "import string\n",
    "from nltk.corpus import stopwords\n",
    "from nltk.stem import PorterStemmer\n",
    "from nltk.stem.wordnet import WordNetLemmatizer\n",
    "\n",
    "from gensim.models import Word2Vec\n",
    "from gensim.models import KeyedVectors\n",
    "import pickle"
   ]
  },
  {
   "cell_type": "markdown",
   "metadata": {},
   "source": [
    "# Loading Data"
   ]
  },
  {
   "cell_type": "code",
   "execution_count": 3,
   "metadata": {},
   "outputs": [
    {
     "name": "stdout",
     "output_type": "stream",
     "text": [
      "(525814, 10)\n"
     ]
    },
    {
     "data": {
      "text/html": [
       "<div>\n",
       "<style scoped>\n",
       "    .dataframe tbody tr th:only-of-type {\n",
       "        vertical-align: middle;\n",
       "    }\n",
       "\n",
       "    .dataframe tbody tr th {\n",
       "        vertical-align: top;\n",
       "    }\n",
       "\n",
       "    .dataframe thead th {\n",
       "        text-align: right;\n",
       "    }\n",
       "</style>\n",
       "<table border=\"1\" class=\"dataframe\">\n",
       "  <thead>\n",
       "    <tr style=\"text-align: right;\">\n",
       "      <th></th>\n",
       "      <th>Id</th>\n",
       "      <th>ProductId</th>\n",
       "      <th>UserId</th>\n",
       "      <th>ProfileName</th>\n",
       "      <th>HelpfulnessNumerator</th>\n",
       "      <th>HelpfulnessDenominator</th>\n",
       "      <th>Score</th>\n",
       "      <th>Time</th>\n",
       "      <th>Summary</th>\n",
       "      <th>Text</th>\n",
       "    </tr>\n",
       "  </thead>\n",
       "  <tbody>\n",
       "    <tr>\n",
       "      <th>0</th>\n",
       "      <td>1</td>\n",
       "      <td>B001E4KFG0</td>\n",
       "      <td>A3SGXH7AUHU8GW</td>\n",
       "      <td>delmartian</td>\n",
       "      <td>1</td>\n",
       "      <td>1</td>\n",
       "      <td>positive</td>\n",
       "      <td>1303862400</td>\n",
       "      <td>Good Quality Dog Food</td>\n",
       "      <td>I have bought several of the Vitality canned d...</td>\n",
       "    </tr>\n",
       "    <tr>\n",
       "      <th>1</th>\n",
       "      <td>2</td>\n",
       "      <td>B00813GRG4</td>\n",
       "      <td>A1D87F6ZCVE5NK</td>\n",
       "      <td>dll pa</td>\n",
       "      <td>0</td>\n",
       "      <td>0</td>\n",
       "      <td>negative</td>\n",
       "      <td>1346976000</td>\n",
       "      <td>Not as Advertised</td>\n",
       "      <td>Product arrived labeled as Jumbo Salted Peanut...</td>\n",
       "    </tr>\n",
       "    <tr>\n",
       "      <th>2</th>\n",
       "      <td>3</td>\n",
       "      <td>B000LQOCH0</td>\n",
       "      <td>ABXLMWJIXXAIN</td>\n",
       "      <td>Natalia Corres \"Natalia Corres\"</td>\n",
       "      <td>1</td>\n",
       "      <td>1</td>\n",
       "      <td>positive</td>\n",
       "      <td>1219017600</td>\n",
       "      <td>\"Delight\" says it all</td>\n",
       "      <td>This is a confection that has been around a fe...</td>\n",
       "    </tr>\n",
       "    <tr>\n",
       "      <th>3</th>\n",
       "      <td>4</td>\n",
       "      <td>B000UA0QIQ</td>\n",
       "      <td>A395BORC6FGVXV</td>\n",
       "      <td>Karl</td>\n",
       "      <td>3</td>\n",
       "      <td>3</td>\n",
       "      <td>negative</td>\n",
       "      <td>1307923200</td>\n",
       "      <td>Cough Medicine</td>\n",
       "      <td>If you are looking for the secret ingredient i...</td>\n",
       "    </tr>\n",
       "    <tr>\n",
       "      <th>4</th>\n",
       "      <td>5</td>\n",
       "      <td>B006K2ZZ7K</td>\n",
       "      <td>A1UQRSCLF8GW1T</td>\n",
       "      <td>Michael D. Bigham \"M. Wassir\"</td>\n",
       "      <td>0</td>\n",
       "      <td>0</td>\n",
       "      <td>positive</td>\n",
       "      <td>1350777600</td>\n",
       "      <td>Great taffy</td>\n",
       "      <td>Great taffy at a great price.  There was a wid...</td>\n",
       "    </tr>\n",
       "  </tbody>\n",
       "</table>\n",
       "</div>"
      ],
      "text/plain": [
       "   Id   ProductId          UserId                      ProfileName  \\\n",
       "0   1  B001E4KFG0  A3SGXH7AUHU8GW                       delmartian   \n",
       "1   2  B00813GRG4  A1D87F6ZCVE5NK                           dll pa   \n",
       "2   3  B000LQOCH0   ABXLMWJIXXAIN  Natalia Corres \"Natalia Corres\"   \n",
       "3   4  B000UA0QIQ  A395BORC6FGVXV                             Karl   \n",
       "4   5  B006K2ZZ7K  A1UQRSCLF8GW1T    Michael D. Bigham \"M. Wassir\"   \n",
       "\n",
       "   HelpfulnessNumerator  HelpfulnessDenominator     Score        Time  \\\n",
       "0                     1                       1  positive  1303862400   \n",
       "1                     0                       0  negative  1346976000   \n",
       "2                     1                       1  positive  1219017600   \n",
       "3                     3                       3  negative  1307923200   \n",
       "4                     0                       0  positive  1350777600   \n",
       "\n",
       "                 Summary                                               Text  \n",
       "0  Good Quality Dog Food  I have bought several of the Vitality canned d...  \n",
       "1      Not as Advertised  Product arrived labeled as Jumbo Salted Peanut...  \n",
       "2  \"Delight\" says it all  This is a confection that has been around a fe...  \n",
       "3         Cough Medicine  If you are looking for the secret ingredient i...  \n",
       "4            Great taffy  Great taffy at a great price.  There was a wid...  "
      ]
     },
     "execution_count": 3,
     "metadata": {},
     "output_type": "execute_result"
    }
   ],
   "source": [
    "# using the SQLite Table to read data.\n",
    "con1 = sqlite3.connect('database.sqlite')\n",
    "\n",
    "# Eliminating neutral reviews i.e. those reviews with Score = 3\n",
    "filtered_data = pd.read_sql_query(\" SELECT * FROM Reviews WHERE Score != 3 \", con1)\n",
    "\n",
    "# Give reviews with Score>3 a positive rating, and reviews with a score<3 a negative rating.\n",
    "def polarity(x):\n",
    "    if x < 3:\n",
    "        return 'negative'\n",
    "    return 'positive'\n",
    "\n",
    "# Applying polarity function on Score column of filtered_data\n",
    "filtered_data['Score'] = filtered_data['Score'].map(polarity)\n",
    "\n",
    "print(filtered_data.shape)\n",
    "filtered_data.head()"
   ]
  },
  {
   "cell_type": "markdown",
   "metadata": {},
   "source": [
    "# Data Cleaning: Deduplication"
   ]
  },
  {
   "cell_type": "code",
   "execution_count": 4,
   "metadata": {},
   "outputs": [
    {
     "name": "stdout",
     "output_type": "stream",
     "text": [
      "(364173, 10)\n"
     ]
    },
    {
     "data": {
      "text/plain": [
       "69.25890143662969"
      ]
     },
     "execution_count": 4,
     "metadata": {},
     "output_type": "execute_result"
    }
   ],
   "source": [
    "#Sorting data according to ProductId in ascending order\n",
    "sorted_data=filtered_data.sort_values('ProductId', axis=0, ascending=True, inplace=False, kind='quicksort', na_position='last')\n",
    "\n",
    "#Deduplication of entries\n",
    "final=sorted_data.drop_duplicates(subset={\"UserId\",\"ProfileName\",\"Time\",\"Text\"}, keep='first', inplace=False)\n",
    "print(final.shape)\n",
    "\n",
    "#Checking to see how much % of data still remains\n",
    "((final.shape[0]*1.0)/(filtered_data.shape[0]*1.0)*100)"
   ]
  },
  {
   "cell_type": "code",
   "execution_count": 5,
   "metadata": {},
   "outputs": [
    {
     "name": "stdout",
     "output_type": "stream",
     "text": [
      "(364171, 10)\n"
     ]
    },
    {
     "data": {
      "text/html": [
       "<div>\n",
       "<style scoped>\n",
       "    .dataframe tbody tr th:only-of-type {\n",
       "        vertical-align: middle;\n",
       "    }\n",
       "\n",
       "    .dataframe tbody tr th {\n",
       "        vertical-align: top;\n",
       "    }\n",
       "\n",
       "    .dataframe thead th {\n",
       "        text-align: right;\n",
       "    }\n",
       "</style>\n",
       "<table border=\"1\" class=\"dataframe\">\n",
       "  <thead>\n",
       "    <tr style=\"text-align: right;\">\n",
       "      <th></th>\n",
       "      <th>Id</th>\n",
       "      <th>ProductId</th>\n",
       "      <th>UserId</th>\n",
       "      <th>ProfileName</th>\n",
       "      <th>HelpfulnessNumerator</th>\n",
       "      <th>HelpfulnessDenominator</th>\n",
       "      <th>Score</th>\n",
       "      <th>Time</th>\n",
       "      <th>Summary</th>\n",
       "      <th>Text</th>\n",
       "    </tr>\n",
       "  </thead>\n",
       "  <tbody>\n",
       "    <tr>\n",
       "      <th>138683</th>\n",
       "      <td>150501</td>\n",
       "      <td>0006641040</td>\n",
       "      <td>AJ46FKXOVC7NR</td>\n",
       "      <td>Nicholas A Mesiano</td>\n",
       "      <td>2</td>\n",
       "      <td>2</td>\n",
       "      <td>positive</td>\n",
       "      <td>940809600</td>\n",
       "      <td>This whole series is great way to spend time w...</td>\n",
       "      <td>I can remember seeing the show when it aired o...</td>\n",
       "    </tr>\n",
       "    <tr>\n",
       "      <th>138676</th>\n",
       "      <td>150493</td>\n",
       "      <td>0006641040</td>\n",
       "      <td>AMX0PJKV4PPNJ</td>\n",
       "      <td>E. R. Bird \"Ramseelbird\"</td>\n",
       "      <td>71</td>\n",
       "      <td>72</td>\n",
       "      <td>positive</td>\n",
       "      <td>1096416000</td>\n",
       "      <td>Read it once. Read it twice. Reading Chicken S...</td>\n",
       "      <td>These days, when a person says, \"chicken soup\"...</td>\n",
       "    </tr>\n",
       "    <tr>\n",
       "      <th>138682</th>\n",
       "      <td>150500</td>\n",
       "      <td>0006641040</td>\n",
       "      <td>A1IJKK6Q1GTEAY</td>\n",
       "      <td>A Customer</td>\n",
       "      <td>2</td>\n",
       "      <td>2</td>\n",
       "      <td>positive</td>\n",
       "      <td>1009324800</td>\n",
       "      <td>It Was a favorite!</td>\n",
       "      <td>This was a favorite book of mine when I was a ...</td>\n",
       "    </tr>\n",
       "    <tr>\n",
       "      <th>138681</th>\n",
       "      <td>150499</td>\n",
       "      <td>0006641040</td>\n",
       "      <td>A3E7R866M94L0C</td>\n",
       "      <td>L. Barker \"simienwolf\"</td>\n",
       "      <td>2</td>\n",
       "      <td>2</td>\n",
       "      <td>positive</td>\n",
       "      <td>1065830400</td>\n",
       "      <td>Can't explain why</td>\n",
       "      <td>This book has been a favorite of mine since I ...</td>\n",
       "    </tr>\n",
       "    <tr>\n",
       "      <th>476617</th>\n",
       "      <td>515426</td>\n",
       "      <td>141278509X</td>\n",
       "      <td>AB1A5EGHHVA9M</td>\n",
       "      <td>CHelmic</td>\n",
       "      <td>1</td>\n",
       "      <td>1</td>\n",
       "      <td>positive</td>\n",
       "      <td>1332547200</td>\n",
       "      <td>The best drink mix</td>\n",
       "      <td>This product by Archer Farms is the best drink...</td>\n",
       "    </tr>\n",
       "    <tr>\n",
       "      <th>22621</th>\n",
       "      <td>24751</td>\n",
       "      <td>2734888454</td>\n",
       "      <td>A1C298ITT645B6</td>\n",
       "      <td>Hugh G. Pritchard</td>\n",
       "      <td>0</td>\n",
       "      <td>0</td>\n",
       "      <td>positive</td>\n",
       "      <td>1195948800</td>\n",
       "      <td>Dog Lover Delites</td>\n",
       "      <td>Our dogs just love them.  I saw them in a pet ...</td>\n",
       "    </tr>\n",
       "    <tr>\n",
       "      <th>22620</th>\n",
       "      <td>24750</td>\n",
       "      <td>2734888454</td>\n",
       "      <td>A13ISQV0U9GZIC</td>\n",
       "      <td>Sandikaye</td>\n",
       "      <td>1</td>\n",
       "      <td>1</td>\n",
       "      <td>negative</td>\n",
       "      <td>1192060800</td>\n",
       "      <td>made in china</td>\n",
       "      <td>My dogs loves this chicken but its a product f...</td>\n",
       "    </tr>\n",
       "    <tr>\n",
       "      <th>284375</th>\n",
       "      <td>308077</td>\n",
       "      <td>2841233731</td>\n",
       "      <td>A3QD68O22M2XHQ</td>\n",
       "      <td>LABRNTH</td>\n",
       "      <td>0</td>\n",
       "      <td>0</td>\n",
       "      <td>positive</td>\n",
       "      <td>1345852800</td>\n",
       "      <td>Great recipe book for my babycook</td>\n",
       "      <td>This book is easy to read and the ingredients ...</td>\n",
       "    </tr>\n",
       "    <tr>\n",
       "      <th>157850</th>\n",
       "      <td>171161</td>\n",
       "      <td>7310172001</td>\n",
       "      <td>AFXMWPNS1BLU4</td>\n",
       "      <td>H. Sandler</td>\n",
       "      <td>0</td>\n",
       "      <td>0</td>\n",
       "      <td>positive</td>\n",
       "      <td>1229385600</td>\n",
       "      <td>Excellent treats</td>\n",
       "      <td>I have been feeding my greyhounds these treats...</td>\n",
       "    </tr>\n",
       "    <tr>\n",
       "      <th>157849</th>\n",
       "      <td>171160</td>\n",
       "      <td>7310172001</td>\n",
       "      <td>A74C7IARQEM1R</td>\n",
       "      <td>stucker</td>\n",
       "      <td>0</td>\n",
       "      <td>0</td>\n",
       "      <td>positive</td>\n",
       "      <td>1230076800</td>\n",
       "      <td>Sophie's Treats</td>\n",
       "      <td>This is one product that my welsh terrier can ...</td>\n",
       "    </tr>\n",
       "    <tr>\n",
       "      <th>157833</th>\n",
       "      <td>171144</td>\n",
       "      <td>7310172001</td>\n",
       "      <td>A1V5MY8V9AWUQB</td>\n",
       "      <td>Cheryl Sapper \"champagne girl\"</td>\n",
       "      <td>0</td>\n",
       "      <td>0</td>\n",
       "      <td>positive</td>\n",
       "      <td>1244764800</td>\n",
       "      <td>THE BEST healthy dog treat!</td>\n",
       "      <td>This is the ONLY dog treat that my Lhasa Apso ...</td>\n",
       "    </tr>\n",
       "    <tr>\n",
       "      <th>157832</th>\n",
       "      <td>171143</td>\n",
       "      <td>7310172001</td>\n",
       "      <td>A2SWO60IW01VPX</td>\n",
       "      <td>Sam</td>\n",
       "      <td>0</td>\n",
       "      <td>0</td>\n",
       "      <td>positive</td>\n",
       "      <td>1252022400</td>\n",
       "      <td>My Alaskan Malamute Loves Them!!</td>\n",
       "      <td>These liver treas are phenomenal. When i recei...</td>\n",
       "    </tr>\n",
       "    <tr>\n",
       "      <th>157837</th>\n",
       "      <td>171148</td>\n",
       "      <td>7310172001</td>\n",
       "      <td>A3TFTWTG2CC1GA</td>\n",
       "      <td>J. Umphress</td>\n",
       "      <td>0</td>\n",
       "      <td>0</td>\n",
       "      <td>positive</td>\n",
       "      <td>1240272000</td>\n",
       "      <td>Best treat ever!</td>\n",
       "      <td>This was the only treat my dog liked during ob...</td>\n",
       "    </tr>\n",
       "    <tr>\n",
       "      <th>157831</th>\n",
       "      <td>171142</td>\n",
       "      <td>7310172001</td>\n",
       "      <td>A2ZO1AYFVQYG44</td>\n",
       "      <td>Cindy Rellie \"Rellie\"</td>\n",
       "      <td>0</td>\n",
       "      <td>0</td>\n",
       "      <td>positive</td>\n",
       "      <td>1254960000</td>\n",
       "      <td>my 12 year old maltese has always loved these</td>\n",
       "      <td>No waste , even if she is having a  day when s...</td>\n",
       "    </tr>\n",
       "    <tr>\n",
       "      <th>157830</th>\n",
       "      <td>171141</td>\n",
       "      <td>7310172001</td>\n",
       "      <td>AZ40270J4JBZN</td>\n",
       "      <td>Zhinka Chunmee \"gamer from way back in the 70's\"</td>\n",
       "      <td>0</td>\n",
       "      <td>0</td>\n",
       "      <td>positive</td>\n",
       "      <td>1264291200</td>\n",
       "      <td>Dogs, Cats, Ferrets all love this</td>\n",
       "      <td>I wanted a treat that was accepted and well li...</td>\n",
       "    </tr>\n",
       "    <tr>\n",
       "      <th>157829</th>\n",
       "      <td>171140</td>\n",
       "      <td>7310172001</td>\n",
       "      <td>ADXXVGRCGQQUO</td>\n",
       "      <td>Richard Pearlstein</td>\n",
       "      <td>0</td>\n",
       "      <td>0</td>\n",
       "      <td>positive</td>\n",
       "      <td>1264377600</td>\n",
       "      <td>5 snouts!</td>\n",
       "      <td>My Westie loves these things!  She loves anyth...</td>\n",
       "    </tr>\n",
       "    <tr>\n",
       "      <th>157828</th>\n",
       "      <td>171139</td>\n",
       "      <td>7310172001</td>\n",
       "      <td>A13MS1JQG2ADOJ</td>\n",
       "      <td>C. Perrone</td>\n",
       "      <td>0</td>\n",
       "      <td>0</td>\n",
       "      <td>positive</td>\n",
       "      <td>1265760000</td>\n",
       "      <td>Best dog treat ever</td>\n",
       "      <td>This is the only dog treat that my terrier wil...</td>\n",
       "    </tr>\n",
       "    <tr>\n",
       "      <th>157827</th>\n",
       "      <td>171138</td>\n",
       "      <td>7310172001</td>\n",
       "      <td>A13LAE0YTXA11B</td>\n",
       "      <td>Dita Vyslouzilova \"dita\"</td>\n",
       "      <td>0</td>\n",
       "      <td>0</td>\n",
       "      <td>positive</td>\n",
       "      <td>1269216000</td>\n",
       "      <td>Great for puppy training</td>\n",
       "      <td>New puppy loves this, only treat he will pay a...</td>\n",
       "    </tr>\n",
       "    <tr>\n",
       "      <th>157848</th>\n",
       "      <td>171159</td>\n",
       "      <td>7310172001</td>\n",
       "      <td>A16GY2RCF410DT</td>\n",
       "      <td>LB</td>\n",
       "      <td>0</td>\n",
       "      <td>0</td>\n",
       "      <td>positive</td>\n",
       "      <td>1231718400</td>\n",
       "      <td>Great!</td>\n",
       "      <td>My dog loves these treats!  We started using t...</td>\n",
       "    </tr>\n",
       "    <tr>\n",
       "      <th>157834</th>\n",
       "      <td>171145</td>\n",
       "      <td>7310172001</td>\n",
       "      <td>A1L8DNQYY69L2Z</td>\n",
       "      <td>R. Flores</td>\n",
       "      <td>0</td>\n",
       "      <td>0</td>\n",
       "      <td>positive</td>\n",
       "      <td>1243728000</td>\n",
       "      <td>Terrific Treats</td>\n",
       "      <td>This is a great treat which all three of my do...</td>\n",
       "    </tr>\n",
       "  </tbody>\n",
       "</table>\n",
       "</div>"
      ],
      "text/plain": [
       "            Id   ProductId          UserId  \\\n",
       "138683  150501  0006641040   AJ46FKXOVC7NR   \n",
       "138676  150493  0006641040   AMX0PJKV4PPNJ   \n",
       "138682  150500  0006641040  A1IJKK6Q1GTEAY   \n",
       "138681  150499  0006641040  A3E7R866M94L0C   \n",
       "476617  515426  141278509X   AB1A5EGHHVA9M   \n",
       "22621    24751  2734888454  A1C298ITT645B6   \n",
       "22620    24750  2734888454  A13ISQV0U9GZIC   \n",
       "284375  308077  2841233731  A3QD68O22M2XHQ   \n",
       "157850  171161  7310172001   AFXMWPNS1BLU4   \n",
       "157849  171160  7310172001   A74C7IARQEM1R   \n",
       "157833  171144  7310172001  A1V5MY8V9AWUQB   \n",
       "157832  171143  7310172001  A2SWO60IW01VPX   \n",
       "157837  171148  7310172001  A3TFTWTG2CC1GA   \n",
       "157831  171142  7310172001  A2ZO1AYFVQYG44   \n",
       "157830  171141  7310172001   AZ40270J4JBZN   \n",
       "157829  171140  7310172001   ADXXVGRCGQQUO   \n",
       "157828  171139  7310172001  A13MS1JQG2ADOJ   \n",
       "157827  171138  7310172001  A13LAE0YTXA11B   \n",
       "157848  171159  7310172001  A16GY2RCF410DT   \n",
       "157834  171145  7310172001  A1L8DNQYY69L2Z   \n",
       "\n",
       "                                             ProfileName  \\\n",
       "138683                                Nicholas A Mesiano   \n",
       "138676                          E. R. Bird \"Ramseelbird\"   \n",
       "138682                                        A Customer   \n",
       "138681                            L. Barker \"simienwolf\"   \n",
       "476617                                           CHelmic   \n",
       "22621                                  Hugh G. Pritchard   \n",
       "22620                                          Sandikaye   \n",
       "284375                                           LABRNTH   \n",
       "157850                                        H. Sandler   \n",
       "157849                                           stucker   \n",
       "157833                    Cheryl Sapper \"champagne girl\"   \n",
       "157832                                               Sam   \n",
       "157837                                       J. Umphress   \n",
       "157831                             Cindy Rellie \"Rellie\"   \n",
       "157830  Zhinka Chunmee \"gamer from way back in the 70's\"   \n",
       "157829                                Richard Pearlstein   \n",
       "157828                                        C. Perrone   \n",
       "157827                          Dita Vyslouzilova \"dita\"   \n",
       "157848                                                LB   \n",
       "157834                                         R. Flores   \n",
       "\n",
       "        HelpfulnessNumerator  HelpfulnessDenominator     Score        Time  \\\n",
       "138683                     2                       2  positive   940809600   \n",
       "138676                    71                      72  positive  1096416000   \n",
       "138682                     2                       2  positive  1009324800   \n",
       "138681                     2                       2  positive  1065830400   \n",
       "476617                     1                       1  positive  1332547200   \n",
       "22621                      0                       0  positive  1195948800   \n",
       "22620                      1                       1  negative  1192060800   \n",
       "284375                     0                       0  positive  1345852800   \n",
       "157850                     0                       0  positive  1229385600   \n",
       "157849                     0                       0  positive  1230076800   \n",
       "157833                     0                       0  positive  1244764800   \n",
       "157832                     0                       0  positive  1252022400   \n",
       "157837                     0                       0  positive  1240272000   \n",
       "157831                     0                       0  positive  1254960000   \n",
       "157830                     0                       0  positive  1264291200   \n",
       "157829                     0                       0  positive  1264377600   \n",
       "157828                     0                       0  positive  1265760000   \n",
       "157827                     0                       0  positive  1269216000   \n",
       "157848                     0                       0  positive  1231718400   \n",
       "157834                     0                       0  positive  1243728000   \n",
       "\n",
       "                                                  Summary  \\\n",
       "138683  This whole series is great way to spend time w...   \n",
       "138676  Read it once. Read it twice. Reading Chicken S...   \n",
       "138682                                 It Was a favorite!   \n",
       "138681                                  Can't explain why   \n",
       "476617                                 The best drink mix   \n",
       "22621                                   Dog Lover Delites   \n",
       "22620                                       made in china   \n",
       "284375                  Great recipe book for my babycook   \n",
       "157850                                   Excellent treats   \n",
       "157849                                    Sophie's Treats   \n",
       "157833                        THE BEST healthy dog treat!   \n",
       "157832                   My Alaskan Malamute Loves Them!!   \n",
       "157837                                   Best treat ever!   \n",
       "157831      my 12 year old maltese has always loved these   \n",
       "157830                  Dogs, Cats, Ferrets all love this   \n",
       "157829                                          5 snouts!   \n",
       "157828                                Best dog treat ever   \n",
       "157827                           Great for puppy training   \n",
       "157848                                             Great!   \n",
       "157834                                    Terrific Treats   \n",
       "\n",
       "                                                     Text  \n",
       "138683  I can remember seeing the show when it aired o...  \n",
       "138676  These days, when a person says, \"chicken soup\"...  \n",
       "138682  This was a favorite book of mine when I was a ...  \n",
       "138681  This book has been a favorite of mine since I ...  \n",
       "476617  This product by Archer Farms is the best drink...  \n",
       "22621   Our dogs just love them.  I saw them in a pet ...  \n",
       "22620   My dogs loves this chicken but its a product f...  \n",
       "284375  This book is easy to read and the ingredients ...  \n",
       "157850  I have been feeding my greyhounds these treats...  \n",
       "157849  This is one product that my welsh terrier can ...  \n",
       "157833  This is the ONLY dog treat that my Lhasa Apso ...  \n",
       "157832  These liver treas are phenomenal. When i recei...  \n",
       "157837  This was the only treat my dog liked during ob...  \n",
       "157831  No waste , even if she is having a  day when s...  \n",
       "157830  I wanted a treat that was accepted and well li...  \n",
       "157829  My Westie loves these things!  She loves anyth...  \n",
       "157828  This is the only dog treat that my terrier wil...  \n",
       "157827  New puppy loves this, only treat he will pay a...  \n",
       "157848  My dog loves these treats!  We started using t...  \n",
       "157834  This is a great treat which all three of my do...  "
      ]
     },
     "execution_count": 5,
     "metadata": {},
     "output_type": "execute_result"
    }
   ],
   "source": [
    "# Removing rows where HelpfulnessNumerator is greater than HelpfulnessDenominator\n",
    "final = final[final.HelpfulnessNumerator <= final.HelpfulnessDenominator]\n",
    "\n",
    "print(final.shape)\n",
    "final[30:50]"
   ]
  },
  {
   "cell_type": "markdown",
   "metadata": {},
   "source": [
    "OBSERVATION :- Here books with ProductId - 0006641040 and 2841233731 are also there so we have to remove all these rows with these ProductIds from the data"
   ]
  },
  {
   "cell_type": "code",
   "execution_count": 6,
   "metadata": {},
   "outputs": [
    {
     "data": {
      "text/plain": [
       "(364136, 10)"
      ]
     },
     "execution_count": 6,
     "metadata": {},
     "output_type": "execute_result"
    }
   ],
   "source": [
    "final = final[final['ProductId'] != '2841233731']\n",
    "final = final[final['ProductId'] != '0006641040']\n",
    "final.shape"
   ]
  },
  {
   "cell_type": "markdown",
   "metadata": {},
   "source": [
    "# Text Preprocessing: Stemming, stop-word removal and Lemmatization."
   ]
  },
  {
   "cell_type": "code",
   "execution_count": 7,
   "metadata": {},
   "outputs": [],
   "source": [
    "#set of stopwords in English\n",
    "from nltk.corpus import stopwords\n",
    "stop = set(stopwords.words('english'))\n",
    "words_to_keep = set(('not'))\n",
    "stop -= words_to_keep\n",
    "#initialising the snowball stemmer\n",
    "sno = nltk.stem.SnowballStemmer('english')\n",
    "\n",
    " #function to clean the word of any html-tags\n",
    "def cleanhtml(sentence):\n",
    "    cleanr = re.compile('<.*?>')\n",
    "    cleantext = re.sub(cleanr, ' ', sentence)\n",
    "    return cleantext\n",
    "\n",
    "#function to clean the word of any punctuation or special characters\n",
    "def cleanpunc(sentence): \n",
    "    cleaned = re.sub(r'[?|!|\\'|\"|#]',r'',sentence)\n",
    "    cleaned = re.sub(r'[.|,|)|(|\\|/]',r' ',cleaned)\n",
    "    return  cleaned"
   ]
  },
  {
   "cell_type": "code",
   "execution_count": 8,
   "metadata": {},
   "outputs": [],
   "source": [
    "#Code for removing HTML tags , punctuations . Code for removing stopwords . Code for checking if word is not alphanumeric and\n",
    "# also greater than 2 . Code for stemmimg and also to convert them to lowercase letters \n",
    "i=0\n",
    "str1=' '\n",
    "final_string=[]\n",
    "all_positive_words=[] # store words from +ve reviews here\n",
    "all_negative_words=[] # store words from -ve reviews here.\n",
    "s=''\n",
    "for sent in final['Text'].values:\n",
    "    filtered_sentence=[]\n",
    "    #print(sent);\n",
    "    sent=cleanhtml(sent) # remove HTMl tags\n",
    "    for w in sent.split():\n",
    "        for cleaned_words in cleanpunc(w).split():\n",
    "            if((cleaned_words.isalpha()) & (len(cleaned_words)>2)):    \n",
    "                if(cleaned_words.lower() not in stop):\n",
    "                    s=(sno.stem(cleaned_words.lower())).encode('utf8')\n",
    "                    filtered_sentence.append(s)\n",
    "                    if (final['Score'].values)[i] == 'positive': \n",
    "                        all_positive_words.append(s) #list of all words used to describe positive reviews\n",
    "                    if(final['Score'].values)[i] == 'negative':\n",
    "                        all_negative_words.append(s) #list of all words used to describe negative reviews reviews\n",
    "                else:\n",
    "                    continue\n",
    "            else:\n",
    "                continue \n",
    "    \n",
    "    str1 = b\" \".join(filtered_sentence) #final string of cleaned words\n",
    "    \n",
    "    \n",
    "    final_string.append(str1)\n",
    "    i+=1"
   ]
  },
  {
   "cell_type": "code",
   "execution_count": 9,
   "metadata": {},
   "outputs": [
    {
     "name": "stdout",
     "output_type": "stream",
     "text": [
      "Shape of final (364136, 11)\n"
     ]
    },
    {
     "data": {
      "text/html": [
       "<div>\n",
       "<style scoped>\n",
       "    .dataframe tbody tr th:only-of-type {\n",
       "        vertical-align: middle;\n",
       "    }\n",
       "\n",
       "    .dataframe tbody tr th {\n",
       "        vertical-align: top;\n",
       "    }\n",
       "\n",
       "    .dataframe thead th {\n",
       "        text-align: right;\n",
       "    }\n",
       "</style>\n",
       "<table border=\"1\" class=\"dataframe\">\n",
       "  <thead>\n",
       "    <tr style=\"text-align: right;\">\n",
       "      <th></th>\n",
       "      <th>Id</th>\n",
       "      <th>ProductId</th>\n",
       "      <th>UserId</th>\n",
       "      <th>ProfileName</th>\n",
       "      <th>HelpfulnessNumerator</th>\n",
       "      <th>HelpfulnessDenominator</th>\n",
       "      <th>Score</th>\n",
       "      <th>Time</th>\n",
       "      <th>Summary</th>\n",
       "      <th>Text</th>\n",
       "      <th>CleanedText</th>\n",
       "    </tr>\n",
       "  </thead>\n",
       "  <tbody>\n",
       "    <tr>\n",
       "      <th>476617</th>\n",
       "      <td>515426</td>\n",
       "      <td>141278509X</td>\n",
       "      <td>AB1A5EGHHVA9M</td>\n",
       "      <td>CHelmic</td>\n",
       "      <td>1</td>\n",
       "      <td>1</td>\n",
       "      <td>positive</td>\n",
       "      <td>1332547200</td>\n",
       "      <td>The best drink mix</td>\n",
       "      <td>This product by Archer Farms is the best drink...</td>\n",
       "      <td>product archer farm best drink mix ever mix fl...</td>\n",
       "    </tr>\n",
       "    <tr>\n",
       "      <th>22621</th>\n",
       "      <td>24751</td>\n",
       "      <td>2734888454</td>\n",
       "      <td>A1C298ITT645B6</td>\n",
       "      <td>Hugh G. Pritchard</td>\n",
       "      <td>0</td>\n",
       "      <td>0</td>\n",
       "      <td>positive</td>\n",
       "      <td>1195948800</td>\n",
       "      <td>Dog Lover Delites</td>\n",
       "      <td>Our dogs just love them.  I saw them in a pet ...</td>\n",
       "      <td>dog love saw pet store tag attach regard made ...</td>\n",
       "    </tr>\n",
       "    <tr>\n",
       "      <th>22620</th>\n",
       "      <td>24750</td>\n",
       "      <td>2734888454</td>\n",
       "      <td>A13ISQV0U9GZIC</td>\n",
       "      <td>Sandikaye</td>\n",
       "      <td>1</td>\n",
       "      <td>1</td>\n",
       "      <td>negative</td>\n",
       "      <td>1192060800</td>\n",
       "      <td>made in china</td>\n",
       "      <td>My dogs loves this chicken but its a product f...</td>\n",
       "      <td>dog love chicken product china wont buy anymor...</td>\n",
       "    </tr>\n",
       "    <tr>\n",
       "      <th>157850</th>\n",
       "      <td>171161</td>\n",
       "      <td>7310172001</td>\n",
       "      <td>AFXMWPNS1BLU4</td>\n",
       "      <td>H. Sandler</td>\n",
       "      <td>0</td>\n",
       "      <td>0</td>\n",
       "      <td>positive</td>\n",
       "      <td>1229385600</td>\n",
       "      <td>Excellent treats</td>\n",
       "      <td>I have been feeding my greyhounds these treats...</td>\n",
       "      <td>feed greyhound treat year hound littl finicki ...</td>\n",
       "    </tr>\n",
       "    <tr>\n",
       "      <th>157849</th>\n",
       "      <td>171160</td>\n",
       "      <td>7310172001</td>\n",
       "      <td>A74C7IARQEM1R</td>\n",
       "      <td>stucker</td>\n",
       "      <td>0</td>\n",
       "      <td>0</td>\n",
       "      <td>positive</td>\n",
       "      <td>1230076800</td>\n",
       "      <td>Sophie's Treats</td>\n",
       "      <td>This is one product that my welsh terrier can ...</td>\n",
       "      <td>one product welsh terrier eat sophi food alerg...</td>\n",
       "    </tr>\n",
       "  </tbody>\n",
       "</table>\n",
       "</div>"
      ],
      "text/plain": [
       "            Id   ProductId          UserId        ProfileName  \\\n",
       "476617  515426  141278509X   AB1A5EGHHVA9M            CHelmic   \n",
       "22621    24751  2734888454  A1C298ITT645B6  Hugh G. Pritchard   \n",
       "22620    24750  2734888454  A13ISQV0U9GZIC          Sandikaye   \n",
       "157850  171161  7310172001   AFXMWPNS1BLU4         H. Sandler   \n",
       "157849  171160  7310172001   A74C7IARQEM1R            stucker   \n",
       "\n",
       "        HelpfulnessNumerator  HelpfulnessDenominator     Score        Time  \\\n",
       "476617                     1                       1  positive  1332547200   \n",
       "22621                      0                       0  positive  1195948800   \n",
       "22620                      1                       1  negative  1192060800   \n",
       "157850                     0                       0  positive  1229385600   \n",
       "157849                     0                       0  positive  1230076800   \n",
       "\n",
       "                   Summary                                               Text  \\\n",
       "476617  The best drink mix  This product by Archer Farms is the best drink...   \n",
       "22621    Dog Lover Delites  Our dogs just love them.  I saw them in a pet ...   \n",
       "22620        made in china  My dogs loves this chicken but its a product f...   \n",
       "157850    Excellent treats  I have been feeding my greyhounds these treats...   \n",
       "157849     Sophie's Treats  This is one product that my welsh terrier can ...   \n",
       "\n",
       "                                              CleanedText  \n",
       "476617  product archer farm best drink mix ever mix fl...  \n",
       "22621   dog love saw pet store tag attach regard made ...  \n",
       "22620   dog love chicken product china wont buy anymor...  \n",
       "157850  feed greyhound treat year hound littl finicki ...  \n",
       "157849  one product welsh terrier eat sophi food alerg...  "
      ]
     },
     "execution_count": 9,
     "metadata": {},
     "output_type": "execute_result"
    }
   ],
   "source": [
    "#adding a column of CleanedText which displays the data after pre-processing of the review\n",
    "final['CleanedText']=final_string  \n",
    "final['CleanedText']=final['CleanedText'].str.decode(\"utf-8\")\n",
    "#below the processed review can be seen in the CleanedText Column \n",
    "print('Shape of final',final.shape)\n",
    "final.head()"
   ]
  },
  {
   "cell_type": "markdown",
   "metadata": {},
   "source": [
    "TIME BASED SPLITTING OF SAMPLE DATASET"
   ]
  },
  {
   "cell_type": "code",
   "execution_count": 10,
   "metadata": {},
   "outputs": [],
   "source": [
    "from sklearn.model_selection import train_test_split\n",
    "##Sorting data according to Time in ascending order for Time Based Splitting\n",
    "time_sorted_data = final.sort_values('Time', axis=0, ascending=True, inplace=False, kind='quicksort', na_position='last')\n",
    "\n",
    "x = time_sorted_data['CleanedText'].values\n",
    "y = time_sorted_data['Score']\n",
    "\n",
    "# split the data set into train and test\n",
    "X_train, X_test, Y_train, Y_test = train_test_split(x, y, test_size=0.3, random_state=0)"
   ]
  },
  {
   "cell_type": "markdown",
   "metadata": {},
   "source": [
    "# (1). Bag of Words (BoW)"
   ]
  },
  {
   "cell_type": "code",
   "execution_count": 11,
   "metadata": {},
   "outputs": [
    {
     "name": "stdout",
     "output_type": "stream",
     "text": [
      "the type of count vectorizer : <class 'scipy.sparse.csr.csr_matrix'>\n",
      "the shape of out text BOW vectorizer :  (254895, 6098)\n",
      "the number of unique words : 6098\n"
     ]
    }
   ],
   "source": [
    "#BoW\n",
    "count_vect = CountVectorizer(min_df = 50) \n",
    "X_train_vec = count_vect.fit_transform(X_train)\n",
    "X_test_vec = count_vect.transform(X_test)\n",
    "print(\"the type of count vectorizer :\",type(X_train_vec))\n",
    "print(\"the shape of out text BOW vectorizer : \",X_train_vec.get_shape())\n",
    "print(\"the number of unique words :\", X_train_vec.get_shape()[1])"
   ]
  },
  {
   "cell_type": "code",
   "execution_count": 12,
   "metadata": {},
   "outputs": [],
   "source": [
    "import warnings\n",
    "warnings.filterwarnings('ignore')\n",
    "# Data-preprocessing: Standardizing the data\n",
    "\n",
    "from sklearn.preprocessing import StandardScaler\n",
    "sc = StandardScaler(with_mean=False)\n",
    "X_train_vec_standardized = sc.fit_transform(X_train_vec)\n",
    "X_test_vec_standardized = sc.transform(X_test_vec)"
   ]
  },
  {
   "cell_type": "markdown",
   "metadata": {},
   "source": [
    "# (1.a) L2 Regularisation (Logistic Regression)"
   ]
  },
  {
   "cell_type": "code",
   "execution_count": 13,
   "metadata": {},
   "outputs": [],
   "source": [
    "# Importing libraries\n",
    "from sklearn.linear_model import LogisticRegression\n",
    "from sklearn.model_selection import GridSearchCV\n",
    "from sklearn.model_selection import RandomizedSearchCV"
   ]
  },
  {
   "cell_type": "markdown",
   "metadata": {},
   "source": [
    "# GridSearchCV Implementation"
   ]
  },
  {
   "cell_type": "code",
   "execution_count": 14,
   "metadata": {},
   "outputs": [
    {
     "name": "stdout",
     "output_type": "stream",
     "text": [
      "Model with best parameters :\n",
      " LogisticRegression(C=0.01, class_weight=None, dual=False, fit_intercept=True,\n",
      "          intercept_scaling=1, max_iter=100, multi_class='ovr', n_jobs=1,\n",
      "          penalty='l2', random_state=None, solver='liblinear', tol=0.0001,\n",
      "          verbose=0, warm_start=False)\n",
      "Accuracy of the model :  0.9220347671661738\n",
      "The optimal value of C(1/lambda) is :  0.01\n"
     ]
    }
   ],
   "source": [
    "# Importing libraries for accuracy metrics\n",
    "from sklearn.metrics import accuracy_score,confusion_matrix,f1_score,precision_score,recall_score\n",
    "\n",
    "tuned_parameters = [{'C': [10**-4, 10**-2, 10**0, 10**2, 10**4]}]\n",
    "#Using GridSearchCV\n",
    "model = GridSearchCV(LogisticRegression(penalty='l2'), tuned_parameters, scoring = 'accuracy', cv=3 ,n_jobs=-1, pre_dispatch=2)\n",
    "model.fit(X_train_vec_standardized, Y_train)\n",
    "print(\"Model with best parameters :\\n\",model.best_estimator_)\n",
    "print(\"Accuracy of the model : \",model.score(X_test_vec_standardized, Y_test))\n",
    "\n",
    "optimal_C = model.best_estimator_.C\n",
    "print(\"The optimal value of C(1/lambda) is : \",optimal_C)"
   ]
  },
  {
   "cell_type": "code",
   "execution_count": 15,
   "metadata": {},
   "outputs": [],
   "source": [
    "# Logistic Regression with Optimal value of C i.e.(1/lambda)\n",
    "lr = LogisticRegression(penalty='l2', C=optimal_C, n_jobs=-1)\n",
    "lr.fit(X_train_vec_standardized,Y_train)\n",
    "predictions = lr.predict(X_test_vec_standardized)\n",
    "\n",
    "# Variables that will be used for  making table in Conclusion part of this assignment\n",
    "bow_l2_grid_C = optimal_C\n",
    "bow_l2_grid_train_acc = model.score(X_test_vec_standardized, Y_test)*100\n",
    "bow_l2_grid_test_acc = accuracy_score(Y_test, predictions) * 100"
   ]
  },
  {
   "cell_type": "code",
   "execution_count": 16,
   "metadata": {},
   "outputs": [
    {
     "name": "stdout",
     "output_type": "stream",
     "text": [
      "\n",
      "The Test Accuracy of the Logistic Regression classifier for C = 0.010 is 92.203477%\n",
      "\n",
      "The Test Precision of the Logistic Regression classifier for C = 0.010 is 0.939562\n",
      "\n",
      "The Test Recall of the Logistic Regression classifier for C = 0.010 is 0.970006\n",
      "\n",
      "The Test F1-Score of the Logistic regression classifier for C = 0.010 is 0.954541\n"
     ]
    }
   ],
   "source": [
    "# evaluate accuracy\n",
    "acc = accuracy_score(Y_test, predictions) * 100\n",
    "print('\\nThe Test Accuracy of the Logistic Regression classifier for C = %.3f is %f%%' % (optimal_C, acc))\n",
    "\n",
    "# evaluate precision\n",
    "acc = precision_score(Y_test, predictions, pos_label = 'positive') \n",
    "print('\\nThe Test Precision of the Logistic Regression classifier for C = %.3f is %f' % (optimal_C, acc))\n",
    "\n",
    "# evaluate recall\n",
    "acc = recall_score(Y_test, predictions, pos_label = 'positive')\n",
    "print('\\nThe Test Recall of the Logistic Regression classifier for C = %.3f is %f' % (optimal_C, acc))\n",
    "\n",
    "# evaluate f1-score\n",
    "acc = f1_score(Y_test, predictions, pos_label = 'positive')\n",
    "print('\\nThe Test F1-Score of the Logistic regression classifier for C = %.3f is %f' % (optimal_C, acc))"
   ]
  },
  {
   "cell_type": "markdown",
   "metadata": {},
   "source": [
    "SEABORN HEATMAP FOR REPRESENTATION OF CONFUSION MATRIX :"
   ]
  },
  {
   "cell_type": "code",
   "execution_count": 17,
   "metadata": {},
   "outputs": [
    {
     "data": {
      "image/png": "[encoded data removed]",
      "text/plain": [
       "<Figure size 720x504 with 2 Axes>"
      ]
     },
     "metadata": {},
     "output_type": "display_data"
    }
   ],
   "source": [
    "# Code for drawing seaborn heatmaps\n",
    "class_names = ['negative','positive']\n",
    "df_heatmap = pd.DataFrame(confusion_matrix(Y_test, predictions), index=class_names, columns=class_names )\n",
    "fig = plt.figure(figsize=(10,7))\n",
    "heatmap = sns.heatmap(df_heatmap, annot=True, fmt=\"d\")\n",
    "\n",
    "# Setting tick labels for heatmap\n",
    "heatmap.yaxis.set_ticklabels(heatmap.yaxis.get_ticklabels(), rotation=0, ha='right', fontsize=14)\n",
    "heatmap.xaxis.set_ticklabels(heatmap.xaxis.get_ticklabels(), rotation=0, ha='right', fontsize=14)\n",
    "plt.ylabel('Predicted label',size=18)\n",
    "plt.xlabel('True label',size=18)\n",
    "plt.title(\"Confusion Matrix\\n\",size=24)\n",
    "plt.show()"
   ]
  },
  {
   "cell_type": "markdown",
   "metadata": {},
   "source": [
    "MULTI-COLLINEARITY CHECK (PERTUBATION TECHNIQUE):"
   ]
  },
  {
   "cell_type": "code",
   "execution_count": 18,
   "metadata": {},
   "outputs": [
    {
     "name": "stdout",
     "output_type": "stream",
     "text": [
      "(254895, 6098)\n",
      "(254895, 6098)\n"
     ]
    }
   ],
   "source": [
    "import scipy as sp\n",
    "epsilon = sp.stats.distributions.norm.rvs(loc=0,scale=0.0001)\n",
    "# Vector before the addition of epsilon\n",
    "W_before_epsilon = lr.coef_\n",
    "\n",
    "# Number of non zero elements in X_train_vec_standardized sparse matrix\n",
    "no_of_non_zero = X_train_vec_standardized.count_nonzero()\n",
    "\n",
    "# Importing library to create a sparse matrix of epsilon\n",
    "from scipy.sparse import csr_matrix\n",
    "\n",
    "# Creating new sparse matrix with epsilon at same position of non-zero elements of X_train_vec_standardized\n",
    "indices_X_train = X_train_vec_standardized.indices\n",
    "indptr_X_train = X_train_vec_standardized.indptr\n",
    "\n",
    "# Creating a list of same element with repetition\n",
    "data = [epsilon] * no_of_non_zero\n",
    "Shape = X_train_vec_standardized.shape\n",
    "\n",
    "# Creating sparse matrix\n",
    "sparse_epsilon = csr_matrix((data,indices_X_train,indptr_X_train),shape=Shape,dtype=float)\n",
    "\n",
    "# Add sparse_epsilon and X-train_vec_standardized to get a new sparse matrix with epsilon added to each \n",
    "# non-zero element of X_train_vec_standardized\n",
    "epsilon_train = X_train_vec_standardized + sparse_epsilon\n",
    "\n",
    "print(X_train_vec_standardized.shape)\n",
    "print(epsilon_train.shape)"
   ]
  },
  {
   "cell_type": "code",
   "execution_count": 20,
   "metadata": {},
   "outputs": [
    {
     "data": {
      "text/plain": [
       "array([0.00159401, 0.0015377 , 0.0007778 , 0.00070106, 0.00067028,\n",
       "       0.00058177, 0.00053523, 0.00046506, 0.00038904, 0.00038481,\n",
       "       0.0003417 , 0.00030557, 0.00029905, 0.0002522 , 0.00024272,\n",
       "       0.00023424, 0.00021348, 0.00020301, 0.0002027 , 0.00020228])"
      ]
     },
     "execution_count": 20,
     "metadata": {},
     "output_type": "execute_result"
    }
   ],
   "source": [
    "# training Logistic Regression Classifier with epsilon_train\n",
    "epsilon_lr = LogisticRegression(penalty='l2', C=optimal_C, n_jobs=-1)\n",
    "epsilon_lr.fit(epsilon_train,Y_train)\n",
    "\n",
    "# Vector after the addition of epsilon\n",
    "W_after_epsilon = epsilon_lr.coef_\n",
    "\n",
    "# Change in vectors after adding epsilon\n",
    "change_vector = W_after_epsilon - W_before_epsilon\n",
    "\n",
    "# Sort this change_vector array after making all the elements positive in ascending order to visualize the change\n",
    "sorted_change_vector = np.sort(np.absolute(change_vector))[:,::-1]\n",
    "\n",
    "sorted_change_vector[0,0:20]"
   ]
  },
  {
   "cell_type": "markdown",
   "metadata": {},
   "source": [
    "OBSERVATION :- From above we can see that there is no large change in the weights of the both vectors . So we will use absolute value of weights(|w|) of the feature to find important features"
   ]
  },
  {
   "cell_type": "markdown",
   "metadata": {},
   "source": [
    "# Selecting Top 20 Important Features Using Absolute Value of Weights (|w|)"
   ]
  },
  {
   "cell_type": "code",
   "execution_count": 21,
   "metadata": {},
   "outputs": [
    {
     "name": "stdout",
     "output_type": "stream",
     "text": [
      "Top 20 features with their weight values :\n",
      "       great\t--> \t0.730310\n",
      "        love\t--> \t0.529931\n",
      "        best\t--> \t0.522764\n",
      "      delici\t--> \t0.505242\n",
      "     perfect\t--> \t0.424769\n",
      "        good\t--> \t0.412219\n",
      "       excel\t--> \t0.361000\n",
      "  disappoint\t--> \t-0.346830\n",
      "        nice\t--> \t0.308957\n",
      "     favorit\t--> \t0.271029\n",
      "        amaz\t--> \t0.268661\n",
      "       worst\t--> \t-0.238738\n",
      "      awesom\t--> \t0.233476\n",
      "        easi\t--> \t0.229080\n",
      "       tasti\t--> \t0.227755\n",
      "      wonder\t--> \t0.222639\n",
      "       happi\t--> \t0.220394\n",
      "        tast\t--> \t-0.216859\n",
      "        find\t--> \t0.207083\n",
      "     terribl\t--> \t-0.206875\n"
     ]
    }
   ],
   "source": [
    "absolute_weights = np.absolute(W_before_epsilon)\n",
    "sorted_absolute_index = np.argsort(absolute_weights)[:,::-1]\n",
    "top_index = sorted_absolute_index[0,0:20]\n",
    "\n",
    "all_features = count_vect.get_feature_names()\n",
    "weight_values = lr.coef_\n",
    "\n",
    "# Top 20 features are    \n",
    "print(\"Top 20 features with their weight values :\")\n",
    "\n",
    "for j in top_index:\n",
    "    print(\"%12s\\t--> \\t%f\"%(all_features[j],weight_values[0,j]))"
   ]
  },
  {
   "cell_type": "markdown",
   "metadata": {},
   "source": [
    "# RandomizedSearchCV Implementation"
   ]
  },
  {
   "cell_type": "code",
   "execution_count": 22,
   "metadata": {},
   "outputs": [
    {
     "name": "stdout",
     "output_type": "stream",
     "text": [
      "Model with best parameters :\n",
      " LogisticRegression(C=1.4275875917132186, class_weight=None, dual=False,\n",
      "          fit_intercept=True, intercept_scaling=1, max_iter=100,\n",
      "          multi_class='ovr', n_jobs=1, penalty='l2', random_state=None,\n",
      "          solver='liblinear', tol=0.0001, verbose=0, warm_start=False)\n",
      "Accuracy of the model :  0.9219798427330398\n",
      "The optimal value of C(1/lambda) is :  1.4275875917132186\n"
     ]
    }
   ],
   "source": [
    "# Load libraries\n",
    "from scipy.stats import uniform\n",
    "\n",
    "# Create regularization hyperparameter distribution using uniform distribution\n",
    "C = uniform(loc=0, scale=10)\n",
    "\n",
    "# Create hyperparameter options\n",
    "hyperparameters = dict(C=C)\n",
    "\n",
    "#Using RandomizedSearchCV\n",
    "model = RandomizedSearchCV(LogisticRegression(penalty='l2'), hyperparameters, scoring='accuracy', cv=3,n_jobs=-1,pre_dispatch=2)\n",
    "model.fit(X_train_vec_standardized, Y_train)\n",
    "print(\"Model with best parameters :\\n\",model.best_estimator_)\n",
    "print(\"Accuracy of the model : \",model.score(X_test_vec_standardized, Y_test))\n",
    "\n",
    "optimal_C = model.best_estimator_.C\n",
    "print(\"The optimal value of C(1/lambda) is : \",optimal_C)\n",
    "\n",
    "# Logistic Regression with Optimal value of C i.e.(1/lambda)\n",
    "lr = LogisticRegression(penalty='l2', C=optimal_C, n_jobs=-1)\n",
    "lr.fit(X_train_vec_standardized,Y_train)\n",
    "predictions = lr.predict(X_test_vec_standardized)\n",
    "\n",
    "# Variables that will be used for  making table in Conclusion part of this assignment\n",
    "bow_l2_random_C = optimal_C\n",
    "bow_l2_random_train_acc = model.score(X_test_vec_standardized, Y_test)*100\n",
    "bow_l2_random_test_acc = accuracy_score(Y_test, predictions) * 100"
   ]
  },
  {
   "cell_type": "code",
   "execution_count": 23,
   "metadata": {},
   "outputs": [
    {
     "name": "stdout",
     "output_type": "stream",
     "text": [
      "\n",
      "The Test Accuracy of the Logistic Regression classifier for C = 1.427588 is 92.197984%\n",
      "\n",
      "The Test Precision of the Logistic Regression classifier for C = 1.427588 is 0.939863\n",
      "\n",
      "The Test Recall of the Logistic Regression classifier for C = 1.427588 is 0.969583\n",
      "\n",
      "The Test F1-Score of the Logistic regression classifier for C = 1.427588 is 0.954492\n"
     ]
    }
   ],
   "source": [
    "# evaluate accuracy\n",
    "acc = accuracy_score(Y_test, predictions) * 100\n",
    "print('\\nThe Test Accuracy of the Logistic Regression classifier for C = %f is %f%%' % (optimal_C, acc))\n",
    "\n",
    "# evaluate precision\n",
    "acc = precision_score(Y_test, predictions, pos_label = 'positive') \n",
    "print('\\nThe Test Precision of the Logistic Regression classifier for C = %f is %f' % (optimal_C, acc))\n",
    "\n",
    "# evaluate recall\n",
    "acc = recall_score(Y_test, predictions, pos_label = 'positive')\n",
    "print('\\nThe Test Recall of the Logistic Regression classifier for C = %f is %f' % (optimal_C, acc))\n",
    "\n",
    "# evaluate f1-score\n",
    "acc = f1_score(Y_test, predictions, pos_label = 'positive')\n",
    "print('\\nThe Test F1-Score of the Logistic regression classifier for C = %f is %f' % (optimal_C, acc))"
   ]
  },
  {
   "cell_type": "markdown",
   "metadata": {},
   "source": [
    "SEABORN HEATMAP FOR REPRESENTATION OF CONFUSION MATRIX :"
   ]
  },
  {
   "cell_type": "code",
   "execution_count": 24,
   "metadata": {},
   "outputs": [
    {
     "data": {
      "image/png": "[encoded data removed]",
      "text/plain": [
       "<Figure size 720x504 with 2 Axes>"
      ]
     },
     "metadata": {},
     "output_type": "display_data"
    }
   ],
   "source": [
    "# Code for drawing seaborn heatmaps\n",
    "class_names = ['negative','positive']\n",
    "df_heatmap = pd.DataFrame(confusion_matrix(Y_test, predictions), index=class_names, columns=class_names )\n",
    "fig = plt.figure(figsize=(10,7))\n",
    "heatmap = sns.heatmap(df_heatmap, annot=True, fmt=\"d\")\n",
    "\n",
    "# Setting tick labels for heatmap\n",
    "heatmap.yaxis.set_ticklabels(heatmap.yaxis.get_ticklabels(), rotation=0, ha='right', fontsize=14)\n",
    "heatmap.xaxis.set_ticklabels(heatmap.xaxis.get_ticklabels(), rotation=0, ha='right', fontsize=14)\n",
    "plt.ylabel('Predicted label',size=18)\n",
    "plt.xlabel('True label',size=18)\n",
    "plt.title(\"Confusion Matrix\\n\",size=24)\n",
    "plt.show()"
   ]
  },
  {
   "cell_type": "markdown",
   "metadata": {},
   "source": [
    "MULTI-COLLINEARITY CHECK (PERTUBATION TECHNIQUE):"
   ]
  },
  {
   "cell_type": "code",
   "execution_count": 25,
   "metadata": {},
   "outputs": [
    {
     "data": {
      "text/plain": [
       "array([3.05209910e-03, 1.25906345e-03, 1.23313482e-03, 1.21377331e-03,\n",
       "       1.09612039e-03, 1.02361241e-03, 8.56108561e-04, 8.35524152e-04,\n",
       "       8.03491894e-04, 7.62642014e-04, 6.86882235e-04, 6.66070131e-04,\n",
       "       4.38079401e-04, 2.89659297e-04, 2.86900927e-04, 1.02420820e-04,\n",
       "       9.55668323e-05, 9.24656867e-05, 9.18820166e-05, 7.80115213e-05])"
      ]
     },
     "execution_count": 25,
     "metadata": {},
     "output_type": "execute_result"
    }
   ],
   "source": [
    "epsilon = sp.stats.distributions.norm.rvs(loc=0,scale=0.0001)\n",
    "# Vector before the addition of epsilon\n",
    "W_before_epsilon = lr.coef_\n",
    "# Number of non zero elements in X_train_vec_standardized sparse matrix\n",
    "no_of_non_zero = X_train_vec_standardized.count_nonzero()\n",
    "\n",
    "# Creating new sparse matrix with epsilon at same position of non-zero elements of X_train_vec_standardized\n",
    "indices_X_train = X_train_vec_standardized.indices\n",
    "indptr_X_train = X_train_vec_standardized.indptr\n",
    "\n",
    "# Creating a list of same element with repetition\n",
    "data = [epsilon] * no_of_non_zero\n",
    "Shape = X_train_vec_standardized.shape\n",
    "\n",
    "# Creating sparse matrix\n",
    "sparse_epsilon = csr_matrix((data,indices_X_train,indptr_X_train),shape=Shape,dtype=float)\n",
    "\n",
    "# Add sparse_epsilon and X-train_vec_standardized to get a new sparse matrix with epsilon added to each \n",
    "# non-zero element of X_train_vec_standardized\n",
    "epsilon_train = X_train_vec_standardized + sparse_epsilon\n",
    "\n",
    "# training Logistic Regression Classifier with epsilon_train\n",
    "epsilon_lr = LogisticRegression(penalty='l2', C=optimal_C, n_jobs=-1)\n",
    "epsilon_lr.fit(epsilon_train,Y_train)\n",
    "\n",
    "# Vector after the addition of epsilon\n",
    "W_after_epsilon = epsilon_lr.coef_\n",
    "\n",
    "# Change in vectors after adding epsilon\n",
    "change_vector = W_after_epsilon - W_before_epsilon\n",
    "# Sort this change_vector array after making all the elements positive in ascending order to visualize the change\n",
    "sorted_change_vector = np.sort(np.absolute(change_vector))[:,::-1]\n",
    "\n",
    "sorted_change_vector[0,0:20]"
   ]
  },
  {
   "cell_type": "markdown",
   "metadata": {},
   "source": [
    "OBSERVATION :- From above we can see that there is no large change in the weights of the both vectors . So we will use absolute value of weights(|w|) of the feature to find important features"
   ]
  },
  {
   "cell_type": "markdown",
   "metadata": {},
   "source": [
    "# Selecting Top 20 Important Features Using Absolute Value of Weights (|w|)"
   ]
  },
  {
   "cell_type": "code",
   "execution_count": 26,
   "metadata": {},
   "outputs": [
    {
     "name": "stdout",
     "output_type": "stream",
     "text": [
      "Top 20 features with their weight values :\n",
      "       great\t--> \t0.749685\n",
      "        love\t--> \t0.540823\n",
      "        best\t--> \t0.538182\n",
      "      delici\t--> \t0.523692\n",
      "     perfect\t--> \t0.441224\n",
      "        good\t--> \t0.421720\n",
      "       excel\t--> \t0.372815\n",
      "  disappoint\t--> \t-0.352933\n",
      "        nice\t--> \t0.317290\n",
      "        muir\t--> \t0.301052\n",
      "        moka\t--> \t0.278407\n",
      "        amaz\t--> \t0.278136\n",
      "     favorit\t--> \t0.277408\n",
      "        glen\t--> \t-0.262062\n",
      "       worst\t--> \t-0.243421\n",
      "      awesom\t--> \t0.241359\n",
      "         nom\t--> \t0.239984\n",
      "        easi\t--> \t0.234943\n",
      "       tasti\t--> \t0.232444\n",
      "      wonder\t--> \t0.228119\n"
     ]
    }
   ],
   "source": [
    "absolute_weights = np.absolute(W_before_epsilon)\n",
    "sorted_absolute_index = np.argsort(absolute_weights)[:,::-1]\n",
    "top_index = sorted_absolute_index[0,0:20]\n",
    "\n",
    "all_features = count_vect.get_feature_names()\n",
    "weight_values = lr.coef_\n",
    "\n",
    "# Top 20 features are    \n",
    "print(\"Top 20 features with their weight values :\")\n",
    "\n",
    "for j in top_index:\n",
    "    print(\"%12s\\t--> \\t%f\"%(all_features[j],weight_values[0,j]))"
   ]
  },
  {
   "cell_type": "markdown",
   "metadata": {},
   "source": [
    "# (1.b) L1 Regularisation (Logistic regression)"
   ]
  },
  {
   "cell_type": "markdown",
   "metadata": {},
   "source": [
    "# GridSearchCV Implementation"
   ]
  },
  {
   "cell_type": "code",
   "execution_count": 27,
   "metadata": {},
   "outputs": [
    {
     "name": "stdout",
     "output_type": "stream",
     "text": [
      "Model with best parameters :\n",
      " LogisticRegression(C=0.01, class_weight=None, dual=False, fit_intercept=True,\n",
      "          intercept_scaling=1, max_iter=100, multi_class='ovr', n_jobs=1,\n",
      "          penalty='l1', random_state=None, solver='liblinear', tol=0.0001,\n",
      "          verbose=0, warm_start=False)\n",
      "Accuracy of the model :  0.9224558544868685\n",
      "The optimal value of C(1/lambda) is :  0.01\n"
     ]
    }
   ],
   "source": [
    "tuned_parameters = [{'C': [10**-4, 10**-2, 10**0, 10**2, 10**4]}]\n",
    "#Using GridSearchCV\n",
    "model = GridSearchCV(LogisticRegression(penalty='l1'), tuned_parameters, scoring = 'accuracy', cv=3 ,n_jobs=-1, pre_dispatch=2)\n",
    "model.fit(X_train_vec_standardized, Y_train)\n",
    "print(\"Model with best parameters :\\n\",model.best_estimator_)\n",
    "print(\"Accuracy of the model : \",model.score(X_test_vec_standardized, Y_test))\n",
    "\n",
    "optimal_C = model.best_estimator_.C\n",
    "print(\"The optimal value of C(1/lambda) is : \",optimal_C)\n",
    "\n",
    "# Logistic Regression with Optimal value of C i.e.(1/lambda)\n",
    "lr = LogisticRegression(penalty='l1', C=optimal_C, n_jobs=-1)\n",
    "lr.fit(X_train_vec_standardized,Y_train)\n",
    "predictions = lr.predict(X_test_vec_standardized)\n",
    "\n",
    "# Variables that will be used for  making table in Conclusion part of this assignment\n",
    "bow_l1_grid_C = optimal_C\n",
    "bow_l1_grid_train_acc = model.score(X_test_vec_standardized, Y_test)*100\n",
    "bow_l1_grid_test_acc = accuracy_score(Y_test, predictions) * 100"
   ]
  },
  {
   "cell_type": "code",
   "execution_count": 28,
   "metadata": {},
   "outputs": [
    {
     "name": "stdout",
     "output_type": "stream",
     "text": [
      "\n",
      "The Test Accuracy of the Logistic Regression classifier for C = 0.010 is 92.247416%\n",
      "\n",
      "The Test Precision of the Logistic Regression classifier for C = 0.010 is 0.934590\n",
      "\n",
      "The Test Recall of the Logistic Regression classifier for C = 0.010 is 0.976471\n",
      "\n",
      "The Test F1-Score of the Logistic regression classifier for C = 0.010 is 0.955072\n"
     ]
    }
   ],
   "source": [
    "# evaluate accuracy\n",
    "acc = accuracy_score(Y_test, predictions) * 100\n",
    "print('\\nThe Test Accuracy of the Logistic Regression classifier for C = %.3f is %f%%' % (optimal_C, acc))\n",
    "\n",
    "# evaluate precision\n",
    "acc = precision_score(Y_test, predictions, pos_label = 'positive') \n",
    "print('\\nThe Test Precision of the Logistic Regression classifier for C = %.3f is %f' % (optimal_C, acc))\n",
    "\n",
    "# evaluate recall\n",
    "acc = recall_score(Y_test, predictions, pos_label = 'positive')\n",
    "print('\\nThe Test Recall of the Logistic Regression classifier for C = %.3f is %f' % (optimal_C, acc))\n",
    "\n",
    "# evaluate f1-score\n",
    "acc = f1_score(Y_test, predictions, pos_label = 'positive')\n",
    "print('\\nThe Test F1-Score of the Logistic regression classifier for C = %.3f is %f' % (optimal_C, acc))"
   ]
  },
  {
   "cell_type": "markdown",
   "metadata": {},
   "source": [
    "SEABORN HEATMAP FOR REPRESENTATION OF CONFUSION MATRIX :"
   ]
  },
  {
   "cell_type": "code",
   "execution_count": 29,
   "metadata": {},
   "outputs": [
    {
     "data": {
      "image/png": "[encoded data removed]",
      "text/plain": [
       "<Figure size 720x504 with 2 Axes>"
      ]
     },
     "metadata": {},
     "output_type": "display_data"
    }
   ],
   "source": [
    "# Code for drawing seaborn heatmaps\n",
    "class_names = ['negative','positive']\n",
    "df_heatmap = pd.DataFrame(confusion_matrix(Y_test, predictions), index=class_names, columns=class_names )\n",
    "fig = plt.figure(figsize=(10,7))\n",
    "heatmap = sns.heatmap(df_heatmap, annot=True, fmt=\"d\")\n",
    "\n",
    "# Setting tick labels for heatmap\n",
    "heatmap.yaxis.set_ticklabels(heatmap.yaxis.get_ticklabels(), rotation=0, ha='right', fontsize=14)\n",
    "heatmap.xaxis.set_ticklabels(heatmap.xaxis.get_ticklabels(), rotation=0, ha='right', fontsize=14)\n",
    "plt.ylabel('Predicted label',size=18)\n",
    "plt.xlabel('True label',size=18)\n",
    "plt.title(\"Confusion Matrix\\n\",size=24)\n",
    "plt.show()"
   ]
  },
  {
   "cell_type": "markdown",
   "metadata": {},
   "source": [
    "MULTI-COLLINEARITY CHECK (PERTUBATION TECHNIQUE):"
   ]
  },
  {
   "cell_type": "code",
   "execution_count": 31,
   "metadata": {},
   "outputs": [
    {
     "data": {
      "text/plain": [
       "array([0.00579108, 0.00568539, 0.00039819, 0.00030376, 0.0002599 ,\n",
       "       0.00022093, 0.00016221, 0.00016142, 0.00015442, 0.00015005,\n",
       "       0.00014986, 0.0001476 , 0.00012443, 0.00011613, 0.0001115 ,\n",
       "       0.00010834, 0.0001061 , 0.00010378, 0.00010375, 0.00010074])"
      ]
     },
     "execution_count": 31,
     "metadata": {},
     "output_type": "execute_result"
    }
   ],
   "source": [
    "epsilon = sp.stats.distributions.norm.rvs(loc=0,scale=0.0001)\n",
    "# Vector before the addition of epsilon\n",
    "W_before_epsilon = lr.coef_\n",
    "# Number of non zero elements in X_train_vec_standardized sparse matrix\n",
    "no_of_non_zero = X_train_vec_standardized.count_nonzero()\n",
    "\n",
    "# Creating new sparse matrix with epsilon at same position of non-zero elements of X_train_vec_standardized\n",
    "indices_X_train = X_train_vec_standardized.indices\n",
    "indptr_X_train = X_train_vec_standardized.indptr\n",
    "\n",
    "# Creating a list of same element with repetition\n",
    "data = [epsilon] * no_of_non_zero\n",
    "Shape = X_train_vec_standardized.shape\n",
    "\n",
    "# Creating sparse matrix\n",
    "sparse_epsilon = csr_matrix((data,indices_X_train,indptr_X_train),shape=Shape,dtype=float)\n",
    "\n",
    "# Add sparse_epsilon and X-train_vec_standardized to get a new sparse matrix with epsilon added to each \n",
    "# non-zero element of X_train_vec_standardized\n",
    "epsilon_train = X_train_vec_standardized + sparse_epsilon\n",
    "\n",
    "# training Logistic Regression Classifier with epsilon_train\n",
    "epsilon_lr = LogisticRegression(penalty='l1', C=optimal_C, n_jobs=-1)\n",
    "epsilon_lr.fit(epsilon_train,Y_train)\n",
    "\n",
    "# Vector after the addition of epsilon\n",
    "W_after_epsilon = epsilon_lr.coef_\n",
    "\n",
    "# Change in vectors after adding epsilon\n",
    "change_vector = W_after_epsilon - W_before_epsilon\n",
    "# Sort this change_vector array after making all the elements positive in ascending order to visualize the change\n",
    "sorted_change_vector = np.sort(np.absolute(change_vector))[:,::-1]\n",
    "\n",
    "sorted_change_vector[0,0:20]"
   ]
  },
  {
   "cell_type": "markdown",
   "metadata": {},
   "source": [
    "OBSERVATION :- From above we can see that there is no large change in the weights of the both vectors . So we will use absolute value of weights(|w|) of the feature to find important features"
   ]
  },
  {
   "cell_type": "markdown",
   "metadata": {},
   "source": [
    "# Selecting Top 20 Important Features Using Absolute Value of Weights (|w|)"
   ]
  },
  {
   "cell_type": "code",
   "execution_count": 32,
   "metadata": {},
   "outputs": [
    {
     "name": "stdout",
     "output_type": "stream",
     "text": [
      "Top 20 features with their weight values :\n",
      "       great\t--> \t0.671857\n",
      "        love\t--> \t0.484587\n",
      "        best\t--> \t0.471564\n",
      "      delici\t--> \t0.451778\n",
      "     perfect\t--> \t0.373985\n",
      "        good\t--> \t0.358111\n",
      "       excel\t--> \t0.322410\n",
      "  disappoint\t--> \t-0.315437\n",
      "        nice\t--> \t0.272810\n",
      "     favorit\t--> \t0.242436\n",
      "        amaz\t--> \t0.227471\n",
      "       worst\t--> \t-0.214513\n",
      "        easi\t--> \t0.203188\n",
      "       tasti\t--> \t0.200469\n",
      "      awesom\t--> \t0.199951\n",
      "       happi\t--> \t0.193542\n",
      "      wonder\t--> \t0.189211\n",
      "        tast\t--> \t-0.188332\n",
      "      return\t--> \t-0.184318\n",
      "       thank\t--> \t0.183874\n"
     ]
    }
   ],
   "source": [
    "absolute_weights = np.absolute(W_before_epsilon)\n",
    "sorted_absolute_index = np.argsort(absolute_weights)[:,::-1]\n",
    "top_index = sorted_absolute_index[0,0:20]\n",
    "\n",
    "all_features = count_vect.get_feature_names()\n",
    "weight_values = lr.coef_\n",
    "\n",
    "# Top 20 features are    \n",
    "print(\"Top 20 features with their weight values :\")\n",
    "\n",
    "for j in top_index:\n",
    "    print(\"%12s\\t--> \\t%f\"%(all_features[j],weight_values[0,j]))"
   ]
  },
  {
   "cell_type": "markdown",
   "metadata": {},
   "source": [
    "# More Sparsity (Fewer elements of W* being non-zero) by increasing Lambda (decreasing C)"
   ]
  },
  {
   "cell_type": "code",
   "execution_count": 33,
   "metadata": {},
   "outputs": [
    {
     "name": "stdout",
     "output_type": "stream",
     "text": [
      "6068\n"
     ]
    }
   ],
   "source": [
    "# With lambda = 1\n",
    "clf = LogisticRegression(C=1, penalty='l1',n_jobs=-1);\n",
    "clf.fit(X_train_vec_standardized, Y_train);\n",
    "w = clf.coef_\n",
    "print(np.count_nonzero(w))"
   ]
  },
  {
   "cell_type": "code",
   "execution_count": 34,
   "metadata": {},
   "outputs": [
    {
     "name": "stdout",
     "output_type": "stream",
     "text": [
      "5815\n"
     ]
    }
   ],
   "source": [
    "# With lambda = 10\n",
    "clf = LogisticRegression(C=0.1, penalty='l1',n_jobs=-1);\n",
    "clf.fit(X_train_vec_standardized, Y_train);\n",
    "w = clf.coef_\n",
    "print(np.count_nonzero(w))"
   ]
  },
  {
   "cell_type": "code",
   "execution_count": 35,
   "metadata": {},
   "outputs": [
    {
     "name": "stdout",
     "output_type": "stream",
     "text": [
      "3674\n"
     ]
    }
   ],
   "source": [
    "# With lambda = 100\n",
    "clf = LogisticRegression(C=0.01, penalty='l1',n_jobs=-1);\n",
    "clf.fit(X_train_vec_standardized, Y_train);\n",
    "w = clf.coef_\n",
    "print(np.count_nonzero(w))"
   ]
  },
  {
   "cell_type": "code",
   "execution_count": 36,
   "metadata": {},
   "outputs": [
    {
     "name": "stdout",
     "output_type": "stream",
     "text": [
      "381\n"
     ]
    }
   ],
   "source": [
    "# With lambda = 1000\n",
    "clf = LogisticRegression(C=0.001, penalty='l1',n_jobs=-1);\n",
    "clf.fit(X_train_vec_standardized, Y_train);\n",
    "w = clf.coef_\n",
    "print(np.count_nonzero(w))"
   ]
  },
  {
   "cell_type": "markdown",
   "metadata": {},
   "source": [
    "OBSERVATION :- From above we can see that the number of non-zero elements of W* is decreasing as we are increasing the value of lambda (C is decreasing) ."
   ]
  },
  {
   "cell_type": "markdown",
   "metadata": {},
   "source": [
    "# RandomizedSearchCV Implementation"
   ]
  },
  {
   "cell_type": "code",
   "execution_count": 37,
   "metadata": {},
   "outputs": [
    {
     "name": "stdout",
     "output_type": "stream",
     "text": [
      "Model with best parameters :\n",
      " LogisticRegression(C=0.20062843367622873, class_weight=None, dual=False,\n",
      "          fit_intercept=True, intercept_scaling=1, max_iter=100,\n",
      "          multi_class='ovr', n_jobs=1, penalty='l1', random_state=None,\n",
      "          solver='liblinear', tol=0.0001, verbose=0, warm_start=False)\n",
      "Accuracy of the model :  0.9222361567543321\n",
      "The optimal value of C(1/lambda) is :  0.20062843367622873\n"
     ]
    }
   ],
   "source": [
    "# Create regularization hyperparameter distribution using uniform distribution\n",
    "C = uniform(loc=0, scale=10)\n",
    "\n",
    "# Create hyperparameter options\n",
    "hyperparameters = dict(C=C)\n",
    "\n",
    "#Using RandomizedSearchCV\n",
    "model = RandomizedSearchCV(LogisticRegression(penalty='l1'), hyperparameters, scoring='accuracy', cv=3,n_jobs=-1,pre_dispatch=2)\n",
    "model.fit(X_train_vec_standardized, Y_train)\n",
    "print(\"Model with best parameters :\\n\",model.best_estimator_)\n",
    "print(\"Accuracy of the model : \",model.score(X_test_vec_standardized, Y_test))\n",
    "\n",
    "optimal_C = model.best_estimator_.C\n",
    "print(\"The optimal value of C(1/lambda) is : \",optimal_C)\n",
    "\n",
    "# Logistic Regression with Optimal value of C i.e.(1/lambda)\n",
    "lr = LogisticRegression(penalty='l1', C=optimal_C, n_jobs=-1)\n",
    "lr.fit(X_train_vec_standardized,Y_train)\n",
    "predictions = lr.predict(X_test_vec_standardized)\n",
    "\n",
    "# Variables that will be used for  making table in Conclusion part of this assignment\n",
    "bow_l1_random_C = optimal_C\n",
    "bow_l1_random_train_acc = model.score(X_test_vec_standardized, Y_test)*100\n",
    "bow_l1_random_test_acc = accuracy_score(Y_test, predictions) * 100"
   ]
  },
  {
   "cell_type": "code",
   "execution_count": 38,
   "metadata": {},
   "outputs": [
    {
     "name": "stdout",
     "output_type": "stream",
     "text": [
      "\n",
      "The Test Accuracy of the Logistic Regression classifier for C = 0.201 is 92.226362%\n",
      "\n",
      "The Test Precision of the Logistic Regression classifier for C = 0.201 is 0.939661\n",
      "\n",
      "The Test Recall of the Logistic Regression classifier for C = 0.201 is 0.970180\n",
      "\n",
      "The Test F1-Score of the Logistic regression classifier for C = 0.201 is 0.954676\n"
     ]
    }
   ],
   "source": [
    "# evaluate accuracy\n",
    "acc = accuracy_score(Y_test, predictions) * 100\n",
    "print('\\nThe Test Accuracy of the Logistic Regression classifier for C = %.3f is %f%%' % (optimal_C, acc))\n",
    "\n",
    "# evaluate precision\n",
    "acc = precision_score(Y_test, predictions, pos_label = 'positive') \n",
    "print('\\nThe Test Precision of the Logistic Regression classifier for C = %.3f is %f' % (optimal_C, acc))\n",
    "\n",
    "# evaluate recall\n",
    "acc = recall_score(Y_test, predictions, pos_label = 'positive')\n",
    "print('\\nThe Test Recall of the Logistic Regression classifier for C = %.3f is %f' % (optimal_C, acc))\n",
    "\n",
    "# evaluate f1-score\n",
    "acc = f1_score(Y_test, predictions, pos_label = 'positive')\n",
    "print('\\nThe Test F1-Score of the Logistic regression classifier for C = %.3f is %f' % (optimal_C, acc))"
   ]
  },
  {
   "cell_type": "markdown",
   "metadata": {},
   "source": [
    "SEABORN HEATMAP FOR REPRESENTATION OF CONFUSION MATRIX :"
   ]
  },
  {
   "cell_type": "code",
   "execution_count": 39,
   "metadata": {},
   "outputs": [
    {
     "data": {
      "image/png": "[encoded data removed]",
      "text/plain": [
       "<Figure size 720x504 with 2 Axes>"
      ]
     },
     "metadata": {},
     "output_type": "display_data"
    }
   ],
   "source": [
    "# Code for drawing seaborn heatmaps\n",
    "class_names = ['negative','positive']\n",
    "df_heatmap = pd.DataFrame(confusion_matrix(Y_test, predictions), index=class_names, columns=class_names )\n",
    "fig = plt.figure(figsize=(10,7))\n",
    "heatmap = sns.heatmap(df_heatmap, annot=True, fmt=\"d\")\n",
    "\n",
    "# Setting tick labels for heatmap\n",
    "heatmap.yaxis.set_ticklabels(heatmap.yaxis.get_ticklabels(), rotation=0, ha='right', fontsize=14)\n",
    "heatmap.xaxis.set_ticklabels(heatmap.xaxis.get_ticklabels(), rotation=0, ha='right', fontsize=14)\n",
    "plt.ylabel('Predicted label',size=18)\n",
    "plt.xlabel('True label',size=18)\n",
    "plt.title(\"Confusion Matrix\\n\",size=24)\n",
    "plt.show()"
   ]
  },
  {
   "cell_type": "markdown",
   "metadata": {},
   "source": [
    "MULTI-COLLINEARITY CHECK (PERTUBATION TECHNIQUE):"
   ]
  },
  {
   "cell_type": "code",
   "execution_count": 40,
   "metadata": {},
   "outputs": [
    {
     "data": {
      "text/plain": [
       "array([0.02237764, 0.02158832, 0.00169514, 0.00167163, 0.00088758,\n",
       "       0.00088361, 0.00069944, 0.0006367 , 0.00063072, 0.00061668,\n",
       "       0.00056487, 0.00054095, 0.00048238, 0.00043977, 0.00043314,\n",
       "       0.00036974, 0.00036678, 0.00032307, 0.00028503, 0.00027125])"
      ]
     },
     "execution_count": 40,
     "metadata": {},
     "output_type": "execute_result"
    }
   ],
   "source": [
    "epsilon = sp.stats.distributions.norm.rvs(loc=0,scale=0.0001)\n",
    "# Vector before the addition of epsilon\n",
    "W_before_epsilon = lr.coef_\n",
    "# Number of non zero elements in X_train_vec_standardized sparse matrix\n",
    "no_of_non_zero = X_train_vec_standardized.count_nonzero()\n",
    "\n",
    "# Creating new sparse matrix with epsilon at same position of non-zero elements of X_train_vec_standardized\n",
    "indices_X_train = X_train_vec_standardized.indices\n",
    "indptr_X_train = X_train_vec_standardized.indptr\n",
    "\n",
    "# Creating a list of same element with repetition\n",
    "data = [epsilon] * no_of_non_zero\n",
    "Shape = X_train_vec_standardized.shape\n",
    "\n",
    "# Creating sparse matrix\n",
    "sparse_epsilon = csr_matrix((data,indices_X_train,indptr_X_train),shape=Shape,dtype=float)\n",
    "\n",
    "# Add sparse_epsilon and X-train_vec_standardized to get a new sparse matrix with epsilon added to each \n",
    "# non-zero element of X_train_vec_standardized\n",
    "epsilon_train = X_train_vec_standardized + sparse_epsilon\n",
    "\n",
    "# training Logistic Regression Classifier with epsilon_train\n",
    "epsilon_lr = LogisticRegression(penalty='l1', C=optimal_C, n_jobs=-1)\n",
    "epsilon_lr.fit(epsilon_train,Y_train)\n",
    "\n",
    "# Vector after the addition of epsilon\n",
    "W_after_epsilon = epsilon_lr.coef_\n",
    "\n",
    "# Change in vectors after adding epsilon\n",
    "change_vector = W_after_epsilon - W_before_epsilon\n",
    "# Sort this change_vector array after making all the elements positive in ascending order to visualize the change\n",
    "sorted_change_vector = np.sort(np.absolute(change_vector))[:,::-1]\n",
    "\n",
    "sorted_change_vector[0,0:20]"
   ]
  },
  {
   "cell_type": "markdown",
   "metadata": {},
   "source": [
    "OBSERVATION :- From above we can see that there is no large change in the weights of the both vectors . So we will use absolute value of weights(|w|) of the feature to find important features"
   ]
  },
  {
   "cell_type": "markdown",
   "metadata": {},
   "source": [
    "# Selecting Top 20 Important Features Using Absolute Value of Weights (|w|)"
   ]
  },
  {
   "cell_type": "code",
   "execution_count": 41,
   "metadata": {},
   "outputs": [
    {
     "name": "stdout",
     "output_type": "stream",
     "text": [
      "Top 20 features with their weight values :\n",
      "       great\t--> \t0.742383\n",
      "        love\t--> \t0.535755\n",
      "        best\t--> \t0.532161\n",
      "      delici\t--> \t0.517292\n",
      "     perfect\t--> \t0.435130\n",
      "        good\t--> \t0.416290\n",
      "       excel\t--> \t0.368052\n",
      "  disappoint\t--> \t-0.349331\n",
      "        nice\t--> \t0.313458\n",
      "     favorit\t--> \t0.274382\n",
      "        amaz\t--> \t0.273673\n",
      "       worst\t--> \t-0.240574\n",
      "      awesom\t--> \t0.237796\n",
      "        easi\t--> \t0.232143\n",
      "       tasti\t--> \t0.229744\n",
      "      wonder\t--> \t0.224586\n",
      "       happi\t--> \t0.222856\n",
      "        tast\t--> \t-0.222744\n",
      "       yummi\t--> \t0.209360\n",
      "        find\t--> \t0.208743\n"
     ]
    }
   ],
   "source": [
    "absolute_weights = np.absolute(W_before_epsilon)\n",
    "sorted_absolute_index = np.argsort(absolute_weights)[:,::-1]\n",
    "top_index = sorted_absolute_index[0,0:20]\n",
    "\n",
    "all_features = count_vect.get_feature_names()\n",
    "weight_values = lr.coef_\n",
    "\n",
    "# Top 20 features are    \n",
    "print(\"Top 20 features with their weight values :\")\n",
    "\n",
    "for j in top_index:\n",
    "    print(\"%12s\\t--> \\t%f\"%(all_features[j],weight_values[0,j]))"
   ]
  },
  {
   "cell_type": "markdown",
   "metadata": {},
   "source": [
    "# (2) TFIDF"
   ]
  },
  {
   "cell_type": "code",
   "execution_count": 42,
   "metadata": {},
   "outputs": [
    {
     "name": "stdout",
     "output_type": "stream",
     "text": [
      "the type of count vectorizer : <class 'scipy.sparse.csr.csr_matrix'>\n",
      "the shape of out text TFIDF vectorizer :  (254895, 6098)\n",
      "the number of unique words : 6098\n"
     ]
    }
   ],
   "source": [
    "tf_idf_vect = TfidfVectorizer(min_df=50)\n",
    "X_train_vec = tf_idf_vect.fit_transform(X_train)\n",
    "X_test_vec = tf_idf_vect.transform(X_test)\n",
    "print(\"the type of count vectorizer :\",type(X_train_vec))\n",
    "print(\"the shape of out text TFIDF vectorizer : \",X_train_vec.get_shape())\n",
    "print(\"the number of unique words :\", X_train_vec.get_shape()[1])\n",
    "\n",
    "# Data-preprocessing: Standardizing the data\n",
    "sc = StandardScaler(with_mean=False)\n",
    "X_train_vec_standardized = sc.fit_transform(X_train_vec)\n",
    "X_test_vec_standardized = sc.transform(X_test_vec)"
   ]
  },
  {
   "cell_type": "markdown",
   "metadata": {},
   "source": [
    "# (2.a) L2 Regularisation (Logistic Regression)"
   ]
  },
  {
   "cell_type": "markdown",
   "metadata": {},
   "source": [
    "# GridSearchCV Implementation"
   ]
  },
  {
   "cell_type": "code",
   "execution_count": 43,
   "metadata": {},
   "outputs": [
    {
     "name": "stdout",
     "output_type": "stream",
     "text": [
      "Model with best parameters :\n",
      " LogisticRegression(C=0.01, class_weight=None, dual=False, fit_intercept=True,\n",
      "          intercept_scaling=1, max_iter=100, multi_class='ovr', n_jobs=1,\n",
      "          penalty='l2', random_state=None, solver='liblinear', tol=0.0001,\n",
      "          verbose=0, warm_start=False)\n",
      "Accuracy of the model :  0.9245704451625305\n",
      "The optimal value of C(1/lambda) is :  0.01\n"
     ]
    }
   ],
   "source": [
    "tuned_parameters = [{'C': [10**-4, 10**-2, 10**0, 10**2, 10**4]}]\n",
    "#Using GridSearchCV\n",
    "model = GridSearchCV(LogisticRegression(penalty='l2'), tuned_parameters, scoring = 'accuracy', cv=3 ,n_jobs=-1, pre_dispatch=2)\n",
    "model.fit(X_train_vec_standardized, Y_train)\n",
    "print(\"Model with best parameters :\\n\",model.best_estimator_)\n",
    "print(\"Accuracy of the model : \",model.score(X_test_vec_standardized, Y_test))\n",
    "\n",
    "optimal_C = model.best_estimator_.C\n",
    "print(\"The optimal value of C(1/lambda) is : \",optimal_C)\n",
    "\n",
    "# Logistic Regression with Optimal value of C i.e.(1/lambda)\n",
    "lr = LogisticRegression(penalty='l2', C=optimal_C, n_jobs=-1)\n",
    "lr.fit(X_train_vec_standardized,Y_train)\n",
    "predictions = lr.predict(X_test_vec_standardized)\n",
    "\n",
    "# Variables that will be used for  making table in Conclusion part of this assignment\n",
    "tfidf_l2_grid_C = optimal_C\n",
    "tfidf_l2_grid_train_acc = model.score(X_test_vec_standardized, Y_test)*100\n",
    "tfidf_l2_grid_test_acc = accuracy_score(Y_test, predictions) * 100"
   ]
  },
  {
   "cell_type": "code",
   "execution_count": 44,
   "metadata": {},
   "outputs": [
    {
     "name": "stdout",
     "output_type": "stream",
     "text": [
      "\n",
      "The Test Accuracy of the Logistic Regression classifier for C = 0.010 is 92.457045%\n",
      "\n",
      "The Test Precision of the Logistic Regression classifier for C = 0.010 is 0.944318\n",
      "\n",
      "The Test Recall of the Logistic Regression classifier for C = 0.010 is 0.967674\n",
      "\n",
      "The Test F1-Score of the Logistic regression classifier for C = 0.010 is 0.955853\n"
     ]
    }
   ],
   "source": [
    "# evaluate accuracy\n",
    "acc = accuracy_score(Y_test, predictions) * 100\n",
    "print('\\nThe Test Accuracy of the Logistic Regression classifier for C = %.3f is %f%%' % (optimal_C, acc))\n",
    "\n",
    "# evaluate precision\n",
    "acc = precision_score(Y_test, predictions, pos_label = 'positive') \n",
    "print('\\nThe Test Precision of the Logistic Regression classifier for C = %.3f is %f' % (optimal_C, acc))\n",
    "\n",
    "# evaluate recall\n",
    "acc = recall_score(Y_test, predictions, pos_label = 'positive')\n",
    "print('\\nThe Test Recall of the Logistic Regression classifier for C = %.3f is %f' % (optimal_C, acc))\n",
    "\n",
    "# evaluate f1-score\n",
    "acc = f1_score(Y_test, predictions, pos_label = 'positive')\n",
    "print('\\nThe Test F1-Score of the Logistic regression classifier for C = %.3f is %f' % (optimal_C, acc))"
   ]
  },
  {
   "cell_type": "markdown",
   "metadata": {},
   "source": [
    "SEABORN HEATMAP FOR REPRESENTATION OF CONFUSION MATRIX :"
   ]
  },
  {
   "cell_type": "code",
   "execution_count": 45,
   "metadata": {},
   "outputs": [
    {
     "data": {
      "image/png": "[encoded data removed]",
      "text/plain": [
       "<Figure size 720x504 with 2 Axes>"
      ]
     },
     "metadata": {},
     "output_type": "display_data"
    }
   ],
   "source": [
    "# Code for drawing seaborn heatmaps\n",
    "class_names = ['negative','positive']\n",
    "df_heatmap = pd.DataFrame(confusion_matrix(Y_test, predictions), index=class_names, columns=class_names )\n",
    "fig = plt.figure(figsize=(10,7))\n",
    "heatmap = sns.heatmap(df_heatmap, annot=True, fmt=\"d\")\n",
    "\n",
    "# Setting tick labels for heatmap\n",
    "heatmap.yaxis.set_ticklabels(heatmap.yaxis.get_ticklabels(), rotation=0, ha='right', fontsize=14)\n",
    "heatmap.xaxis.set_ticklabels(heatmap.xaxis.get_ticklabels(), rotation=0, ha='right', fontsize=14)\n",
    "plt.ylabel('Predicted label',size=18)\n",
    "plt.xlabel('True label',size=18)\n",
    "plt.title(\"Confusion Matrix\\n\",size=24)\n",
    "plt.show()"
   ]
  },
  {
   "cell_type": "markdown",
   "metadata": {},
   "source": [
    "MULTI-COLLINEARITY CHECK (PERTUBATION TECHNIQUE):"
   ]
  },
  {
   "cell_type": "code",
   "execution_count": 46,
   "metadata": {},
   "outputs": [
    {
     "data": {
      "text/plain": [
       "array([2.04264368e-04, 1.98353779e-04, 9.67404104e-05, 8.41218957e-05,\n",
       "       6.98817831e-05, 5.89690569e-05, 5.87498048e-05, 5.43898704e-05,\n",
       "       5.35128423e-05, 5.23590224e-05, 5.15183141e-05, 4.98570144e-05,\n",
       "       4.33669317e-05, 3.83531952e-05, 3.71385635e-05, 3.71200760e-05,\n",
       "       3.56373557e-05, 3.54688122e-05, 3.26788083e-05, 3.21656309e-05])"
      ]
     },
     "execution_count": 46,
     "metadata": {},
     "output_type": "execute_result"
    }
   ],
   "source": [
    "epsilon = sp.stats.distributions.norm.rvs(loc=0,scale=0.0001)\n",
    "# Vector before the addition of epsilon\n",
    "W_before_epsilon = lr.coef_\n",
    "# Number of non zero elements in X_train_vec_standardized sparse matrix\n",
    "no_of_non_zero = X_train_vec_standardized.count_nonzero()\n",
    "\n",
    "# Creating new sparse matrix with epsilon at same position of non-zero elements of X_train_vec_standardized\n",
    "indices_X_train = X_train_vec_standardized.indices\n",
    "indptr_X_train = X_train_vec_standardized.indptr\n",
    "\n",
    "# Creating a list of same element with repetition\n",
    "data = [epsilon] * no_of_non_zero\n",
    "Shape = X_train_vec_standardized.shape\n",
    "\n",
    "# Creating sparse matrix\n",
    "sparse_epsilon = csr_matrix((data,indices_X_train,indptr_X_train),shape=Shape,dtype=float)\n",
    "\n",
    "# Add sparse_epsilon and X-train_vec_standardized to get a new sparse matrix with epsilon added to each \n",
    "# non-zero element of X_train_vec_standardized\n",
    "epsilon_train = X_train_vec_standardized + sparse_epsilon\n",
    "\n",
    "# training Logistic Regression Classifier with epsilon_train\n",
    "epsilon_lr = LogisticRegression(penalty='l2', C=optimal_C, n_jobs=-1)\n",
    "epsilon_lr.fit(epsilon_train,Y_train)\n",
    "\n",
    "# Vector after the addition of epsilon\n",
    "W_after_epsilon = epsilon_lr.coef_\n",
    "\n",
    "# Change in vectors after adding epsilon\n",
    "change_vector = W_after_epsilon - W_before_epsilon\n",
    "# Sort this change_vector array after making all the elements positive in ascending order to visualize the change\n",
    "sorted_change_vector = np.sort(np.absolute(change_vector))[:,::-1]\n",
    "\n",
    "sorted_change_vector[0,0:20]"
   ]
  },
  {
   "cell_type": "markdown",
   "metadata": {},
   "source": [
    "OBSERVATION :- From above we can see that there is no large change in the weights of the both vectors . So we will use absolute value of weights(|w|) of the feature to find important features"
   ]
  },
  {
   "cell_type": "markdown",
   "metadata": {},
   "source": [
    "# Selecting Top 20 Important Features Using Absolute Value of Weights (|w|)"
   ]
  },
  {
   "cell_type": "code",
   "execution_count": 47,
   "metadata": {},
   "outputs": [
    {
     "name": "stdout",
     "output_type": "stream",
     "text": [
      "Top 20 features with their weight values :\n",
      "       great\t--> \t0.824989\n",
      "        love\t--> \t0.590899\n",
      "        best\t--> \t0.565669\n",
      "      delici\t--> \t0.538336\n",
      "     perfect\t--> \t0.443156\n",
      "        good\t--> \t0.424295\n",
      "       excel\t--> \t0.393403\n",
      "  disappoint\t--> \t-0.305526\n",
      "        nice\t--> \t0.302383\n",
      "     favorit\t--> \t0.292604\n",
      "        amaz\t--> \t0.270344\n",
      "      awesom\t--> \t0.256720\n",
      "        easi\t--> \t0.241699\n",
      "       worst\t--> \t-0.237943\n",
      "      wonder\t--> \t0.232105\n",
      "       yummi\t--> \t0.230961\n",
      "       tasti\t--> \t0.221280\n",
      "       thank\t--> \t0.219595\n",
      "        find\t--> \t0.215802\n",
      "     fantast\t--> \t0.213699\n"
     ]
    }
   ],
   "source": [
    "absolute_weights = np.absolute(W_before_epsilon)\n",
    "sorted_absolute_index = np.argsort(absolute_weights)[:,::-1]\n",
    "top_index = sorted_absolute_index[0,0:20]\n",
    "\n",
    "all_features = tf_idf_vect.get_feature_names()\n",
    "weight_values = lr.coef_\n",
    "\n",
    "# Top 20 features are    \n",
    "print(\"Top 20 features with their weight values :\")\n",
    "\n",
    "for j in top_index:\n",
    "    print(\"%12s\\t--> \\t%f\"%(all_features[j],weight_values[0,j]))"
   ]
  },
  {
   "cell_type": "markdown",
   "metadata": {},
   "source": [
    "# RandomizedSearchCV Implementation"
   ]
  },
  {
   "cell_type": "code",
   "execution_count": 48,
   "metadata": {},
   "outputs": [
    {
     "name": "stdout",
     "output_type": "stream",
     "text": [
      "Model with best parameters :\n",
      " LogisticRegression(C=4.827593247007973, class_weight=None, dual=False,\n",
      "          fit_intercept=True, intercept_scaling=1, max_iter=100,\n",
      "          multi_class='ovr', n_jobs=1, penalty='l2', random_state=None,\n",
      "          solver='liblinear', tol=0.0001, verbose=0, warm_start=False)\n",
      "Accuracy of the model :  0.9243782096465613\n",
      "The optimal value of C(1/lambda) is :  4.827593247007973\n"
     ]
    }
   ],
   "source": [
    "# Create regularization hyperparameter distribution using uniform distribution\n",
    "C = uniform(loc=0, scale=10)\n",
    "\n",
    "# Create hyperparameter options\n",
    "hyperparameters = dict(C=C)\n",
    "\n",
    "#Using RandomizedSearchCV\n",
    "model = RandomizedSearchCV(LogisticRegression(penalty='l2'), hyperparameters, scoring='accuracy', cv=3,n_jobs=-1,pre_dispatch=2)\n",
    "model.fit(X_train_vec_standardized, Y_train)\n",
    "print(\"Model with best parameters :\\n\",model.best_estimator_)\n",
    "print(\"Accuracy of the model : \",model.score(X_test_vec_standardized, Y_test))\n",
    "\n",
    "optimal_C = model.best_estimator_.C\n",
    "print(\"The optimal value of C(1/lambda) is : \",optimal_C)\n",
    "\n",
    "# Logistic Regression with Optimal value of C i.e.(1/lambda)\n",
    "lr = LogisticRegression(penalty='l2', C=optimal_C, n_jobs=-1)\n",
    "lr.fit(X_train_vec_standardized,Y_train)\n",
    "predictions = lr.predict(X_test_vec_standardized)\n",
    "\n",
    "# Variables that will be used for  making table in Conclusion part of this assignment\n",
    "tfidf_l2_random_C = optimal_C\n",
    "tfidf_l2_random_train_acc = model.score(X_test_vec_standardized, Y_test)*100\n",
    "tfidf_l2_random_test_acc = accuracy_score(Y_test, predictions) * 100"
   ]
  },
  {
   "cell_type": "code",
   "execution_count": 49,
   "metadata": {},
   "outputs": [
    {
     "name": "stdout",
     "output_type": "stream",
     "text": [
      "\n",
      "The Test Accuracy of the Logistic Regression classifier for C = 4.827593 is 92.437821%\n",
      "\n",
      "The Test Precision of the Logistic Regression classifier for C = 4.827593 is 0.944268\n",
      "\n",
      "The Test Recall of the Logistic Regression classifier for C = 4.827593 is 0.967489\n",
      "\n",
      "The Test F1-Score of the Logistic regression classifier for C = 4.827593 is 0.955738\n"
     ]
    }
   ],
   "source": [
    "# evaluate accuracy\n",
    "acc = accuracy_score(Y_test, predictions) * 100\n",
    "print('\\nThe Test Accuracy of the Logistic Regression classifier for C = %f is %f%%' % (optimal_C, acc))\n",
    "\n",
    "# evaluate precision\n",
    "acc = precision_score(Y_test, predictions, pos_label = 'positive') \n",
    "print('\\nThe Test Precision of the Logistic Regression classifier for C = %f is %f' % (optimal_C, acc))\n",
    "\n",
    "# evaluate recall\n",
    "acc = recall_score(Y_test, predictions, pos_label = 'positive')\n",
    "print('\\nThe Test Recall of the Logistic Regression classifier for C = %f is %f' % (optimal_C, acc))\n",
    "\n",
    "# evaluate f1-score\n",
    "acc = f1_score(Y_test, predictions, pos_label = 'positive')\n",
    "print('\\nThe Test F1-Score of the Logistic regression classifier for C = %f is %f' % (optimal_C, acc))"
   ]
  },
  {
   "cell_type": "markdown",
   "metadata": {},
   "source": [
    "SEABORN HEATMAP FOR REPRESENTATION OF CONFUSION MATRIX :"
   ]
  },
  {
   "cell_type": "code",
   "execution_count": 50,
   "metadata": {},
   "outputs": [
    {
     "data": {
      "image/png": "[encoded data removed]",
      "text/plain": [
       "<Figure size 720x504 with 2 Axes>"
      ]
     },
     "metadata": {},
     "output_type": "display_data"
    }
   ],
   "source": [
    "# Code for drawing seaborn heatmaps\n",
    "class_names = ['negative','positive']\n",
    "df_heatmap = pd.DataFrame(confusion_matrix(Y_test, predictions), index=class_names, columns=class_names )\n",
    "fig = plt.figure(figsize=(10,7))\n",
    "heatmap = sns.heatmap(df_heatmap, annot=True, fmt=\"d\")\n",
    "\n",
    "# Setting tick labels for heatmap\n",
    "heatmap.yaxis.set_ticklabels(heatmap.yaxis.get_ticklabels(), rotation=0, ha='right', fontsize=14)\n",
    "heatmap.xaxis.set_ticklabels(heatmap.xaxis.get_ticklabels(), rotation=0, ha='right', fontsize=14)\n",
    "plt.ylabel('Predicted label',size=18)\n",
    "plt.xlabel('True label',size=18)\n",
    "plt.title(\"Confusion Matrix\\n\",size=24)\n",
    "plt.show()"
   ]
  },
  {
   "cell_type": "markdown",
   "metadata": {},
   "source": [
    "MULTI-COLLINEARITY CHECK (PERTUBATION TECHNIQUE):"
   ]
  },
  {
   "cell_type": "code",
   "execution_count": 51,
   "metadata": {},
   "outputs": [
    {
     "data": {
      "text/plain": [
       "array([8.87431952e-05, 6.30367082e-05, 6.29254718e-05, 6.27161106e-05,\n",
       "       5.62670654e-05, 5.57362672e-05, 5.50217821e-05, 4.55021679e-05,\n",
       "       4.46283845e-05, 4.28031537e-05, 4.24521546e-05, 4.19164487e-05,\n",
       "       3.98683431e-05, 3.97135763e-05, 3.31797616e-05, 2.51553410e-05,\n",
       "       1.91065413e-05, 1.75863252e-05, 1.72318094e-05, 1.69828696e-05])"
      ]
     },
     "execution_count": 51,
     "metadata": {},
     "output_type": "execute_result"
    }
   ],
   "source": [
    "epsilon = sp.stats.distributions.norm.rvs(loc=0,scale=0.0001)\n",
    "# Vector before the addition of epsilon\n",
    "W_before_epsilon = lr.coef_\n",
    "# Number of non zero elements in X_train_vec_standardized sparse matrix\n",
    "no_of_non_zero = X_train_vec_standardized.count_nonzero()\n",
    "\n",
    "# Creating new sparse matrix with epsilon at same position of non-zero elements of X_train_vec_standardized\n",
    "indices_X_train = X_train_vec_standardized.indices\n",
    "indptr_X_train = X_train_vec_standardized.indptr\n",
    "\n",
    "# Creating a list of same element with repetition\n",
    "data = [epsilon] * no_of_non_zero\n",
    "Shape = X_train_vec_standardized.shape\n",
    "\n",
    "# Creating sparse matrix\n",
    "sparse_epsilon = csr_matrix((data,indices_X_train,indptr_X_train),shape=Shape,dtype=float)\n",
    "\n",
    "# Add sparse_epsilon and X-train_vec_standardized to get a new sparse matrix with epsilon added to each \n",
    "# non-zero element of X_train_vec_standardized\n",
    "epsilon_train = X_train_vec_standardized + sparse_epsilon\n",
    "\n",
    "# training Logistic Regression Classifier with epsilon_train\n",
    "epsilon_lr = LogisticRegression(penalty='l2', C=optimal_C, n_jobs=-1)\n",
    "epsilon_lr.fit(epsilon_train,Y_train)\n",
    "\n",
    "# Vector after the addition of epsilon\n",
    "W_after_epsilon = epsilon_lr.coef_\n",
    "\n",
    "# Change in vectors after adding epsilon\n",
    "change_vector = W_after_epsilon - W_before_epsilon\n",
    "# Sort this change_vector array after making all the elements positive in ascending order to visualize the change\n",
    "sorted_change_vector = np.sort(np.absolute(change_vector))[:,::-1]\n",
    "\n",
    "sorted_change_vector[0,0:20]"
   ]
  },
  {
   "cell_type": "markdown",
   "metadata": {},
   "source": [
    "OBSERVATION :- From above we can see that there is no large change in the weights of the both vectors . So we will use absolute value of weights(|w|) of the feature to find important features"
   ]
  },
  {
   "cell_type": "markdown",
   "metadata": {},
   "source": [
    "# Selecting Top 20 Important Features Using Absolute Value of Weights (|w|)"
   ]
  },
  {
   "cell_type": "code",
   "execution_count": 52,
   "metadata": {},
   "outputs": [
    {
     "name": "stdout",
     "output_type": "stream",
     "text": [
      "Top 20 features with their weight values :\n",
      "       great\t--> \t0.850204\n",
      "        love\t--> \t0.603318\n",
      "        best\t--> \t0.583994\n",
      "      delici\t--> \t0.560556\n",
      "     perfect\t--> \t0.462133\n",
      "        good\t--> \t0.431604\n",
      "       excel\t--> \t0.407692\n",
      "  disappoint\t--> \t-0.311574\n",
      "        nice\t--> \t0.310207\n",
      "     favorit\t--> \t0.299839\n",
      "        amaz\t--> \t0.279799\n",
      "      awesom\t--> \t0.266254\n",
      "        easi\t--> \t0.248024\n",
      "       worst\t--> \t-0.242299\n",
      "       yummi\t--> \t0.239338\n",
      "      wonder\t--> \t0.237348\n",
      "       tasti\t--> \t0.224943\n",
      "       thank\t--> \t0.223960\n",
      "     fantast\t--> \t0.221815\n",
      "      addict\t--> \t0.220521\n"
     ]
    }
   ],
   "source": [
    "absolute_weights = np.absolute(W_before_epsilon)\n",
    "sorted_absolute_index = np.argsort(absolute_weights)[:,::-1]\n",
    "top_index = sorted_absolute_index[0,0:20]\n",
    "\n",
    "all_features = tf_idf_vect.get_feature_names()\n",
    "weight_values = lr.coef_\n",
    "\n",
    "# Top 20 features are    \n",
    "print(\"Top 20 features with their weight values :\")\n",
    "\n",
    "for j in top_index:\n",
    "    print(\"%12s\\t--> \\t%f\"%(all_features[j],weight_values[0,j]))"
   ]
  },
  {
   "cell_type": "markdown",
   "metadata": {},
   "source": [
    "# (2.b) L1 Regularisation (Logistic regression)"
   ]
  },
  {
   "cell_type": "markdown",
   "metadata": {},
   "source": [
    "# GridSearchCV Implementation"
   ]
  },
  {
   "cell_type": "code",
   "execution_count": 53,
   "metadata": {},
   "outputs": [
    {
     "name": "stdout",
     "output_type": "stream",
     "text": [
      "Model with best parameters :\n",
      " LogisticRegression(C=0.01, class_weight=None, dual=False, fit_intercept=True,\n",
      "          intercept_scaling=1, max_iter=100, multi_class='ovr', n_jobs=1,\n",
      "          penalty='l1', random_state=None, solver='liblinear', tol=0.0001,\n",
      "          verbose=0, warm_start=False)\n",
      "Accuracy of the model :  0.9258886315577485\n",
      "The optimal value of C(1/lambda) is :  0.01\n"
     ]
    }
   ],
   "source": [
    "tuned_parameters = [{'C': [10**-4, 10**-2, 10**0, 10**2, 10**4]}]\n",
    "#Using GridSearchCV\n",
    "model = GridSearchCV(LogisticRegression(penalty='l1'), tuned_parameters, scoring = 'accuracy', cv=3 ,n_jobs=-1, pre_dispatch=2)\n",
    "model.fit(X_train_vec_standardized, Y_train)\n",
    "print(\"Model with best parameters :\\n\",model.best_estimator_)\n",
    "print(\"Accuracy of the model : \",model.score(X_test_vec_standardized, Y_test))\n",
    "\n",
    "optimal_C = model.best_estimator_.C\n",
    "print(\"The optimal value of C(1/lambda) is : \",optimal_C)\n",
    "\n",
    "# Logistic Regression with Optimal value of C i.e.(1/lambda)\n",
    "lr = LogisticRegression(penalty='l1', C=optimal_C, n_jobs=-1)\n",
    "lr.fit(X_train_vec_standardized,Y_train)\n",
    "predictions = lr.predict(X_test_vec_standardized)\n",
    "\n",
    "# Variables that will be used for  making table in Conclusion part of this assignment\n",
    "tfidf_l1_grid_C = optimal_C\n",
    "tfidf_l1_grid_train_acc = model.score(X_test_vec_standardized, Y_test)*100\n",
    "tfidf_l1_grid_test_acc = accuracy_score(Y_test, predictions) * 100"
   ]
  },
  {
   "cell_type": "code",
   "execution_count": 54,
   "metadata": {},
   "outputs": [
    {
     "name": "stdout",
     "output_type": "stream",
     "text": [
      "\n",
      "The Test Accuracy of the Logistic Regression classifier for C = 0.010000 is 92.589779%\n",
      "\n",
      "The Test Precision of the Logistic Regression classifier for C = 0.010000 is 0.941001\n",
      "\n",
      "The Test Recall of the Logistic Regression classifier for C = 0.010000 is 0.973206\n",
      "\n",
      "The Test F1-Score of the Logistic regression classifier for C = 0.010000 is 0.956832\n"
     ]
    }
   ],
   "source": [
    "# evaluate accuracy\n",
    "acc = accuracy_score(Y_test, predictions) * 100\n",
    "print('\\nThe Test Accuracy of the Logistic Regression classifier for C = %f is %f%%' % (optimal_C, acc))\n",
    "\n",
    "# evaluate precision\n",
    "acc = precision_score(Y_test, predictions, pos_label = 'positive') \n",
    "print('\\nThe Test Precision of the Logistic Regression classifier for C = %f is %f' % (optimal_C, acc))\n",
    "\n",
    "# evaluate recall\n",
    "acc = recall_score(Y_test, predictions, pos_label = 'positive')\n",
    "print('\\nThe Test Recall of the Logistic Regression classifier for C = %f is %f' % (optimal_C, acc))\n",
    "\n",
    "# evaluate f1-score\n",
    "acc = f1_score(Y_test, predictions, pos_label = 'positive')\n",
    "print('\\nThe Test F1-Score of the Logistic regression classifier for C = %f is %f' % (optimal_C, acc))"
   ]
  },
  {
   "cell_type": "markdown",
   "metadata": {},
   "source": [
    "SEABORN HEATMAP FOR REPRESENTATION OF CONFUSION MATRIX :"
   ]
  },
  {
   "cell_type": "code",
   "execution_count": 55,
   "metadata": {},
   "outputs": [
    {
     "data": {
      "image/png": "[encoded data removed]",
      "text/plain": [
       "<Figure size 720x504 with 2 Axes>"
      ]
     },
     "metadata": {},
     "output_type": "display_data"
    }
   ],
   "source": [
    "# Code for drawing seaborn heatmaps\n",
    "class_names = ['negative','positive']\n",
    "df_heatmap = pd.DataFrame(confusion_matrix(Y_test, predictions), index=class_names, columns=class_names )\n",
    "fig = plt.figure(figsize=(10,7))\n",
    "heatmap = sns.heatmap(df_heatmap, annot=True, fmt=\"d\")\n",
    "\n",
    "# Setting tick labels for heatmap\n",
    "heatmap.yaxis.set_ticklabels(heatmap.yaxis.get_ticklabels(), rotation=0, ha='right', fontsize=14)\n",
    "heatmap.xaxis.set_ticklabels(heatmap.xaxis.get_ticklabels(), rotation=0, ha='right', fontsize=14)\n",
    "plt.ylabel('Predicted label',size=18)\n",
    "plt.xlabel('True label',size=18)\n",
    "plt.title(\"Confusion Matrix\\n\",size=24)\n",
    "plt.show()"
   ]
  },
  {
   "cell_type": "markdown",
   "metadata": {},
   "source": [
    "MULTI-COLLINEARITY CHECK (PERTUBATION TECHNIQUE):"
   ]
  },
  {
   "cell_type": "code",
   "execution_count": 56,
   "metadata": {},
   "outputs": [
    {
     "data": {
      "text/plain": [
       "array([2.21733505e-04, 1.82563302e-04, 1.73249691e-04, 1.62491182e-04,\n",
       "       1.28155685e-04, 1.12210395e-04, 1.07174428e-04, 1.01721274e-04,\n",
       "       8.56302666e-05, 8.09102511e-05, 7.95781859e-05, 7.94541525e-05,\n",
       "       7.84000199e-05, 7.78564244e-05, 6.79457968e-05, 6.73540266e-05,\n",
       "       6.67539489e-05, 6.43223632e-05, 6.41916587e-05, 6.34377651e-05])"
      ]
     },
     "execution_count": 56,
     "metadata": {},
     "output_type": "execute_result"
    }
   ],
   "source": [
    "epsilon = sp.stats.distributions.norm.rvs(loc=0,scale=0.0001)\n",
    "# Vector before the addition of epsilon\n",
    "W_before_epsilon = lr.coef_\n",
    "# Number of non zero elements in X_train_vec_standardized sparse matrix\n",
    "no_of_non_zero = X_train_vec_standardized.count_nonzero()\n",
    "\n",
    "# Creating new sparse matrix with epsilon at same position of non-zero elements of X_train_vec_standardized\n",
    "indices_X_train = X_train_vec_standardized.indices\n",
    "indptr_X_train = X_train_vec_standardized.indptr\n",
    "\n",
    "# Creating a list of same element with repetition\n",
    "data = [epsilon] * no_of_non_zero\n",
    "Shape = X_train_vec_standardized.shape\n",
    "\n",
    "# Creating sparse matrix\n",
    "sparse_epsilon = csr_matrix((data,indices_X_train,indptr_X_train),shape=Shape,dtype=float)\n",
    "\n",
    "# Add sparse_epsilon and X-train_vec_standardized to get a new sparse matrix with epsilon added to each \n",
    "# non-zero element of X_train_vec_standardized\n",
    "epsilon_train = X_train_vec_standardized + sparse_epsilon\n",
    "\n",
    "# training Logistic Regression Classifier with epsilon_train\n",
    "epsilon_lr = LogisticRegression(penalty='l1', C=optimal_C, n_jobs=-1)\n",
    "epsilon_lr.fit(epsilon_train,Y_train)\n",
    "\n",
    "# Vector after the addition of epsilon\n",
    "W_after_epsilon = epsilon_lr.coef_\n",
    "\n",
    "# Change in vectors after adding epsilon\n",
    "change_vector = W_after_epsilon - W_before_epsilon\n",
    "# Sort this change_vector array after making all the elements positive in ascending order to visualize the change\n",
    "sorted_change_vector = np.sort(np.absolute(change_vector))[:,::-1]\n",
    "\n",
    "sorted_change_vector[0,0:20]"
   ]
  },
  {
   "cell_type": "markdown",
   "metadata": {},
   "source": [
    "OBSERVATION :- From above we can see that there is no large change in the weights of the both vectors . So we will use absolute value of weights(|w|) of the feature to find important features"
   ]
  },
  {
   "cell_type": "markdown",
   "metadata": {},
   "source": [
    "# Selecting Top 20 Important Features Using Absolute Value of Weights (|w|)"
   ]
  },
  {
   "cell_type": "code",
   "execution_count": 57,
   "metadata": {},
   "outputs": [
    {
     "name": "stdout",
     "output_type": "stream",
     "text": [
      "Top 20 features with their weight values :\n",
      "       great\t--> \t0.773984\n",
      "        love\t--> \t0.555771\n",
      "        best\t--> \t0.526791\n",
      "      delici\t--> \t0.496685\n",
      "     perfect\t--> \t0.408177\n",
      "        good\t--> \t0.385962\n",
      "       excel\t--> \t0.362690\n",
      "  disappoint\t--> \t-0.285032\n",
      "        nice\t--> \t0.276128\n",
      "     favorit\t--> \t0.268575\n",
      "        amaz\t--> \t0.239582\n",
      "      awesom\t--> \t0.223106\n",
      "        easi\t--> \t0.219676\n",
      "       worst\t--> \t-0.218179\n",
      "      wonder\t--> \t0.203090\n",
      "       yummi\t--> \t0.201855\n",
      "       tasti\t--> \t0.199293\n",
      "        find\t--> \t0.196676\n",
      "       thank\t--> \t0.195658\n",
      "       happi\t--> \t0.191244\n"
     ]
    }
   ],
   "source": [
    "absolute_weights = np.absolute(W_before_epsilon)\n",
    "sorted_absolute_index = np.argsort(absolute_weights)[:,::-1]\n",
    "top_index = sorted_absolute_index[0,0:20]\n",
    "\n",
    "all_features = tf_idf_vect.get_feature_names()\n",
    "weight_values = lr.coef_\n",
    "\n",
    "# Top 20 features are    \n",
    "print(\"Top 20 features with their weight values :\")\n",
    "\n",
    "for j in top_index:\n",
    "    print(\"%12s\\t--> \\t%f\"%(all_features[j],weight_values[0,j]))"
   ]
  },
  {
   "cell_type": "markdown",
   "metadata": {},
   "source": [
    "# More Sparsity (Fewer elements of W* being non-zero) by increasing Lambda (decreasing C)"
   ]
  },
  {
   "cell_type": "code",
   "execution_count": 58,
   "metadata": {},
   "outputs": [
    {
     "name": "stdout",
     "output_type": "stream",
     "text": [
      "6061\n"
     ]
    }
   ],
   "source": [
    "# With lambda = 1\n",
    "clf = LogisticRegression(C=1, penalty='l1',n_jobs=-1);\n",
    "clf.fit(X_train_vec_standardized, Y_train);\n",
    "w = clf.coef_\n",
    "print(np.count_nonzero(w))"
   ]
  },
  {
   "cell_type": "code",
   "execution_count": 59,
   "metadata": {},
   "outputs": [
    {
     "name": "stdout",
     "output_type": "stream",
     "text": [
      "5810\n"
     ]
    }
   ],
   "source": [
    "# With lambda = 10\n",
    "clf = LogisticRegression(C=0.1, penalty='l1',n_jobs=-1);\n",
    "clf.fit(X_train_vec_standardized, Y_train);\n",
    "w = clf.coef_\n",
    "print(np.count_nonzero(w))"
   ]
  },
  {
   "cell_type": "code",
   "execution_count": 60,
   "metadata": {},
   "outputs": [
    {
     "name": "stdout",
     "output_type": "stream",
     "text": [
      "3903\n"
     ]
    }
   ],
   "source": [
    "# With lambda = 100\n",
    "clf = LogisticRegression(C=0.01, penalty='l1',n_jobs=-1);\n",
    "clf.fit(X_train_vec_standardized, Y_train);\n",
    "w = clf.coef_\n",
    "print(np.count_nonzero(w))"
   ]
  },
  {
   "cell_type": "code",
   "execution_count": 61,
   "metadata": {},
   "outputs": [
    {
     "name": "stdout",
     "output_type": "stream",
     "text": [
      "442\n"
     ]
    }
   ],
   "source": [
    "# With lambda = 1000\n",
    "clf = LogisticRegression(C=0.001, penalty='l1',n_jobs=-1);\n",
    "clf.fit(X_train_vec_standardized, Y_train);\n",
    "w = clf.coef_\n",
    "print(np.count_nonzero(w))"
   ]
  },
  {
   "cell_type": "markdown",
   "metadata": {},
   "source": [
    "OBSERVATION :- From above we can see that the number of non-zero elements of W* is decreasing as we are increasing the value of lambda (C is decreasing) ."
   ]
  },
  {
   "cell_type": "markdown",
   "metadata": {},
   "source": [
    "# RandomizedSearchCV Implementation"
   ]
  },
  {
   "cell_type": "code",
   "execution_count": 62,
   "metadata": {},
   "outputs": [
    {
     "name": "stdout",
     "output_type": "stream",
     "text": [
      "Model with best parameters :\n",
      " LogisticRegression(C=0.8718584489029746, class_weight=None, dual=False,\n",
      "          fit_intercept=True, intercept_scaling=1, max_iter=100,\n",
      "          multi_class='ovr', n_jobs=1, penalty='l1', random_state=None,\n",
      "          solver='liblinear', tol=0.0001, verbose=0, warm_start=False)\n",
      "Accuracy of the model :  0.9244697503684514\n",
      "The optimal value of C(1/lambda) is :  0.8718584489029746\n"
     ]
    }
   ],
   "source": [
    "# Create regularization hyperparameter distribution using uniform distribution\n",
    "C = uniform(loc=0, scale=10)\n",
    "\n",
    "# Create hyperparameter options\n",
    "hyperparameters = dict(C=C)\n",
    "\n",
    "#Using RandomizedSearchCV\n",
    "model = RandomizedSearchCV(LogisticRegression(penalty='l1'), hyperparameters, scoring='accuracy', cv=3,n_jobs=-1,pre_dispatch=2)\n",
    "model.fit(X_train_vec_standardized, Y_train)\n",
    "print(\"Model with best parameters :\\n\",model.best_estimator_)\n",
    "print(\"Accuracy of the model : \",model.score(X_test_vec_standardized, Y_test))\n",
    "\n",
    "optimal_C = model.best_estimator_.C\n",
    "print(\"The optimal value of C(1/lambda) is : \",optimal_C)\n",
    "\n",
    "# Logistic Regression with Optimal value of C i.e.(1/lambda)\n",
    "lr = LogisticRegression(penalty='l1', C=optimal_C, n_jobs=-1)\n",
    "lr.fit(X_train_vec_standardized,Y_train)\n",
    "predictions = lr.predict(X_test_vec_standardized)\n",
    "\n",
    "# Variables that will be used for  making table in Conclusion part of this assignment\n",
    "tfidf_l1_random_C = optimal_C\n",
    "tfidf_l1_random_train_acc = model.score(X_test_vec_standardized, Y_test)*100\n",
    "tfidf_l1_random_test_acc = accuracy_score(Y_test, predictions) * 100"
   ]
  },
  {
   "cell_type": "code",
   "execution_count": 63,
   "metadata": {},
   "outputs": [
    {
     "name": "stdout",
     "output_type": "stream",
     "text": [
      "\n",
      "The Test Accuracy of the Logistic Regression classifier for C = 0.871858 is 92.447890%\n",
      "\n",
      "The Test Precision of the Logistic Regression classifier for C = 0.871858 is 0.944303\n",
      "\n",
      "The Test Recall of the Logistic Regression classifier for C = 0.871858 is 0.967576\n",
      "\n",
      "The Test F1-Score of the Logistic regression classifier for C = 0.871858 is 0.955798\n"
     ]
    }
   ],
   "source": [
    "# evaluate accuracy\n",
    "acc = accuracy_score(Y_test, predictions) * 100\n",
    "print('\\nThe Test Accuracy of the Logistic Regression classifier for C = %f is %f%%' % (optimal_C, acc))\n",
    "\n",
    "# evaluate precision\n",
    "acc = precision_score(Y_test, predictions, pos_label = 'positive') \n",
    "print('\\nThe Test Precision of the Logistic Regression classifier for C = %f is %f' % (optimal_C, acc))\n",
    "\n",
    "# evaluate recall\n",
    "acc = recall_score(Y_test, predictions, pos_label = 'positive')\n",
    "print('\\nThe Test Recall of the Logistic Regression classifier for C = %f is %f' % (optimal_C, acc))\n",
    "\n",
    "# evaluate f1-score\n",
    "acc = f1_score(Y_test, predictions, pos_label = 'positive')\n",
    "print('\\nThe Test F1-Score of the Logistic regression classifier for C = %f is %f' % (optimal_C, acc))"
   ]
  },
  {
   "cell_type": "markdown",
   "metadata": {},
   "source": [
    "SEABORN HEATMAP FOR REPRESENTATION OF CONFUSION MATRIX :"
   ]
  },
  {
   "cell_type": "code",
   "execution_count": 64,
   "metadata": {},
   "outputs": [
    {
     "data": {
      "image/png": "[encoded data removed]",
      "text/plain": [
       "<Figure size 720x504 with 2 Axes>"
      ]
     },
     "metadata": {},
     "output_type": "display_data"
    }
   ],
   "source": [
    "# Code for drawing seaborn heatmaps\n",
    "class_names = ['negative','positive']\n",
    "df_heatmap = pd.DataFrame(confusion_matrix(Y_test, predictions), index=class_names, columns=class_names )\n",
    "fig = plt.figure(figsize=(10,7))\n",
    "heatmap = sns.heatmap(df_heatmap, annot=True, fmt=\"d\")\n",
    "\n",
    "# Setting tick labels for heatmap\n",
    "heatmap.yaxis.set_ticklabels(heatmap.yaxis.get_ticklabels(), rotation=0, ha='right', fontsize=14)\n",
    "heatmap.xaxis.set_ticklabels(heatmap.xaxis.get_ticklabels(), rotation=0, ha='right', fontsize=14)\n",
    "plt.ylabel('Predicted label',size=18)\n",
    "plt.xlabel('True label',size=18)\n",
    "plt.title(\"Confusion Matrix\\n\",size=24)\n",
    "plt.show()"
   ]
  },
  {
   "cell_type": "markdown",
   "metadata": {},
   "source": [
    "MULTI-COLLINEARITY CHECK (PERTUBATION TECHNIQUE):"
   ]
  },
  {
   "cell_type": "code",
   "execution_count": 65,
   "metadata": {},
   "outputs": [
    {
     "data": {
      "text/plain": [
       "array([0.00244115, 0.00241197, 0.00206425, 0.00173659, 0.00162052,\n",
       "       0.00140127, 0.00135811, 0.00114338, 0.00103279, 0.00064469,\n",
       "       0.00062623, 0.00062007, 0.00015853, 0.00014514, 0.00014103,\n",
       "       0.00012394, 0.00012128, 0.00010544, 0.00010494, 0.00010258])"
      ]
     },
     "execution_count": 65,
     "metadata": {},
     "output_type": "execute_result"
    }
   ],
   "source": [
    "epsilon = sp.stats.distributions.norm.rvs(loc=0,scale=0.0001)\n",
    "# Vector before the addition of epsilon\n",
    "W_before_epsilon = lr.coef_\n",
    "# Number of non zero elements in X_train_vec_standardized sparse matrix\n",
    "no_of_non_zero = X_train_vec_standardized.count_nonzero()\n",
    "\n",
    "# Creating new sparse matrix with epsilon at same position of non-zero elements of X_train_vec_standardized\n",
    "indices_X_train = X_train_vec_standardized.indices\n",
    "indptr_X_train = X_train_vec_standardized.indptr\n",
    "\n",
    "# Creating a list of same element with repetition\n",
    "data = [epsilon] * no_of_non_zero\n",
    "Shape = X_train_vec_standardized.shape\n",
    "\n",
    "# Creating sparse matrix\n",
    "sparse_epsilon = csr_matrix((data,indices_X_train,indptr_X_train),shape=Shape,dtype=float)\n",
    "\n",
    "# Add sparse_epsilon and X-train_vec_standardized to get a new sparse matrix with epsilon added to each \n",
    "# non-zero element of X_train_vec_standardized\n",
    "epsilon_train = X_train_vec_standardized + sparse_epsilon\n",
    "\n",
    "# training Logistic Regression Classifier with epsilon_train\n",
    "epsilon_lr = LogisticRegression(penalty='l1', C=optimal_C, n_jobs=-1)\n",
    "epsilon_lr.fit(epsilon_train,Y_train)\n",
    "\n",
    "# Vector after the addition of epsilon\n",
    "W_after_epsilon = epsilon_lr.coef_\n",
    "\n",
    "# Change in vectors after adding epsilon\n",
    "change_vector = W_after_epsilon - W_before_epsilon\n",
    "# Sort this change_vector array after making all the elements positive in ascending order to visualize the change\n",
    "sorted_change_vector = np.sort(np.absolute(change_vector))[:,::-1]\n",
    "\n",
    "sorted_change_vector[0,0:20]"
   ]
  },
  {
   "cell_type": "markdown",
   "metadata": {},
   "source": [
    "OBSERVATION :- From above we can see that there is no large change in the weights of the both vectors . So we will use absolute value of weights(|w|) of the feature to find important features"
   ]
  },
  {
   "cell_type": "markdown",
   "metadata": {},
   "source": [
    "# Selecting Top 20 Important Features Using Absolute Value of Weights (|w|)"
   ]
  },
  {
   "cell_type": "code",
   "execution_count": 66,
   "metadata": {},
   "outputs": [
    {
     "name": "stdout",
     "output_type": "stream",
     "text": [
      "Top 20 features with their weight values :\n",
      "       great\t--> \t0.849038\n",
      "        love\t--> \t0.602777\n",
      "        best\t--> \t0.583035\n",
      "      delici\t--> \t0.559510\n",
      "     perfect\t--> \t0.461114\n",
      "        good\t--> \t0.431090\n",
      "       excel\t--> \t0.406908\n",
      "  disappoint\t--> \t-0.310883\n",
      "        nice\t--> \t0.309608\n",
      "     favorit\t--> \t0.299218\n",
      "        amaz\t--> \t0.278982\n",
      "      awesom\t--> \t0.265530\n",
      "        easi\t--> \t0.247506\n",
      "       worst\t--> \t-0.241804\n",
      "       yummi\t--> \t0.238737\n",
      "      wonder\t--> \t0.236777\n",
      "       tasti\t--> \t0.224669\n",
      "       thank\t--> \t0.223515\n",
      "     fantast\t--> \t0.221172\n",
      "      addict\t--> \t0.219877\n"
     ]
    }
   ],
   "source": [
    "absolute_weights = np.absolute(W_before_epsilon)\n",
    "sorted_absolute_index = np.argsort(absolute_weights)[:,::-1]\n",
    "top_index = sorted_absolute_index[0,0:20]\n",
    "\n",
    "all_features = tf_idf_vect.get_feature_names()\n",
    "weight_values = lr.coef_\n",
    "\n",
    "# Top 20 features are    \n",
    "print(\"Top 20 features with their weight values :\")\n",
    "\n",
    "for j in top_index:\n",
    "    print(\"%12s\\t--> \\t%f\"%(all_features[j],weight_values[0,j]))"
   ]
  },
  {
   "cell_type": "markdown",
   "metadata": {},
   "source": [
    "# Word2Vec"
   ]
  },
  {
   "cell_type": "code",
   "execution_count": 67,
   "metadata": {},
   "outputs": [
    {
     "name": "stdout",
     "output_type": "stream",
     "text": [
      "number of words that occured minimum 5 times  18825\n"
     ]
    }
   ],
   "source": [
    "# List of sentence in X_train text\n",
    "sent_of_train=[]\n",
    "for sent in X_train:\n",
    "    sent_of_train.append(sent.split())\n",
    "\n",
    "# List of sentence in X_est text\n",
    "sent_of_test=[]\n",
    "for sent in X_test:\n",
    "    sent_of_test.append(sent.split())   \n",
    "    \n",
    "# Train your own Word2Vec model using your own train text corpus \n",
    "# min_count = 5 considers only words that occured atleast 5 times\n",
    "w2v_model=Word2Vec(sent_of_train,min_count=5,size=50, workers=4)\n",
    "\n",
    "w2v_words = list(w2v_model.wv.vocab)\n",
    "print(\"number of words that occured minimum 5 times \",len(w2v_words))"
   ]
  },
  {
   "cell_type": "markdown",
   "metadata": {},
   "source": [
    "# (3). Avg Word2Vec"
   ]
  },
  {
   "cell_type": "code",
   "execution_count": 68,
   "metadata": {},
   "outputs": [],
   "source": [
    "# compute average word2vec for each review for X_train .\n",
    "train_vectors = []; \n",
    "for sent in sent_of_train:\n",
    "    sent_vec = np.zeros(50) \n",
    "    cnt_words =0; \n",
    "    for word in sent: # \n",
    "        if word in w2v_words:\n",
    "            vec = w2v_model.wv[word]\n",
    "            sent_vec += vec\n",
    "            cnt_words += 1\n",
    "    if cnt_words != 0:\n",
    "        sent_vec /= cnt_words\n",
    "    train_vectors.append(sent_vec)\n",
    "    \n",
    "# compute average word2vec for each review for X_test .\n",
    "test_vectors = []; \n",
    "for sent in sent_of_test:\n",
    "    sent_vec = np.zeros(50) \n",
    "    cnt_words =0; \n",
    "    for word in sent: # \n",
    "        if word in w2v_words:\n",
    "            vec = w2v_model.wv[word]\n",
    "            sent_vec += vec\n",
    "            cnt_words += 1\n",
    "    if cnt_words != 0:\n",
    "        sent_vec /= cnt_words\n",
    "    test_vectors.append(sent_vec) \n",
    "\n",
    "# Data-preprocessing: Standardizing the data\n",
    "sc = StandardScaler()\n",
    "X_train_vec_standardized = sc.fit_transform(train_vectors)\n",
    "X_test_vec_standardized = sc.transform(test_vectors)    "
   ]
  },
  {
   "cell_type": "markdown",
   "metadata": {},
   "source": [
    "# (3.a) L2 Regularisation (Logistic Regression)"
   ]
  },
  {
   "cell_type": "markdown",
   "metadata": {},
   "source": [
    "# GridSearchCV Implementation"
   ]
  },
  {
   "cell_type": "code",
   "execution_count": 69,
   "metadata": {},
   "outputs": [
    {
     "name": "stdout",
     "output_type": "stream",
     "text": [
      "Model with best parameters :\n",
      " LogisticRegression(C=100, class_weight=None, dual=False, fit_intercept=True,\n",
      "          intercept_scaling=1, max_iter=100, multi_class='ovr', n_jobs=1,\n",
      "          penalty='l2', random_state=None, solver='liblinear', tol=0.0001,\n",
      "          verbose=0, warm_start=False)\n",
      "Accuracy of the model :  0.8996805228806034\n",
      "The optimal value of C(1/lambda) is :  100\n"
     ]
    }
   ],
   "source": [
    "tuned_parameters = [{'C': [10**-4, 10**-2, 10**0, 10**2, 10**4]}]\n",
    "#Using GridSearchCV\n",
    "model = GridSearchCV(LogisticRegression(penalty='l2'), tuned_parameters, scoring = 'accuracy', cv=3 ,n_jobs=-1, pre_dispatch=2)\n",
    "model.fit(X_train_vec_standardized, Y_train)\n",
    "print(\"Model with best parameters :\\n\",model.best_estimator_)\n",
    "print(\"Accuracy of the model : \",model.score(X_test_vec_standardized, Y_test))\n",
    "\n",
    "optimal_C = model.best_estimator_.C\n",
    "print(\"The optimal value of C(1/lambda) is : \",optimal_C)\n",
    "\n",
    "# Logistic Regression with Optimal value of C i.e.(1/lambda)\n",
    "lr = LogisticRegression(penalty='l2', C=optimal_C, n_jobs=-1)\n",
    "lr.fit(X_train_vec_standardized,Y_train)\n",
    "predictions = lr.predict(X_test_vec_standardized)\n",
    "\n",
    "# Variables that will be used for  making table in Conclusion part of this assignment\n",
    "avg_w2v_l2_grid_C = optimal_C\n",
    "avg_w2v_l2_grid_train_acc = model.score(X_test_vec_standardized, Y_test)*100\n",
    "avg_w2v_l2_grid_test_acc = accuracy_score(Y_test, predictions) * 100"
   ]
  },
  {
   "cell_type": "code",
   "execution_count": 70,
   "metadata": {},
   "outputs": [
    {
     "name": "stdout",
     "output_type": "stream",
     "text": [
      "\n",
      "The Test Accuracy of the Logistic Regression classifier for C = 100.000 is 89.968052%\n",
      "\n",
      "The Test Precision of the Logistic Regression classifier for C = 100.000 is 0.917228\n",
      "\n",
      "The Test Recall of the Logistic Regression classifier for C = 100.000 is 0.968520\n",
      "\n",
      "The Test F1-Score of the Logistic regression classifier for C = 100.000 is 0.942176\n"
     ]
    }
   ],
   "source": [
    "# evaluate accuracy\n",
    "acc = accuracy_score(Y_test, predictions) * 100\n",
    "print('\\nThe Test Accuracy of the Logistic Regression classifier for C = %.3f is %f%%' % (optimal_C, acc))\n",
    "\n",
    "# evaluate precision\n",
    "acc = precision_score(Y_test, predictions, pos_label = 'positive') \n",
    "print('\\nThe Test Precision of the Logistic Regression classifier for C = %.3f is %f' % (optimal_C, acc))\n",
    "\n",
    "# evaluate recall\n",
    "acc = recall_score(Y_test, predictions, pos_label = 'positive')\n",
    "print('\\nThe Test Recall of the Logistic Regression classifier for C = %.3f is %f' % (optimal_C, acc))\n",
    "\n",
    "# evaluate f1-score\n",
    "acc = f1_score(Y_test, predictions, pos_label = 'positive')\n",
    "print('\\nThe Test F1-Score of the Logistic regression classifier for C = %.3f is %f' % (optimal_C, acc))"
   ]
  },
  {
   "cell_type": "markdown",
   "metadata": {},
   "source": [
    "SEABORN HEATMAP FOR REPRESENTATION OF CONFUSION MATRIX :"
   ]
  },
  {
   "cell_type": "code",
   "execution_count": 71,
   "metadata": {},
   "outputs": [
    {
     "data": {
      "image/png": "[encoded data removed]",
      "text/plain": [
       "<Figure size 720x504 with 2 Axes>"
      ]
     },
     "metadata": {},
     "output_type": "display_data"
    }
   ],
   "source": [
    "# Code for drawing seaborn heatmaps\n",
    "class_names = ['negative','positive']\n",
    "df_heatmap = pd.DataFrame(confusion_matrix(Y_test, predictions), index=class_names, columns=class_names )\n",
    "fig = plt.figure(figsize=(10,7))\n",
    "heatmap = sns.heatmap(df_heatmap, annot=True, fmt=\"d\")\n",
    "\n",
    "# Setting tick labels for heatmap\n",
    "heatmap.yaxis.set_ticklabels(heatmap.yaxis.get_ticklabels(), rotation=0, ha='right', fontsize=14)\n",
    "heatmap.xaxis.set_ticklabels(heatmap.xaxis.get_ticklabels(), rotation=0, ha='right', fontsize=14)\n",
    "plt.ylabel('Predicted label',size=18)\n",
    "plt.xlabel('True label',size=18)\n",
    "plt.title(\"Confusion Matrix\\n\",size=24)\n",
    "plt.show()"
   ]
  },
  {
   "cell_type": "markdown",
   "metadata": {},
   "source": [
    "NOTE :- Here we can find out important features but they are not related to any words so they are not interpretable . I am not performing Multicollinearity Check and also not finding important features because they are not interpretable and hence it is irrelevant to find important features ."
   ]
  },
  {
   "cell_type": "markdown",
   "metadata": {},
   "source": [
    "# RandomizedSearchCV Implementation"
   ]
  },
  {
   "cell_type": "code",
   "execution_count": 72,
   "metadata": {},
   "outputs": [
    {
     "name": "stdout",
     "output_type": "stream",
     "text": [
      "Model with best parameters :\n",
      " LogisticRegression(C=3.4697855417732635, class_weight=None, dual=False,\n",
      "          fit_intercept=True, intercept_scaling=1, max_iter=100,\n",
      "          multi_class='ovr', n_jobs=1, penalty='l2', random_state=None,\n",
      "          solver='liblinear', tol=0.0001, verbose=0, warm_start=False)\n",
      "Accuracy of the model :  0.8996805228806034\n",
      "The optimal value of C(1/lambda) is :  3.4697855417732635\n"
     ]
    }
   ],
   "source": [
    "# Create regularization hyperparameter distribution using uniform distribution\n",
    "C = uniform(loc=0, scale=10)\n",
    "\n",
    "# Create hyperparameter options\n",
    "hyperparameters = dict(C=C)\n",
    "\n",
    "#Using RandomizedSearchCV\n",
    "model = RandomizedSearchCV(LogisticRegression(penalty='l2'), hyperparameters, scoring='accuracy', cv=3,n_jobs=-1,pre_dispatch=2)\n",
    "model.fit(X_train_vec_standardized, Y_train)\n",
    "print(\"Model with best parameters :\\n\",model.best_estimator_)\n",
    "print(\"Accuracy of the model : \",model.score(X_test_vec_standardized, Y_test))\n",
    "\n",
    "optimal_C = model.best_estimator_.C\n",
    "print(\"The optimal value of C(1/lambda) is : \",optimal_C)\n",
    "\n",
    "# Logistic Regression with Optimal value of C i.e.(1/lambda)\n",
    "lr = LogisticRegression(penalty='l2', C=optimal_C, n_jobs=-1)\n",
    "lr.fit(X_train_vec_standardized,Y_train)\n",
    "predictions = lr.predict(X_test_vec_standardized)\n",
    "\n",
    "# Variables that will be used for  making table in Conclusion part of this assignment\n",
    "avg_w2v_l2_random_C = optimal_C\n",
    "avg_w2v_l2_random_train_acc = model.score(X_test_vec_standardized, Y_test)*100\n",
    "avg_w2v_l2_random_test_acc = accuracy_score(Y_test, predictions) * 100"
   ]
  },
  {
   "cell_type": "code",
   "execution_count": 73,
   "metadata": {},
   "outputs": [
    {
     "name": "stdout",
     "output_type": "stream",
     "text": [
      "\n",
      "The Test Accuracy of the Logistic Regression classifier for C = 3.470 is 89.968052%\n",
      "\n",
      "The Test Precision of the Logistic Regression classifier for C = 3.470 is 0.917228\n",
      "\n",
      "The Test Recall of the Logistic Regression classifier for C = 3.470 is 0.968520\n",
      "\n",
      "The Test F1-Score of the Logistic regression classifier for C = 3.470 is 0.942176\n"
     ]
    }
   ],
   "source": [
    "# evaluate accuracy\n",
    "acc = accuracy_score(Y_test, predictions) * 100\n",
    "print('\\nThe Test Accuracy of the Logistic Regression classifier for C = %.3f is %f%%' % (optimal_C, acc))\n",
    "\n",
    "# evaluate precision\n",
    "acc = precision_score(Y_test, predictions, pos_label = 'positive') \n",
    "print('\\nThe Test Precision of the Logistic Regression classifier for C = %.3f is %f' % (optimal_C, acc))\n",
    "\n",
    "# evaluate recall\n",
    "acc = recall_score(Y_test, predictions, pos_label = 'positive')\n",
    "print('\\nThe Test Recall of the Logistic Regression classifier for C = %.3f is %f' % (optimal_C, acc))\n",
    "\n",
    "# evaluate f1-score\n",
    "acc = f1_score(Y_test, predictions, pos_label = 'positive')\n",
    "print('\\nThe Test F1-Score of the Logistic regression classifier for C = %.3f is %f' % (optimal_C, acc))"
   ]
  },
  {
   "cell_type": "markdown",
   "metadata": {},
   "source": [
    "SEABORN HEATMAP FOR REPRESENTATION OF CONFUSION MATRIX :"
   ]
  },
  {
   "cell_type": "code",
   "execution_count": 74,
   "metadata": {},
   "outputs": [
    {
     "data": {
      "image/png": "[encoded data removed]",
      "text/plain": [
       "<Figure size 720x504 with 2 Axes>"
      ]
     },
     "metadata": {},
     "output_type": "display_data"
    }
   ],
   "source": [
    "# Code for drawing seaborn heatmaps\n",
    "class_names = ['negative','positive']\n",
    "df_heatmap = pd.DataFrame(confusion_matrix(Y_test, predictions), index=class_names, columns=class_names )\n",
    "fig = plt.figure(figsize=(10,7))\n",
    "heatmap = sns.heatmap(df_heatmap, annot=True, fmt=\"d\")\n",
    "\n",
    "# Setting tick labels for heatmap\n",
    "heatmap.yaxis.set_ticklabels(heatmap.yaxis.get_ticklabels(), rotation=0, ha='right', fontsize=14)\n",
    "heatmap.xaxis.set_ticklabels(heatmap.xaxis.get_ticklabels(), rotation=0, ha='right', fontsize=14)\n",
    "plt.ylabel('Predicted label',size=18)\n",
    "plt.xlabel('True label',size=18)\n",
    "plt.title(\"Confusion Matrix\\n\",size=24)\n",
    "plt.show()"
   ]
  },
  {
   "cell_type": "markdown",
   "metadata": {},
   "source": [
    "NOTE :- Here we can find out important features but they are not related to any words so they are not interpretable . I am not performing Multicollinearity Check and also not finding important features because they are not interpretable and hence it is irrelevant to find important features ."
   ]
  },
  {
   "cell_type": "markdown",
   "metadata": {},
   "source": [
    "# (3.b) L1 Regularisation (Logistic Regression)"
   ]
  },
  {
   "cell_type": "markdown",
   "metadata": {},
   "source": [
    "# GridSearchCV Implementation"
   ]
  },
  {
   "cell_type": "code",
   "execution_count": 75,
   "metadata": {},
   "outputs": [
    {
     "name": "stdout",
     "output_type": "stream",
     "text": [
      "Model with best parameters :\n",
      " LogisticRegression(C=10000, class_weight=None, dual=False, fit_intercept=True,\n",
      "          intercept_scaling=1, max_iter=100, multi_class='ovr', n_jobs=1,\n",
      "          penalty='l1', random_state=None, solver='liblinear', tol=0.0001,\n",
      "          verbose=0, warm_start=False)\n",
      "Accuracy of the model :  0.8996713688084145\n",
      "The optimal value of C(1/lambda) is :  10000\n"
     ]
    }
   ],
   "source": [
    "tuned_parameters = [{'C': [10**-4, 10**-2, 10**0, 10**2, 10**4]}]\n",
    "#Using GridSearchCV\n",
    "model = GridSearchCV(LogisticRegression(penalty='l1'), tuned_parameters, scoring = 'accuracy', cv=3 ,n_jobs=-1, pre_dispatch=2)\n",
    "model.fit(X_train_vec_standardized, Y_train)\n",
    "print(\"Model with best parameters :\\n\",model.best_estimator_)\n",
    "print(\"Accuracy of the model : \",model.score(X_test_vec_standardized, Y_test))\n",
    "\n",
    "optimal_C = model.best_estimator_.C\n",
    "print(\"The optimal value of C(1/lambda) is : \",optimal_C)\n",
    "\n",
    "# Logistic Regression with Optimal value of C i.e.(1/lambda)\n",
    "lr = LogisticRegression(penalty='l1', C=optimal_C, n_jobs=-1)\n",
    "lr.fit(X_train_vec_standardized,Y_train)\n",
    "predictions = lr.predict(X_test_vec_standardized)\n",
    "\n",
    "# Variables that will be used for  making table in Conclusion part of this assignment\n",
    "avg_w2v_l1_grid_C = optimal_C\n",
    "avg_w2v_l1_grid_train_acc = model.score(X_test_vec_standardized, Y_test)*100\n",
    "avg_w2v_l1_grid_test_acc = accuracy_score(Y_test, predictions) * 100"
   ]
  },
  {
   "cell_type": "code",
   "execution_count": 76,
   "metadata": {},
   "outputs": [
    {
     "name": "stdout",
     "output_type": "stream",
     "text": [
      "\n",
      "The Test Accuracy of the Logistic Regression classifier for C = 10000.000 is 89.968052%\n",
      "\n",
      "The Test Precision of the Logistic Regression classifier for C = 10000.000 is 0.917228\n",
      "\n",
      "The Test Recall of the Logistic Regression classifier for C = 10000.000 is 0.968520\n",
      "\n",
      "The Test F1-Score of the Logistic regression classifier for C = 10000.000 is 0.942176\n"
     ]
    }
   ],
   "source": [
    "# evaluate accuracy\n",
    "acc = accuracy_score(Y_test, predictions) * 100\n",
    "print('\\nThe Test Accuracy of the Logistic Regression classifier for C = %.3f is %f%%' % (optimal_C, acc))\n",
    "\n",
    "# evaluate precision\n",
    "acc = precision_score(Y_test, predictions, pos_label = 'positive') \n",
    "print('\\nThe Test Precision of the Logistic Regression classifier for C = %.3f is %f' % (optimal_C, acc))\n",
    "\n",
    "# evaluate recall\n",
    "acc = recall_score(Y_test, predictions, pos_label = 'positive')\n",
    "print('\\nThe Test Recall of the Logistic Regression classifier for C = %.3f is %f' % (optimal_C, acc))\n",
    "\n",
    "# evaluate f1-score\n",
    "acc = f1_score(Y_test, predictions, pos_label = 'positive')\n",
    "print('\\nThe Test F1-Score of the Logistic regression classifier for C = %.3f is %f' % (optimal_C, acc))"
   ]
  },
  {
   "cell_type": "markdown",
   "metadata": {},
   "source": [
    "SEABORN HEATMAP FOR REPRESENTATION OF CONFUSION MATRIX :"
   ]
  },
  {
   "cell_type": "code",
   "execution_count": 77,
   "metadata": {},
   "outputs": [
    {
     "data": {
      "image/png": "[encoded data removed]",
      "text/plain": [
       "<Figure size 720x504 with 2 Axes>"
      ]
     },
     "metadata": {},
     "output_type": "display_data"
    }
   ],
   "source": [
    "# Code for drawing seaborn heatmaps\n",
    "class_names = ['negative','positive']\n",
    "df_heatmap = pd.DataFrame(confusion_matrix(Y_test, predictions), index=class_names, columns=class_names )\n",
    "fig = plt.figure(figsize=(10,7))\n",
    "heatmap = sns.heatmap(df_heatmap, annot=True, fmt=\"d\")\n",
    "\n",
    "# Setting tick labels for heatmap\n",
    "heatmap.yaxis.set_ticklabels(heatmap.yaxis.get_ticklabels(), rotation=0, ha='right', fontsize=14)\n",
    "heatmap.xaxis.set_ticklabels(heatmap.xaxis.get_ticklabels(), rotation=0, ha='right', fontsize=14)\n",
    "plt.ylabel('Predicted label',size=18)\n",
    "plt.xlabel('True label',size=18)\n",
    "plt.title(\"Confusion Matrix\\n\",size=24)\n",
    "plt.show()"
   ]
  },
  {
   "cell_type": "markdown",
   "metadata": {},
   "source": [
    "NOTE :- Here we can find out important features but they are not related to any words so they are not interpretable . I am not performing Multicollinearity Check and also not finding important features because they are not interpretable and hence it is irrelevant to find important features ."
   ]
  },
  {
   "cell_type": "markdown",
   "metadata": {},
   "source": [
    "# More Sparsity (Fewer elements of W* being non-zero) by increasing Lambda (decreasing C)"
   ]
  },
  {
   "cell_type": "code",
   "execution_count": 78,
   "metadata": {},
   "outputs": [
    {
     "name": "stdout",
     "output_type": "stream",
     "text": [
      "50\n"
     ]
    }
   ],
   "source": [
    "# With lambda = 1\n",
    "clf = LogisticRegression(C=1, penalty='l1',n_jobs=-1);\n",
    "clf.fit(X_train_vec_standardized, Y_train);\n",
    "w = clf.coef_\n",
    "print(np.count_nonzero(w))"
   ]
  },
  {
   "cell_type": "code",
   "execution_count": 79,
   "metadata": {},
   "outputs": [
    {
     "name": "stdout",
     "output_type": "stream",
     "text": [
      "50\n"
     ]
    }
   ],
   "source": [
    "# With lambda = 10\n",
    "clf = LogisticRegression(C=0.1, penalty='l1',n_jobs=-1);\n",
    "clf.fit(X_train_vec_standardized, Y_train);\n",
    "w = clf.coef_\n",
    "print(np.count_nonzero(w))"
   ]
  },
  {
   "cell_type": "code",
   "execution_count": 80,
   "metadata": {},
   "outputs": [
    {
     "name": "stdout",
     "output_type": "stream",
     "text": [
      "47\n"
     ]
    }
   ],
   "source": [
    "# With lambda = 100\n",
    "clf = LogisticRegression(C=0.01, penalty='l1',n_jobs=-1);\n",
    "clf.fit(X_train_vec_standardized, Y_train);\n",
    "w = clf.coef_\n",
    "print(np.count_nonzero(w))"
   ]
  },
  {
   "cell_type": "code",
   "execution_count": 81,
   "metadata": {},
   "outputs": [
    {
     "name": "stdout",
     "output_type": "stream",
     "text": [
      "40\n"
     ]
    }
   ],
   "source": [
    "# With lambda = 1000\n",
    "clf = LogisticRegression(C=0.001, penalty='l1',n_jobs=-1);\n",
    "clf.fit(X_train_vec_standardized, Y_train);\n",
    "w = clf.coef_\n",
    "print(np.count_nonzero(w))"
   ]
  },
  {
   "cell_type": "code",
   "execution_count": 82,
   "metadata": {},
   "outputs": [
    {
     "name": "stdout",
     "output_type": "stream",
     "text": [
      "11\n"
     ]
    }
   ],
   "source": [
    "# With lambda = 10000\n",
    "clf = LogisticRegression(C=0.0001, penalty='l1',n_jobs=-1);\n",
    "clf.fit(X_train_vec_standardized, Y_train);\n",
    "w = clf.coef_\n",
    "print(np.count_nonzero(w))"
   ]
  },
  {
   "cell_type": "markdown",
   "metadata": {},
   "source": [
    "OBSERVATION :- From above we can see that the number of non-zero elements of W* is decreasing as we are increasing the value of lambda (C is decreasing) ."
   ]
  },
  {
   "cell_type": "markdown",
   "metadata": {},
   "source": [
    "# RandomizedSearchCV Implementation"
   ]
  },
  {
   "cell_type": "code",
   "execution_count": 83,
   "metadata": {},
   "outputs": [
    {
     "name": "stdout",
     "output_type": "stream",
     "text": [
      "Model with best parameters :\n",
      " LogisticRegression(C=8.218180574199001, class_weight=None, dual=False,\n",
      "          fit_intercept=True, intercept_scaling=1, max_iter=100,\n",
      "          multi_class='ovr', n_jobs=1, penalty='l1', random_state=None,\n",
      "          solver='liblinear', tol=0.0001, verbose=0, warm_start=False)\n",
      "Accuracy of the model :  0.8996622147362254\n",
      "The optimal value of C(1/lambda) is :  8.218180574199001\n"
     ]
    }
   ],
   "source": [
    "# Create regularization hyperparameter distribution using uniform distribution\n",
    "C = uniform(loc=0, scale=10)\n",
    "\n",
    "# Create hyperparameter options\n",
    "hyperparameters = dict(C=C)\n",
    "\n",
    "#Using RandomizedSearchCV\n",
    "model = RandomizedSearchCV(LogisticRegression(penalty='l1'), hyperparameters, scoring='accuracy', cv=3,n_jobs=-1,pre_dispatch=2)\n",
    "model.fit(X_train_vec_standardized, Y_train)\n",
    "print(\"Model with best parameters :\\n\",model.best_estimator_)\n",
    "print(\"Accuracy of the model : \",model.score(X_test_vec_standardized, Y_test))\n",
    "\n",
    "optimal_C = model.best_estimator_.C\n",
    "print(\"The optimal value of C(1/lambda) is : \",optimal_C)\n",
    "\n",
    "# Logistic Regression with Optimal value of C i.e.(1/lambda)\n",
    "lr = LogisticRegression(penalty='l1', C=optimal_C, n_jobs=-1)\n",
    "lr.fit(X_train_vec_standardized,Y_train)\n",
    "predictions = lr.predict(X_test_vec_standardized)\n",
    "\n",
    "# Variables that will be used for  making table in Conclusion part of this assignment\n",
    "avg_w2v_l1_random_C = optimal_C\n",
    "avg_w2v_l1_random_train_acc = model.score(X_test_vec_standardized, Y_test)*100\n",
    "avg_w2v_l1_random_test_acc = accuracy_score(Y_test, predictions) * 100"
   ]
  },
  {
   "cell_type": "code",
   "execution_count": 84,
   "metadata": {},
   "outputs": [
    {
     "name": "stdout",
     "output_type": "stream",
     "text": [
      "\n",
      "The Test Accuracy of the Logistic Regression classifier for C = 8.218 is 89.966221%\n",
      "\n",
      "The Test Precision of the Logistic Regression classifier for C = 8.218 is 0.917218\n",
      "\n",
      "The Test Recall of the Logistic Regression classifier for C = 8.218 is 0.968509\n",
      "\n",
      "The Test F1-Score of the Logistic regression classifier for C = 8.218 is 0.942166\n"
     ]
    }
   ],
   "source": [
    "# evaluate accuracy\n",
    "acc = accuracy_score(Y_test, predictions) * 100\n",
    "print('\\nThe Test Accuracy of the Logistic Regression classifier for C = %.3f is %f%%' % (optimal_C, acc))\n",
    "\n",
    "# evaluate precision\n",
    "acc = precision_score(Y_test, predictions, pos_label = 'positive') \n",
    "print('\\nThe Test Precision of the Logistic Regression classifier for C = %.3f is %f' % (optimal_C, acc))\n",
    "\n",
    "# evaluate recall\n",
    "acc = recall_score(Y_test, predictions, pos_label = 'positive')\n",
    "print('\\nThe Test Recall of the Logistic Regression classifier for C = %.3f is %f' % (optimal_C, acc))\n",
    "\n",
    "# evaluate f1-score\n",
    "acc = f1_score(Y_test, predictions, pos_label = 'positive')\n",
    "print('\\nThe Test F1-Score of the Logistic regression classifier for C = %.3f is %f' % (optimal_C, acc))"
   ]
  },
  {
   "cell_type": "markdown",
   "metadata": {},
   "source": [
    "SEABORN HEATMAP FOR REPRESENTATION OF CONFUSION MATRIX :"
   ]
  },
  {
   "cell_type": "code",
   "execution_count": 85,
   "metadata": {},
   "outputs": [
    {
     "data": {
      "image/png": "[encoded data removed]",
      "text/plain": [
       "<Figure size 720x504 with 2 Axes>"
      ]
     },
     "metadata": {},
     "output_type": "display_data"
    }
   ],
   "source": [
    "# Code for drawing seaborn heatmaps\n",
    "class_names = ['negative','positive']\n",
    "df_heatmap = pd.DataFrame(confusion_matrix(Y_test, predictions), index=class_names, columns=class_names )\n",
    "fig = plt.figure(figsize=(10,7))\n",
    "heatmap = sns.heatmap(df_heatmap, annot=True, fmt=\"d\")\n",
    "\n",
    "# Setting tick labels for heatmap\n",
    "heatmap.yaxis.set_ticklabels(heatmap.yaxis.get_ticklabels(), rotation=0, ha='right', fontsize=14)\n",
    "heatmap.xaxis.set_ticklabels(heatmap.xaxis.get_ticklabels(), rotation=0, ha='right', fontsize=14)\n",
    "plt.ylabel('Predicted label',size=18)\n",
    "plt.xlabel('True label',size=18)\n",
    "plt.title(\"Confusion Matrix\\n\",size=24)\n",
    "plt.show()"
   ]
  },
  {
   "cell_type": "markdown",
   "metadata": {},
   "source": [
    "NOTE :- Here we can find out important features but they are not related to any words so they are not interpretable . I am not performing Multicollinearity Check and also not finding important features because they are not interpretable and hence it is irrelevant to find important features ."
   ]
  },
  {
   "cell_type": "markdown",
   "metadata": {},
   "source": [
    "# (4). TFIDF-Word2Vec"
   ]
  },
  {
   "cell_type": "markdown",
   "metadata": {},
   "source": [
    "NOTE :- It is taking a lot off time to perform TFIDF-Word2Vec on whole 364K rows of data . So , I am performing it with only 100K rows . Please don't mind because I am unable to perform it with whole data due to poor condition of my laptop . But I am completing all the steps as was asked ."
   ]
  },
  {
   "cell_type": "markdown",
   "metadata": {},
   "source": [
    "RANDOMLY SAMPLING 100K POINTS OUT OF WHOLE DATASET"
   ]
  },
  {
   "cell_type": "code",
   "execution_count": 91,
   "metadata": {},
   "outputs": [
    {
     "name": "stdout",
     "output_type": "stream",
     "text": [
      "(100000, 11)\n"
     ]
    }
   ],
   "source": [
    "# We will collect different 100K rows without repetition from time_sorted_data dataframe\n",
    "my_final = time_sorted_data.take(np.random.permutation(len(final))[:100000])\n",
    "print(my_final.shape)\n",
    "\n",
    "x = my_final['CleanedText'].values\n",
    "y = my_final['Score']\n",
    "\n",
    "# split the data set into train and test\n",
    "X_train, X_test, Y_train, Y_test = train_test_split(x, y, test_size=0.3, random_state=0)\n",
    "\n",
    "# List of sentence in X_train text\n",
    "sent_of_train=[]\n",
    "for sent in X_train:\n",
    "    sent_of_train.append(sent.split())\n",
    "\n",
    "# List of sentence in X_est text\n",
    "sent_of_test=[]\n",
    "for sent in X_test:\n",
    "    sent_of_test.append(sent.split()) \n",
    "    \n",
    "w2v_model=Word2Vec(sent_of_train,min_count=5,size=50, workers=4) \n",
    "w2v_words = list(w2v_model.wv.vocab)"
   ]
  },
  {
   "cell_type": "code",
   "execution_count": 92,
   "metadata": {},
   "outputs": [],
   "source": [
    "# TF-IDF weighted Word2Vec\n",
    "tf_idf_vect = TfidfVectorizer()\n",
    "\n",
    "# final_tf_idf1 is the sparse matrix with row= sentence, col=word and cell_val = tfidf\n",
    "final_tf_idf1 = tf_idf_vect.fit_transform(X_train)\n",
    "\n",
    "# tfidf words/col-names\n",
    "tfidf_feat = tf_idf_vect.get_feature_names()\n",
    "\n",
    "# compute TFIDF Weighted Word2Vec for each review for X_test .\n",
    "tfidf_test_vectors = []; \n",
    "row=0;\n",
    "for sent in sent_of_test: \n",
    "    sent_vec = np.zeros(50) \n",
    "    weight_sum =0; \n",
    "    for word in sent: \n",
    "        if word in w2v_words:\n",
    "            vec = w2v_model.wv[word]\n",
    "            # obtain the tf_idfidf of a word in a sentence/review\n",
    "            tf_idf = final_tf_idf1[row, tfidf_feat.index(word)]\n",
    "            sent_vec += (vec * tf_idf)\n",
    "            weight_sum += tf_idf\n",
    "    if weight_sum != 0:\n",
    "        sent_vec /= weight_sum\n",
    "    tfidf_test_vectors.append(sent_vec)\n",
    "    row += 1 "
   ]
  },
  {
   "cell_type": "code",
   "execution_count": 93,
   "metadata": {},
   "outputs": [],
   "source": [
    "# compute TFIDF Weighted Word2Vec for each review for X_train .\n",
    "tfidf_train_vectors = []; \n",
    "row=0;\n",
    "for sent in sent_of_train: \n",
    "    sent_vec = np.zeros(50) \n",
    "    weight_sum =0; \n",
    "    for word in sent: \n",
    "        if word in w2v_words:\n",
    "            vec = w2v_model.wv[word]\n",
    "            # obtain the tf_idfidf of a word in a sentence/review\n",
    "            tf_idf = final_tf_idf1[row, tfidf_feat.index(word)]\n",
    "            sent_vec += (vec * tf_idf)\n",
    "            weight_sum += tf_idf\n",
    "    if weight_sum != 0:\n",
    "        sent_vec /= weight_sum\n",
    "    tfidf_train_vectors.append(sent_vec)\n",
    "    row += 1  \n",
    "    \n",
    "# Data-preprocessing: Standardizing the data\n",
    "sc = StandardScaler()\n",
    "X_train_vec_standardized = sc.fit_transform(tfidf_train_vectors)\n",
    "X_test_vec_standardized = sc.transform(tfidf_test_vectors)    "
   ]
  },
  {
   "cell_type": "markdown",
   "metadata": {},
   "source": [
    "# (4.a) L2 Regularisation (Logistic Regression)"
   ]
  },
  {
   "cell_type": "markdown",
   "metadata": {},
   "source": [
    "# GridSearchCV Implementation"
   ]
  },
  {
   "cell_type": "code",
   "execution_count": 94,
   "metadata": {},
   "outputs": [
    {
     "name": "stdout",
     "output_type": "stream",
     "text": [
      "Model with best parameters :\n",
      " LogisticRegression(C=100, class_weight=None, dual=False, fit_intercept=True,\n",
      "          intercept_scaling=1, max_iter=100, multi_class='ovr', n_jobs=1,\n",
      "          penalty='l2', random_state=None, solver='liblinear', tol=0.0001,\n",
      "          verbose=0, warm_start=False)\n",
      "Accuracy of the model :  0.7401\n",
      "The optimal value of C(1/lambda) is :  100\n"
     ]
    }
   ],
   "source": [
    "tuned_parameters = [{'C': [10**-4, 10**-2, 10**0, 10**2, 10**4]}]\n",
    "#Using GridSearchCV\n",
    "model = GridSearchCV(LogisticRegression(penalty='l2'), tuned_parameters, scoring = 'accuracy', cv=3 ,n_jobs=-1, pre_dispatch=2)\n",
    "model.fit(X_train_vec_standardized, Y_train)\n",
    "print(\"Model with best parameters :\\n\",model.best_estimator_)\n",
    "print(\"Accuracy of the model : \",model.score(X_test_vec_standardized, Y_test))\n",
    "\n",
    "optimal_C = model.best_estimator_.C\n",
    "print(\"The optimal value of C(1/lambda) is : \",optimal_C)\n",
    "\n",
    "# Logistic Regression with Optimal value of C i.e.(1/lambda)\n",
    "lr = LogisticRegression(penalty='l2', C=optimal_C, n_jobs=-1)\n",
    "lr.fit(X_train_vec_standardized,Y_train)\n",
    "predictions = lr.predict(X_test_vec_standardized)\n",
    "\n",
    "# Variables that will be used for  making table in Conclusion part of this assignment\n",
    "tfidf_w2v_l2_grid_C = optimal_C\n",
    "tfidf_w2v_l2_grid_train_acc = model.score(X_test_vec_standardized, Y_test)*100\n",
    "tfidf_w2v_l2_grid_test_acc = accuracy_score(Y_test, predictions) * 100"
   ]
  },
  {
   "cell_type": "code",
   "execution_count": 95,
   "metadata": {},
   "outputs": [
    {
     "name": "stdout",
     "output_type": "stream",
     "text": [
      "\n",
      "The Test Accuracy of the Logistic Regression classifier for C = 100.000 is 74.010000%\n",
      "\n",
      "The Test Precision of the Logistic Regression classifier for C = 100.000 is 0.860084\n",
      "\n",
      "The Test Recall of the Logistic Regression classifier for C = 100.000 is 0.826037\n",
      "\n",
      "The Test F1-Score of the Logistic regression classifier for C = 100.000 is 0.842717\n"
     ]
    }
   ],
   "source": [
    "# evaluate accuracy\n",
    "acc = accuracy_score(Y_test, predictions) * 100\n",
    "print('\\nThe Test Accuracy of the Logistic Regression classifier for C = %.3f is %f%%' % (optimal_C, acc))\n",
    "\n",
    "# evaluate precision\n",
    "acc = precision_score(Y_test, predictions, pos_label = 'positive') \n",
    "print('\\nThe Test Precision of the Logistic Regression classifier for C = %.3f is %f' % (optimal_C, acc))\n",
    "\n",
    "# evaluate recall\n",
    "acc = recall_score(Y_test, predictions, pos_label = 'positive')\n",
    "print('\\nThe Test Recall of the Logistic Regression classifier for C = %.3f is %f' % (optimal_C, acc))\n",
    "\n",
    "# evaluate f1-score\n",
    "acc = f1_score(Y_test, predictions, pos_label = 'positive')\n",
    "print('\\nThe Test F1-Score of the Logistic regression classifier for C = %.3f is %f' % (optimal_C, acc))"
   ]
  },
  {
   "cell_type": "markdown",
   "metadata": {},
   "source": [
    "SEABORN HEATMAP FOR REPRESENTATION OF CONFUSION MATRIX :"
   ]
  },
  {
   "cell_type": "code",
   "execution_count": 96,
   "metadata": {},
   "outputs": [
    {
     "data": {
      "image/png": "[encoded data removed]",
      "text/plain": [
       "<Figure size 720x504 with 2 Axes>"
      ]
     },
     "metadata": {},
     "output_type": "display_data"
    }
   ],
   "source": [
    "# Code for drawing seaborn heatmaps\n",
    "class_names = ['negative','positive']\n",
    "df_heatmap = pd.DataFrame(confusion_matrix(Y_test, predictions), index=class_names, columns=class_names )\n",
    "fig = plt.figure(figsize=(10,7))\n",
    "heatmap = sns.heatmap(df_heatmap, annot=True, fmt=\"d\")\n",
    "\n",
    "# Setting tick labels for heatmap\n",
    "heatmap.yaxis.set_ticklabels(heatmap.yaxis.get_ticklabels(), rotation=0, ha='right', fontsize=14)\n",
    "heatmap.xaxis.set_ticklabels(heatmap.xaxis.get_ticklabels(), rotation=0, ha='right', fontsize=14)\n",
    "plt.ylabel('Predicted label',size=18)\n",
    "plt.xlabel('True label',size=18)\n",
    "plt.title(\"Confusion Matrix\\n\",size=24)\n",
    "plt.show()"
   ]
  },
  {
   "cell_type": "markdown",
   "metadata": {},
   "source": [
    "NOTE :- Here we can find out important features but they are not related to any words so they are not interpretable . I am not performing Multicollinearity Check and also not finding important features because they are not interpretable and hence it is irrelevant to find important features ."
   ]
  },
  {
   "cell_type": "markdown",
   "metadata": {},
   "source": [
    "# RandomizedSearchCV Implementation"
   ]
  },
  {
   "cell_type": "code",
   "execution_count": 97,
   "metadata": {},
   "outputs": [
    {
     "name": "stdout",
     "output_type": "stream",
     "text": [
      "Model with best parameters :\n",
      " LogisticRegression(C=4.63926046784341, class_weight=None, dual=False,\n",
      "          fit_intercept=True, intercept_scaling=1, max_iter=100,\n",
      "          multi_class='ovr', n_jobs=1, penalty='l2', random_state=None,\n",
      "          solver='liblinear', tol=0.0001, verbose=0, warm_start=False)\n",
      "Accuracy of the model :  0.7401333333333333\n",
      "The optimal value of C(1/lambda) is :  4.63926046784341\n"
     ]
    }
   ],
   "source": [
    "# Create regularization hyperparameter distribution using uniform distribution\n",
    "C = uniform(loc=0, scale=10)\n",
    "\n",
    "# Create hyperparameter options\n",
    "hyperparameters = dict(C=C)\n",
    "\n",
    "#Using RandomizedSearchCV\n",
    "model = RandomizedSearchCV(LogisticRegression(penalty='l2'), hyperparameters, scoring='accuracy', cv=3,n_jobs=-1,pre_dispatch=2)\n",
    "model.fit(X_train_vec_standardized, Y_train)\n",
    "print(\"Model with best parameters :\\n\",model.best_estimator_)\n",
    "print(\"Accuracy of the model : \",model.score(X_test_vec_standardized, Y_test))\n",
    "\n",
    "optimal_C = model.best_estimator_.C\n",
    "print(\"The optimal value of C(1/lambda) is : \",optimal_C)\n",
    "\n",
    "# Logistic Regression with Optimal value of C i.e.(1/lambda)\n",
    "lr = LogisticRegression(penalty='l2', C=optimal_C, n_jobs=-1)\n",
    "lr.fit(X_train_vec_standardized,Y_train)\n",
    "predictions = lr.predict(X_test_vec_standardized)\n",
    "\n",
    "# Variables that will be used for  making table in Conclusion part of this assignment\n",
    "tfidf_w2v_l2_random_C = optimal_C\n",
    "tfidf_w2v_l2_random_train_acc = model.score(X_test_vec_standardized, Y_test)*100\n",
    "tfidf_w2v_l2_random_test_acc = accuracy_score(Y_test, predictions) * 100"
   ]
  },
  {
   "cell_type": "code",
   "execution_count": 98,
   "metadata": {},
   "outputs": [
    {
     "name": "stdout",
     "output_type": "stream",
     "text": [
      "\n",
      "The Test Accuracy of the Logistic Regression classifier for C = 4.639 is 74.013333%\n",
      "\n",
      "The Test Precision of the Logistic Regression classifier for C = 4.639 is 0.860090\n",
      "\n",
      "The Test Recall of the Logistic Regression classifier for C = 4.639 is 0.826077\n",
      "\n",
      "The Test F1-Score of the Logistic regression classifier for C = 4.639 is 0.842740\n"
     ]
    }
   ],
   "source": [
    "# evaluate accuracy\n",
    "acc = accuracy_score(Y_test, predictions) * 100\n",
    "print('\\nThe Test Accuracy of the Logistic Regression classifier for C = %.3f is %f%%' % (optimal_C, acc))\n",
    "\n",
    "# evaluate precision\n",
    "acc = precision_score(Y_test, predictions, pos_label = 'positive') \n",
    "print('\\nThe Test Precision of the Logistic Regression classifier for C = %.3f is %f' % (optimal_C, acc))\n",
    "\n",
    "# evaluate recall\n",
    "acc = recall_score(Y_test, predictions, pos_label = 'positive')\n",
    "print('\\nThe Test Recall of the Logistic Regression classifier for C = %.3f is %f' % (optimal_C, acc))\n",
    "\n",
    "# evaluate f1-score\n",
    "acc = f1_score(Y_test, predictions, pos_label = 'positive')\n",
    "print('\\nThe Test F1-Score of the Logistic regression classifier for C = %.3f is %f' % (optimal_C, acc))"
   ]
  },
  {
   "cell_type": "markdown",
   "metadata": {},
   "source": [
    "SEABORN HEATMAP FOR REPRESENTATION OF CONFUSION MATRIX :"
   ]
  },
  {
   "cell_type": "code",
   "execution_count": 99,
   "metadata": {},
   "outputs": [
    {
     "data": {
      "image/png": "[encoded data removed]",
      "text/plain": [
       "<Figure size 720x504 with 2 Axes>"
      ]
     },
     "metadata": {},
     "output_type": "display_data"
    }
   ],
   "source": [
    "# Code for drawing seaborn heatmaps\n",
    "class_names = ['negative','positive']\n",
    "df_heatmap = pd.DataFrame(confusion_matrix(Y_test, predictions), index=class_names, columns=class_names )\n",
    "fig = plt.figure(figsize=(10,7))\n",
    "heatmap = sns.heatmap(df_heatmap, annot=True, fmt=\"d\")\n",
    "\n",
    "# Setting tick labels for heatmap\n",
    "heatmap.yaxis.set_ticklabels(heatmap.yaxis.get_ticklabels(), rotation=0, ha='right', fontsize=14)\n",
    "heatmap.xaxis.set_ticklabels(heatmap.xaxis.get_ticklabels(), rotation=0, ha='right', fontsize=14)\n",
    "plt.ylabel('Predicted label',size=18)\n",
    "plt.xlabel('True label',size=18)\n",
    "plt.title(\"Confusion Matrix\\n\",size=24)\n",
    "plt.show()"
   ]
  },
  {
   "cell_type": "markdown",
   "metadata": {},
   "source": [
    "NOTE :- Here we can find out important features but they are not related to any words so they are not interpretable . I am not performing Multicollinearity Check and also not finding important features because they are not interpretable and hence it is irrelevant to find important features ."
   ]
  },
  {
   "cell_type": "markdown",
   "metadata": {},
   "source": [
    "# (4.b) L1 Regularisation (Logistic Regression)"
   ]
  },
  {
   "cell_type": "markdown",
   "metadata": {},
   "source": [
    "# GridSearchCV Implementation"
   ]
  },
  {
   "cell_type": "code",
   "execution_count": 100,
   "metadata": {},
   "outputs": [
    {
     "name": "stdout",
     "output_type": "stream",
     "text": [
      "Model with best parameters :\n",
      " LogisticRegression(C=100, class_weight=None, dual=False, fit_intercept=True,\n",
      "          intercept_scaling=1, max_iter=100, multi_class='ovr', n_jobs=1,\n",
      "          penalty='l1', random_state=None, solver='liblinear', tol=0.0001,\n",
      "          verbose=0, warm_start=False)\n",
      "Accuracy of the model :  0.7401333333333333\n",
      "The optimal value of C(1/lambda) is :  100\n"
     ]
    }
   ],
   "source": [
    "tuned_parameters = [{'C': [10**-4, 10**-2, 10**0, 10**2, 10**4]}]\n",
    "#Using GridSearchCV\n",
    "model = GridSearchCV(LogisticRegression(penalty='l1'), tuned_parameters, scoring = 'accuracy', cv=3 ,n_jobs=-1, pre_dispatch=2)\n",
    "model.fit(X_train_vec_standardized, Y_train)\n",
    "print(\"Model with best parameters :\\n\",model.best_estimator_)\n",
    "print(\"Accuracy of the model : \",model.score(X_test_vec_standardized, Y_test))\n",
    "\n",
    "optimal_C = model.best_estimator_.C\n",
    "print(\"The optimal value of C(1/lambda) is : \",optimal_C)\n",
    "\n",
    "# Logistic Regression with Optimal value of C i.e.(1/lambda)\n",
    "lr = LogisticRegression(penalty='l1', C=optimal_C, n_jobs=-1)\n",
    "lr.fit(X_train_vec_standardized,Y_train)\n",
    "predictions = lr.predict(X_test_vec_standardized)\n",
    "\n",
    "# Variables that will be used for  making table in Conclusion part of this assignment\n",
    "tfidf_w2v_l1_grid_C = optimal_C\n",
    "tfidf_w2v_l1_grid_train_acc = model.score(X_test_vec_standardized, Y_test)*100\n",
    "tfidf_w2v_l1_grid_test_acc = accuracy_score(Y_test, predictions) * 100"
   ]
  },
  {
   "cell_type": "code",
   "execution_count": 101,
   "metadata": {},
   "outputs": [
    {
     "name": "stdout",
     "output_type": "stream",
     "text": [
      "\n",
      "The Test Accuracy of the Logistic Regression classifier for C = 100.000 is 74.013333%\n",
      "\n",
      "The Test Precision of the Logistic Regression classifier for C = 100.000 is 0.860090\n",
      "\n",
      "The Test Recall of the Logistic Regression classifier for C = 100.000 is 0.826077\n",
      "\n",
      "The Test F1-Score of the Logistic regression classifier for C = 100.000 is 0.842740\n"
     ]
    }
   ],
   "source": [
    "# evaluate accuracy\n",
    "acc = accuracy_score(Y_test, predictions) * 100\n",
    "print('\\nThe Test Accuracy of the Logistic Regression classifier for C = %.3f is %f%%' % (optimal_C, acc))\n",
    "\n",
    "# evaluate precision\n",
    "acc = precision_score(Y_test, predictions, pos_label = 'positive') \n",
    "print('\\nThe Test Precision of the Logistic Regression classifier for C = %.3f is %f' % (optimal_C, acc))\n",
    "\n",
    "# evaluate recall\n",
    "acc = recall_score(Y_test, predictions, pos_label = 'positive')\n",
    "print('\\nThe Test Recall of the Logistic Regression classifier for C = %.3f is %f' % (optimal_C, acc))\n",
    "\n",
    "# evaluate f1-score\n",
    "acc = f1_score(Y_test, predictions, pos_label = 'positive')\n",
    "print('\\nThe Test F1-Score of the Logistic regression classifier for C = %.3f is %f' % (optimal_C, acc))"
   ]
  },
  {
   "cell_type": "markdown",
   "metadata": {},
   "source": [
    "SEABORN HEATMAP FOR REPRESENTATION OF CONFUSION MATRIX :"
   ]
  },
  {
   "cell_type": "code",
   "execution_count": 102,
   "metadata": {},
   "outputs": [
    {
     "data": {
      "image/png": "[encoded data removed]",
      "text/plain": [
       "<Figure size 720x504 with 2 Axes>"
      ]
     },
     "metadata": {},
     "output_type": "display_data"
    }
   ],
   "source": [
    "# Code for drawing seaborn heatmaps\n",
    "class_names = ['negative','positive']\n",
    "df_heatmap = pd.DataFrame(confusion_matrix(Y_test, predictions), index=class_names, columns=class_names )\n",
    "fig = plt.figure(figsize=(10,7))\n",
    "heatmap = sns.heatmap(df_heatmap, annot=True, fmt=\"d\")\n",
    "\n",
    "# Setting tick labels for heatmap\n",
    "heatmap.yaxis.set_ticklabels(heatmap.yaxis.get_ticklabels(), rotation=0, ha='right', fontsize=14)\n",
    "heatmap.xaxis.set_ticklabels(heatmap.xaxis.get_ticklabels(), rotation=0, ha='right', fontsize=14)\n",
    "plt.ylabel('Predicted label',size=18)\n",
    "plt.xlabel('True label',size=18)\n",
    "plt.title(\"Confusion Matrix\\n\",size=24)\n",
    "plt.show()"
   ]
  },
  {
   "cell_type": "markdown",
   "metadata": {},
   "source": [
    "NOTE :- Here we can find out important features but they are not related to any words so they are not interpretable . I am not performing Multicollinearity Check and also not finding important features because they are not interpretable and hence it is irrelevant to find important features ."
   ]
  },
  {
   "cell_type": "markdown",
   "metadata": {},
   "source": [
    "# More Sparsity (Fewer elements of W* being non-zero) by increasing Lambda (decreasing C)"
   ]
  },
  {
   "cell_type": "code",
   "execution_count": 103,
   "metadata": {},
   "outputs": [
    {
     "name": "stdout",
     "output_type": "stream",
     "text": [
      "50\n"
     ]
    }
   ],
   "source": [
    "# With lambda = 1\n",
    "clf = LogisticRegression(C=1, penalty='l1',n_jobs=-1);\n",
    "clf.fit(X_train_vec_standardized, Y_train);\n",
    "w = clf.coef_\n",
    "print(np.count_nonzero(w))"
   ]
  },
  {
   "cell_type": "code",
   "execution_count": 104,
   "metadata": {},
   "outputs": [
    {
     "name": "stdout",
     "output_type": "stream",
     "text": [
      "50\n"
     ]
    }
   ],
   "source": [
    "# With lambda = 10\n",
    "clf = LogisticRegression(C=0.1, penalty='l1',n_jobs=-1);\n",
    "clf.fit(X_train_vec_standardized, Y_train);\n",
    "w = clf.coef_\n",
    "print(np.count_nonzero(w))"
   ]
  },
  {
   "cell_type": "code",
   "execution_count": 105,
   "metadata": {},
   "outputs": [
    {
     "name": "stdout",
     "output_type": "stream",
     "text": [
      "45\n"
     ]
    }
   ],
   "source": [
    "# With lambda = 100\n",
    "clf = LogisticRegression(C=0.01, penalty='l1',n_jobs=-1);\n",
    "clf.fit(X_train_vec_standardized, Y_train);\n",
    "w = clf.coef_\n",
    "print(np.count_nonzero(w))"
   ]
  },
  {
   "cell_type": "code",
   "execution_count": 106,
   "metadata": {},
   "outputs": [
    {
     "name": "stdout",
     "output_type": "stream",
     "text": [
      "22\n"
     ]
    }
   ],
   "source": [
    "# With lambda = 1000\n",
    "clf = LogisticRegression(C=0.001, penalty='l1',n_jobs=-1);\n",
    "clf.fit(X_train_vec_standardized, Y_train);\n",
    "w = clf.coef_\n",
    "print(np.count_nonzero(w))"
   ]
  },
  {
   "cell_type": "markdown",
   "metadata": {},
   "source": [
    "OBSERVATION :- From above we can see that the number of non-zero elements of W* is decreasing as we are increasing the value of lambda (C is decreasing) ."
   ]
  },
  {
   "cell_type": "markdown",
   "metadata": {},
   "source": [
    "# RandomizedSearchCV Implementation"
   ]
  },
  {
   "cell_type": "code",
   "execution_count": 108,
   "metadata": {},
   "outputs": [
    {
     "name": "stdout",
     "output_type": "stream",
     "text": [
      "Model with best parameters :\n",
      " LogisticRegression(C=8.837472691586914, class_weight=None, dual=False,\n",
      "          fit_intercept=True, intercept_scaling=1, max_iter=100,\n",
      "          multi_class='ovr', n_jobs=1, penalty='l1', random_state=None,\n",
      "          solver='liblinear', tol=0.0001, verbose=0, warm_start=False)\n",
      "Accuracy of the model :  0.7401333333333333\n",
      "The optimal value of C(1/lambda) is :  8.837472691586914\n"
     ]
    }
   ],
   "source": [
    "# Create regularization hyperparameter distribution using uniform distribution\n",
    "C = uniform(loc=0, scale=10)\n",
    "\n",
    "# Create hyperparameter options\n",
    "hyperparameters = dict(C=C)\n",
    "\n",
    "#Using RandomizedSearchCV\n",
    "model = RandomizedSearchCV(LogisticRegression(penalty='l1'), hyperparameters, scoring='accuracy', cv=3,n_jobs=-1,pre_dispatch=2)\n",
    "model.fit(X_train_vec_standardized, Y_train)\n",
    "print(\"Model with best parameters :\\n\",model.best_estimator_)\n",
    "print(\"Accuracy of the model : \",model.score(X_test_vec_standardized, Y_test))\n",
    "\n",
    "optimal_C = model.best_estimator_.C\n",
    "print(\"The optimal value of C(1/lambda) is : \",optimal_C)\n",
    "\n",
    "# Logistic Regression with Optimal value of C i.e.(1/lambda)\n",
    "lr = LogisticRegression(penalty='l1', C=optimal_C, n_jobs=-1)\n",
    "lr.fit(X_train_vec_standardized,Y_train)\n",
    "predictions = lr.predict(X_test_vec_standardized)\n",
    "\n",
    "# Variables that will be used for  making table in Conclusion part of this assignment\n",
    "tfidf_w2v_l1_random_C = optimal_C\n",
    "tfidf_w2v_l1_random_train_acc = model.score(X_test_vec_standardized, Y_test)*100\n",
    "tfidf_w2v_l1_random_test_acc = accuracy_score(Y_test, predictions) * 100"
   ]
  },
  {
   "cell_type": "code",
   "execution_count": 109,
   "metadata": {},
   "outputs": [
    {
     "name": "stdout",
     "output_type": "stream",
     "text": [
      "\n",
      "The Test Accuracy of the Logistic Regression classifier for C = 8.837 is 74.013333%\n",
      "\n",
      "The Test Precision of the Logistic Regression classifier for C = 8.837 is 0.860060\n",
      "\n",
      "The Test Recall of the Logistic Regression classifier for C = 8.837 is 0.826116\n",
      "\n",
      "The Test F1-Score of the Logistic regression classifier for C = 8.837 is 0.842746\n"
     ]
    }
   ],
   "source": [
    "# evaluate accuracy\n",
    "acc = accuracy_score(Y_test, predictions) * 100\n",
    "print('\\nThe Test Accuracy of the Logistic Regression classifier for C = %.3f is %f%%' % (optimal_C, acc))\n",
    "\n",
    "# evaluate precision\n",
    "acc = precision_score(Y_test, predictions, pos_label = 'positive') \n",
    "print('\\nThe Test Precision of the Logistic Regression classifier for C = %.3f is %f' % (optimal_C, acc))\n",
    "\n",
    "# evaluate recall\n",
    "acc = recall_score(Y_test, predictions, pos_label = 'positive')\n",
    "print('\\nThe Test Recall of the Logistic Regression classifier for C = %.3f is %f' % (optimal_C, acc))\n",
    "\n",
    "# evaluate f1-score\n",
    "acc = f1_score(Y_test, predictions, pos_label = 'positive')\n",
    "print('\\nThe Test F1-Score of the Logistic regression classifier for C = %.3f is %f' % (optimal_C, acc))"
   ]
  },
  {
   "cell_type": "markdown",
   "metadata": {},
   "source": [
    "SEABORN HEATMAP FOR REPRESENTATION OF CONFUSION MATRIX :"
   ]
  },
  {
   "cell_type": "code",
   "execution_count": 110,
   "metadata": {},
   "outputs": [
    {
     "data": {
      "image/png": "[encoded data removed]",
      "text/plain": [
       "<Figure size 720x504 with 2 Axes>"
      ]
     },
     "metadata": {},
     "output_type": "display_data"
    }
   ],
   "source": [
    "# Code for drawing seaborn heatmaps\n",
    "class_names = ['negative','positive']\n",
    "df_heatmap = pd.DataFrame(confusion_matrix(Y_test, predictions), index=class_names, columns=class_names )\n",
    "fig = plt.figure(figsize=(10,7))\n",
    "heatmap = sns.heatmap(df_heatmap, annot=True, fmt=\"d\")\n",
    "\n",
    "# Setting tick labels for heatmap\n",
    "heatmap.yaxis.set_ticklabels(heatmap.yaxis.get_ticklabels(), rotation=0, ha='right', fontsize=14)\n",
    "heatmap.xaxis.set_ticklabels(heatmap.xaxis.get_ticklabels(), rotation=0, ha='right', fontsize=14)\n",
    "plt.ylabel('Predicted label',size=18)\n",
    "plt.xlabel('True label',size=18)\n",
    "plt.title(\"Confusion Matrix\\n\",size=24)\n",
    "plt.show()"
   ]
  },
  {
   "cell_type": "markdown",
   "metadata": {},
   "source": [
    "NOTE :- Here we can find out important features but they are not related to any words so they are not interpretable . I am not performing Multicollinearity Check and also not finding important features because they are not interpretable and hence it is irrelevant to find important features ."
   ]
  },
  {
   "cell_type": "markdown",
   "metadata": {},
   "source": [
    "# CONCLUSION :-"
   ]
  },
  {
   "cell_type": "markdown",
   "metadata": {},
   "source": [
    "# (a). Procedure followed :"
   ]
  },
  {
   "cell_type": "markdown",
   "metadata": {},
   "source": [
    "STEP 1 :- Text Preprocessing"
   ]
  },
  {
   "cell_type": "markdown",
   "metadata": {},
   "source": [
    "STEP 2:- Time-based splitting of whole dataset into train_data and test_data"
   ]
  },
  {
   "cell_type": "markdown",
   "metadata": {},
   "source": [
    "STEP 3:- Training the vectorizer on train_data and later applying same vectorizer on both train_data and test_data to transform them into vectors"
   ]
  },
  {
   "cell_type": "markdown",
   "metadata": {},
   "source": [
    "STEP 4:- Using Logistic regression as an estimator in both GridSearchCV and RandomizedSearchCV in order to find optimal value of C i.e(1/lambda) with both L1 and L2 regularisation"
   ]
  },
  {
   "cell_type": "markdown",
   "metadata": {},
   "source": [
    "STEP 5:- Once , we get optimal value of C then train Logistic Regression (both L1 and L2 regularisation) again with this optimal C and make predictions on test_data"
   ]
  },
  {
   "cell_type": "markdown",
   "metadata": {},
   "source": [
    "STEP 6 :- Evaluate : Accuracy , F1-Score , Precision , Recall "
   ]
  },
  {
   "cell_type": "markdown",
   "metadata": {},
   "source": [
    "STEP 7:- Draw Seaborn Heatmap for Confusion Matrix ."
   ]
  },
  {
   "cell_type": "markdown",
   "metadata": {},
   "source": [
    "STEP 8:- Perform multicollinearity check and find important features (Only for BoW and TFIDF vectorizers)"
   ]
  },
  {
   "cell_type": "markdown",
   "metadata": {},
   "source": [
    "STEP 9:- Creating more sparsity by increasing value of lambda i.e.(1/C) (Only for L1 regularisation)"
   ]
  },
  {
   "cell_type": "markdown",
   "metadata": {},
   "source": [
    "Repeat from STEP 3 to STEP 9 for each of these two vectorizers : Bag Of Words(BoW), TFIDF "
   ]
  },
  {
   "cell_type": "markdown",
   "metadata": {},
   "source": [
    "Repeat from STEP 3 to STEP 9 (except STEP 8) for each of these two vectorizers :  Avg Word2Vec and TFIDF Word2Vec"
   ]
  },
  {
   "cell_type": "markdown",
   "metadata": {},
   "source": [
    "# (b). Table (Model Performances with their hyperparameters :"
   ]
  },
  {
   "cell_type": "code",
   "execution_count": 114,
   "metadata": {},
   "outputs": [
    {
     "name": "stdout",
     "output_type": "stream",
     "text": [
      "NOTE:- In the Table below in 'MODEL' column :\n",
      "\t LR(l2|GridSearchCV) : Logistic Regression with L2 regularisation as an estimator in GridSearchCV\n",
      "\t LR(l1|GridSearchCV) : Logistic Regression with L1 regularisation as an estimator in GridSearchCV\n",
      "\t LR(l2|RandomizedSearchCV) : Logistic Regression with L2 regularisation as an estimator in RandomizedSearchCV\n",
      "\t LR(l1|RandomizedSearchCV) : Logistic Regression with L1 regularisation as an estimator in RandomizedSearchCV\n",
      "\n",
      "\n",
      "+-------+----------------------------------------------+---------------------+-------------------+-------------------+\n",
      "| S.NO. |                    MODEL                     |   Best C(1/lambda)  | Training Accuracy |   Test Accuracy   |\n",
      "+-------+----------------------------------------------+---------------------+-------------------+-------------------+\n",
      "|   1   |         LR(l2|GridSearchCV) for BoW          |         0.01        | 92.20347671661739 | 92.20347671661739 |\n",
      "|   2   |      LR(l2|RandomizedSearchCV) for BoW       |  1.4275875917132186 | 92.19798427330397 | 92.19798427330397 |\n",
      "|   3   |         LR(l1|GridSearchCV) for BoW          |         0.01        | 92.24558544868685 | 92.24741626312465 |\n",
      "|   4   |      LR(l1|RandomizedSearchCV) for BoW       | 0.20062843367622873 | 92.22361567543321 | 92.22636189708993 |\n",
      "|   5   |        LR(l2|GridSearchCV) for TFIDF         |         0.01        | 92.45704451625305 | 92.45704451625305 |\n",
      "|   6   |     LR(l2|RandomizedSearchCV) for TFIDF      |  4.827593247007973  | 92.43782096465613 | 92.43782096465613 |\n",
      "|   7   |        LR(l1|GridSearchCV) for TFIDF         |         0.01        | 92.58886315577485 | 92.58977856299376 |\n",
      "|   8   |     LR(l1|RandomizedSearchCV) for TFIDF      |  0.8718584489029746 | 92.44697503684513 | 92.44789044406404 |\n",
      "|   9   |     LR(l2|GridSearchCV) for Avg_Word2Vec     |         100         | 89.96805228806033 | 89.96805228806033 |\n",
      "|   10  |  LR(l2|RandomizedSearchCV) for Avg_Word2Vec  |  3.4697855417732635 | 89.96805228806033 | 89.96805228806033 |\n",
      "|   11  |     LR(l1|GridSearchCV) for Avg_Word2Vec     |        10000        | 89.96713688084145 | 89.96805228806033 |\n",
      "|   12  |  LR(l1|RandomizedSearchCV) for Avg_Word2Vec  |  8.218180574199001  | 89.96622147362254 | 89.96622147362254 |\n",
      "|   13  |    LR(l2|GridSearchCV) for tfidf_Word2Vec    |         100         | 74.00999999999999 | 74.00999999999999 |\n",
      "|   14  | LR(l2|RandomizedSearchCV) for tfidf_Word2Vec |   4.63926046784341  | 74.01333333333334 | 74.01333333333334 |\n",
      "|   15  |    LR(l1|GridSearchCV) for tfidf_Word2Vec    |         100         | 74.01333333333334 | 74.01333333333334 |\n",
      "|   16  | LR(l1|RandomizedSearchCV) for tfidf_Word2Vec |  8.837472691586914  | 74.01333333333334 | 74.01333333333334 |\n",
      "+-------+----------------------------------------------+---------------------+-------------------+-------------------+\n"
     ]
    }
   ],
   "source": [
    "# Creating table using PrettyTable library\n",
    "from prettytable import PrettyTable\n",
    "\n",
    "# Names of models\n",
    "names = ['LR(l2|GridSearchCV) for BoW','LR(l2|RandomizedSearchCV) for BoW','LR(l1|GridSearchCV) for BoW',\\\n",
    "         'LR(l1|RandomizedSearchCV) for BoW','LR(l2|GridSearchCV) for TFIDF','LR(l2|RandomizedSearchCV) for TFIDF',\\\n",
    "         'LR(l1|GridSearchCV) for TFIDF','LR(l1|RandomizedSearchCV) for TFIDF','LR(l2|GridSearchCV) for Avg_Word2Vec',\\\n",
    "         'LR(l2|RandomizedSearchCV) for Avg_Word2Vec','LR(l1|GridSearchCV) for Avg_Word2Vec',\\\n",
    "         'LR(l1|RandomizedSearchCV) for Avg_Word2Vec','LR(l2|GridSearchCV) for tfidf_Word2Vec',\\\n",
    "         'LR(l2|RandomizedSearchCV) for tfidf_Word2Vec','LR(l1|GridSearchCV) for tfidf_Word2Vec',\\\n",
    "         'LR(l1|RandomizedSearchCV) for tfidf_Word2Vec']\n",
    "\n",
    "# Optimal values of C i.e. (1/lambda)\n",
    "optimal_C = [bow_l2_grid_C,bow_l2_random_C,bow_l1_grid_C,bow_l1_random_C,\\\n",
    "             tfidf_l2_grid_C,tfidf_l2_random_C,tfidf_l1_grid_C,tfidf_l1_random_C,\\\n",
    "             avg_w2v_l2_grid_C,avg_w2v_l2_random_C,avg_w2v_l1_grid_C,avg_w2v_l1_random_C,\\\n",
    "             tfidf_w2v_l2_grid_C,tfidf_w2v_l2_random_C,tfidf_w2v_l1_grid_C,tfidf_w2v_l1_random_C]\n",
    "\n",
    "# Training accuracies\n",
    "train_acc = [bow_l2_grid_train_acc,bow_l2_random_train_acc,bow_l1_grid_train_acc,bow_l1_random_train_acc,\\\n",
    "             tfidf_l2_grid_train_acc,tfidf_l2_random_train_acc,tfidf_l1_grid_train_acc,tfidf_l1_random_train_acc,\\\n",
    "             avg_w2v_l2_grid_train_acc,avg_w2v_l2_random_train_acc,avg_w2v_l1_grid_train_acc,avg_w2v_l1_random_train_acc,\\\n",
    "             tfidf_w2v_l2_grid_train_acc,tfidf_w2v_l2_random_train_acc,tfidf_w2v_l1_grid_train_acc,\\\n",
    "             tfidf_w2v_l1_random_train_acc]\n",
    "\n",
    "# Test accuracies\n",
    "test_acc = [bow_l2_grid_test_acc,bow_l2_random_test_acc,bow_l1_grid_test_acc,bow_l1_random_test_acc,\\\n",
    "             tfidf_l2_grid_test_acc,tfidf_l2_random_test_acc,tfidf_l1_grid_test_acc,tfidf_l1_random_test_acc,\\\n",
    "             avg_w2v_l2_grid_test_acc,avg_w2v_l2_random_test_acc,avg_w2v_l1_grid_test_acc,avg_w2v_l1_random_test_acc,\\\n",
    "             tfidf_w2v_l2_grid_test_acc,tfidf_w2v_l2_random_test_acc,tfidf_w2v_l1_grid_test_acc,tfidf_w2v_l1_random_test_acc]\n",
    "\n",
    "numbering = [1,2,3,4,5,6,7,8,9,10,11,12,13,14,15,16]\n",
    "\n",
    "# Initializing prettytable\n",
    "ptable = PrettyTable()\n",
    "\n",
    "# Adding columns\n",
    "ptable.add_column(\"S.NO.\",numbering)\n",
    "ptable.add_column(\"MODEL\",names)\n",
    "ptable.add_column(\"Best C(1/lambda)\",optimal_C)\n",
    "ptable.add_column(\"Training Accuracy\",train_acc)\n",
    "ptable.add_column(\"Test Accuracy\",test_acc)\n",
    "\n",
    "\n",
    "# Printing note regarding information of \"MODEL\" column in the table\n",
    "print(\"NOTE:- In the Table below in 'MODEL' column :\")\n",
    "print(\"\\t LR(l2|GridSearchCV) : Logistic Regression with L2 regularisation as an estimator in GridSearchCV\")\n",
    "print(\"\\t LR(l1|GridSearchCV) : Logistic Regression with L1 regularisation as an estimator in GridSearchCV\")\n",
    "print(\"\\t LR(l2|RandomizedSearchCV) : Logistic Regression with L2 regularisation as an estimator in RandomizedSearchCV\")\n",
    "print(\"\\t LR(l1|RandomizedSearchCV) : Logistic Regression with L1 regularisation as an estimator in RandomizedSearchCV\\n\\n\")\n",
    "# Printing the Table\n",
    "print(ptable)"
   ]
  },
  {
   "cell_type": "code",
   "execution_count": null,
   "metadata": {},
   "outputs": [],
   "source": []
  }
 ],
 "metadata": {
  "kernelspec": {
   "display_name": "Python 3",
   "language": "python",
   "name": "python3"
  },
  "language_info": {
   "codemirror_mode": {
    "name": "ipython",
    "version": 3
   },
   "file_extension": ".py",
   "mimetype": "text/x-python",
   "name": "python",
   "nbconvert_exporter": "python",
   "pygments_lexer": "ipython3",
   "version": "3.6.5"
  }
 },
 "nbformat": 4,
 "nbformat_minor": 2
}
